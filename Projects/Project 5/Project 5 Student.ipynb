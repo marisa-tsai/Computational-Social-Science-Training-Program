{
 "cells": [
  {
   "cell_type": "markdown",
   "metadata": {},
   "source": [
    "## [Computational Social Science] Project 5: Natural Language Processing"
   ]
  },
  {
   "cell_type": "markdown",
   "metadata": {},
   "source": [
    "In this project, you will use natural language processing techniques to explore a dataset containing tweets from members of the 116th United States Congress that met from January 3, 2019 to January 2, 2021. The dataset has also been cleaned to contain information about each legislator. Concretely, you will do the following:\n",
    "\n",
    "* Preprocess the text of legislators' tweets\n",
    "* Conduct Exploratory Data Analysis of the text\n",
    "* Use sentiment analysis to explore differences between legislators' tweets\n",
    "* Featurize text with manual feature engineering, frequency-based, and vector-based techniques\n",
    "* Predict legislators' political parties and whether they are a Senator or Representative\n",
    "\n",
    "You will explore two questions that relate to two central findings in political science and examine how they relate to the text of legislators' tweets. First, political scientists have argued that U.S. politics is currently highly polarized relative to other periods in American history, but also that the polarization is asymmetric. Historically, there were several conservative Democrats (i.e. \"blue dog Democrats\") and liberal Republicans (i.e. \"Rockefeller Republicans\"), as measured by popular measurement tools like [DW-NOMINATE](https://en.wikipedia.org/wiki/NOMINATE_(scaling_method)#:~:text=DW\\%2DNOMINATE\\%20scores\\%20have\\%20been,in\\%20the\\%20liberal\\%2Dconservative\\%20scale.). However, in the last few years, there are few if any examples of any Democrat in Congress being further to the right than any Republican and vice versa. At the same time, scholars have argued that this polarization is mostly a function of the Republican party moving further right than the Democratic party has moved left. **Does this sort of asymmetric polarization show up in how politicians communicate to their constituents through tweets?**\n",
    "\n",
    "Second, the U.S. Congress is a bicameral legislature, and there has long been debate about partisanship in the Senate versus the House. The House of Representatives is apportioned by population and all members serve two year terms. In the Senate, each state receives two Senators and each Senator serves a term of six years. For a variety of reasons (smaller chamber size, more insulation from the voters, rules and norms like the filibuster, etc.), the Senate has been argued to be the \"cooling saucer\" of Congress in that it is more bipartisan and moderate than the House. **Does the theory that the Senate is more moderate have support in Senators' tweets?**\n",
    "\n",
    "**Note**: See the project handout for more details on caveats and the data dictionary."
   ]
  },
  {
   "cell_type": "code",
   "execution_count": 1,
   "metadata": {
    "tags": []
   },
   "outputs": [],
   "source": [
    "# pandas and numpy\n",
    "import pandas as pd\n",
    "import numpy as numpy\n",
    "\n",
    "# punctuation, stop words and English language model\n",
    "from string import punctuation\n",
    "from spacy.lang.en.stop_words import STOP_WORDS\n",
    "import en_core_web_sm\n",
    "nlp = en_core_web_sm.load()\n",
    "\n",
    "# textblob\n",
    "from textblob import TextBlob\n",
    "\n",
    "# countvectorizer, tfidfvectorizer\n",
    "from sklearn.feature_extraction.text import CountVectorizer, TfidfVectorizer\n",
    "\n",
    "# gensim\n",
    "import gensim\n",
    "from gensim import models\n",
    "\n",
    "# plotting\n",
    "import matplotlib.pyplot as plt\n",
    "import seaborn as sns\n",
    "%matplotlib inline"
   ]
  },
  {
   "cell_type": "code",
   "execution_count": 53,
   "metadata": {
    "tags": []
   },
   "outputs": [
    {
     "data": {
      "text/html": [
       "<div>\n",
       "<style scoped>\n",
       "    .dataframe tbody tr th:only-of-type {\n",
       "        vertical-align: middle;\n",
       "    }\n",
       "\n",
       "    .dataframe tbody tr th {\n",
       "        vertical-align: top;\n",
       "    }\n",
       "\n",
       "    .dataframe thead th {\n",
       "        text-align: right;\n",
       "    }\n",
       "</style>\n",
       "<table border=\"1\" class=\"dataframe\">\n",
       "  <thead>\n",
       "    <tr style=\"text-align: right;\">\n",
       "      <th></th>\n",
       "      <th>tweet_id</th>\n",
       "      <th>screen_name</th>\n",
       "      <th>datetime</th>\n",
       "      <th>text</th>\n",
       "      <th>name_wikipedia</th>\n",
       "      <th>position</th>\n",
       "      <th>joined_congress_date</th>\n",
       "      <th>birthday</th>\n",
       "      <th>gender</th>\n",
       "      <th>state</th>\n",
       "      <th>district_number</th>\n",
       "      <th>party</th>\n",
       "      <th>trump_2016_state_share</th>\n",
       "      <th>clinton_2016_state_share</th>\n",
       "      <th>obama_2012_state_share</th>\n",
       "      <th>romney_2012_state_share</th>\n",
       "    </tr>\n",
       "  </thead>\n",
       "  <tbody>\n",
       "    <tr>\n",
       "      <th>668830</th>\n",
       "      <td>1.236490e+18</td>\n",
       "      <td>SenJeffMerkley</td>\n",
       "      <td>2020-03-07T22:30:57-05:00</td>\n",
       "      <td>RT @drdonmooreiii We got to seal-ebrate our co...</td>\n",
       "      <td>Jeff Merkley</td>\n",
       "      <td>Sen</td>\n",
       "      <td>3-Jan-09</td>\n",
       "      <td>10/24/1956</td>\n",
       "      <td>M</td>\n",
       "      <td>OR</td>\n",
       "      <td>Senate</td>\n",
       "      <td>Democrat</td>\n",
       "      <td>782,403</td>\n",
       "      <td>1,002,106</td>\n",
       "      <td>970,488</td>\n",
       "      <td>754,175</td>\n",
       "    </tr>\n",
       "    <tr>\n",
       "      <th>539779</th>\n",
       "      <td>1.111010e+18</td>\n",
       "      <td>SenatorTomUdall</td>\n",
       "      <td>2019-03-27T16:41:14-04:00</td>\n",
       "      <td>This is about the people versus the special in...</td>\n",
       "      <td>Tom Udall</td>\n",
       "      <td>Sen</td>\n",
       "      <td>3-Jan-09</td>\n",
       "      <td>5/18/1948</td>\n",
       "      <td>M</td>\n",
       "      <td>NM</td>\n",
       "      <td>Senate</td>\n",
       "      <td>Democrat</td>\n",
       "      <td>319,667</td>\n",
       "      <td>385,234</td>\n",
       "      <td>415,335</td>\n",
       "      <td>335,788</td>\n",
       "    </tr>\n",
       "    <tr>\n",
       "      <th>318329</th>\n",
       "      <td>1.179550e+18</td>\n",
       "      <td>RepJimBanks</td>\n",
       "      <td>2019-10-02T20:01:44-04:00</td>\n",
       "      <td>RT @LouDobbs Bad Actors deserve to pay for the...</td>\n",
       "      <td>Jim Banks</td>\n",
       "      <td>Rep</td>\n",
       "      <td>3-Jan-17</td>\n",
       "      <td>7/16/1979</td>\n",
       "      <td>M</td>\n",
       "      <td>IN</td>\n",
       "      <td>3</td>\n",
       "      <td>Republican</td>\n",
       "      <td>1,557,286</td>\n",
       "      <td>1,033,126</td>\n",
       "      <td>1,152,887</td>\n",
       "      <td>1,420,543</td>\n",
       "    </tr>\n",
       "    <tr>\n",
       "      <th>80519</th>\n",
       "      <td>1.149820e+18</td>\n",
       "      <td>RepCarbajal</td>\n",
       "      <td>2019-07-12T19:32:01-04:00</td>\n",
       "      <td>This measure also included millions in researc...</td>\n",
       "      <td>Salud Carbajal</td>\n",
       "      <td>Rep</td>\n",
       "      <td>3-Jan-17</td>\n",
       "      <td>11/18/1964</td>\n",
       "      <td>M</td>\n",
       "      <td>CA</td>\n",
       "      <td>24</td>\n",
       "      <td>Democrat</td>\n",
       "      <td>4,483,814</td>\n",
       "      <td>8,753,792</td>\n",
       "      <td>7,854,285</td>\n",
       "      <td>4,839,958</td>\n",
       "    </tr>\n",
       "    <tr>\n",
       "      <th>375408</th>\n",
       "      <td>1.148970e+18</td>\n",
       "      <td>RepCummings</td>\n",
       "      <td>2019-07-10T11:01:04-04:00</td>\n",
       "      <td>RT @OversightDems BREAKING: Chairman @RepCummi...</td>\n",
       "      <td>Elijah Cummings</td>\n",
       "      <td>Rep</td>\n",
       "      <td>16-Apr-96</td>\n",
       "      <td>1/18/1951</td>\n",
       "      <td>M</td>\n",
       "      <td>MD</td>\n",
       "      <td>7</td>\n",
       "      <td>Democrat</td>\n",
       "      <td>943,169</td>\n",
       "      <td>1,677,928</td>\n",
       "      <td>1,677,844</td>\n",
       "      <td>971,869</td>\n",
       "    </tr>\n",
       "  </tbody>\n",
       "</table>\n",
       "</div>"
      ],
      "text/plain": [
       "            tweet_id      screen_name                   datetime  \\\n",
       "668830  1.236490e+18   SenJeffMerkley  2020-03-07T22:30:57-05:00   \n",
       "539779  1.111010e+18  SenatorTomUdall  2019-03-27T16:41:14-04:00   \n",
       "318329  1.179550e+18      RepJimBanks  2019-10-02T20:01:44-04:00   \n",
       "80519   1.149820e+18      RepCarbajal  2019-07-12T19:32:01-04:00   \n",
       "375408  1.148970e+18      RepCummings  2019-07-10T11:01:04-04:00   \n",
       "\n",
       "                                                     text   name_wikipedia  \\\n",
       "668830  RT @drdonmooreiii We got to seal-ebrate our co...     Jeff Merkley   \n",
       "539779  This is about the people versus the special in...        Tom Udall   \n",
       "318329  RT @LouDobbs Bad Actors deserve to pay for the...        Jim Banks   \n",
       "80519   This measure also included millions in researc...   Salud Carbajal   \n",
       "375408  RT @OversightDems BREAKING: Chairman @RepCummi...  Elijah Cummings   \n",
       "\n",
       "       position joined_congress_date    birthday gender state district_number  \\\n",
       "668830      Sen             3-Jan-09  10/24/1956      M    OR          Senate   \n",
       "539779      Sen             3-Jan-09   5/18/1948      M    NM          Senate   \n",
       "318329      Rep             3-Jan-17   7/16/1979      M    IN               3   \n",
       "80519       Rep             3-Jan-17  11/18/1964      M    CA              24   \n",
       "375408      Rep            16-Apr-96   1/18/1951      M    MD               7   \n",
       "\n",
       "             party trump_2016_state_share clinton_2016_state_share  \\\n",
       "668830    Democrat                782,403                1,002,106   \n",
       "539779    Democrat                319,667                  385,234   \n",
       "318329  Republican              1,557,286                1,033,126   \n",
       "80519     Democrat              4,483,814                8,753,792   \n",
       "375408    Democrat                943,169                1,677,928   \n",
       "\n",
       "       obama_2012_state_share romney_2012_state_share  \n",
       "668830                970,488                 754,175  \n",
       "539779                415,335                 335,788  \n",
       "318329              1,152,887               1,420,543  \n",
       "80519               7,854,285               4,839,958  \n",
       "375408              1,677,844                 971,869  "
      ]
     },
     "execution_count": 53,
     "metadata": {},
     "output_type": "execute_result"
    }
   ],
   "source": [
    "# load data \n",
    "# ----------\n",
    "congress_tweets = pd.read_csv(\"/Users/marisatsai/Downloads/data 2/116th Congressional Tweets and Demographics.csv\")\n",
    "# fill in this line of code with a sufficient number of tweets, depending on your computational resources\n",
    "congress_tweets = congress_tweets.sample(100)\n",
    "congress_tweets.head()"
   ]
  },
  {
   "cell_type": "markdown",
   "metadata": {},
   "source": [
    "## Preprocessing"
   ]
  },
  {
   "cell_type": "markdown",
   "metadata": {},
   "source": [
    "The first step in working with text data is to preprocess it. Make sure you do the following:\n",
    "\n",
    "* Remove punctuation and stop words. The `rem_punc_stop()` function we used in lab is provided to you but you should feel free to edit it as necessary for other steps\n",
    "* Remove tokens that occur frequently in tweets, but may not be helpful for downstream classification. For instance, many tweets contain a flag for retweeting, or share a URL \n",
    "\n",
    "As you search online, you might run into solutions that rely on regular expressions. You are free to use these, but you should also be able to preprocess using the techniques we covered in lab. Specifically, we encourage you to use spaCy's token attributes and string methods to do some of this text preprocessing."
   ]
  },
  {
   "cell_type": "code",
   "execution_count": 54,
   "metadata": {
    "tags": []
   },
   "outputs": [],
   "source": [
    "def rem_punc_stop(text):\n",
    "    stop_words = STOP_WORDS\n",
    "    punc = set(punctuation)\n",
    "    \n",
    "    punc_free = \"\".join([ch for ch in text if ch not in punc])\n",
    "    \n",
    "    doc = nlp(punc_free)\n",
    "    \n",
    "    spacy_words = [token.text for token in doc]\n",
    "    \n",
    "    spacy_words = [word for word in spacy_words if not word.startswith('http')]\n",
    "    \n",
    "    no_punc = [word for word in spacy_words if word not in stop_words]\n",
    "    \n",
    "    return no_punc"
   ]
  },
  {
   "cell_type": "code",
   "execution_count": 55,
   "metadata": {
    "tags": []
   },
   "outputs": [
    {
     "data": {
      "text/html": [
       "<div>\n",
       "<style scoped>\n",
       "    .dataframe tbody tr th:only-of-type {\n",
       "        vertical-align: middle;\n",
       "    }\n",
       "\n",
       "    .dataframe tbody tr th {\n",
       "        vertical-align: top;\n",
       "    }\n",
       "\n",
       "    .dataframe thead th {\n",
       "        text-align: right;\n",
       "    }\n",
       "</style>\n",
       "<table border=\"1\" class=\"dataframe\">\n",
       "  <thead>\n",
       "    <tr style=\"text-align: right;\">\n",
       "      <th></th>\n",
       "      <th>tweet_id</th>\n",
       "      <th>screen_name</th>\n",
       "      <th>datetime</th>\n",
       "      <th>text</th>\n",
       "      <th>name_wikipedia</th>\n",
       "      <th>position</th>\n",
       "      <th>joined_congress_date</th>\n",
       "      <th>birthday</th>\n",
       "      <th>gender</th>\n",
       "      <th>state</th>\n",
       "      <th>district_number</th>\n",
       "      <th>party</th>\n",
       "      <th>trump_2016_state_share</th>\n",
       "      <th>clinton_2016_state_share</th>\n",
       "      <th>obama_2012_state_share</th>\n",
       "      <th>romney_2012_state_share</th>\n",
       "    </tr>\n",
       "  </thead>\n",
       "  <tbody>\n",
       "    <tr>\n",
       "      <th>668830</th>\n",
       "      <td>1.236490e+18</td>\n",
       "      <td>SenJeffMerkley</td>\n",
       "      <td>2020-03-07T22:30:57-05:00</td>\n",
       "      <td>RT @drdonmooreiii We got to seal-ebrate our co...</td>\n",
       "      <td>Jeff Merkley</td>\n",
       "      <td>Sen</td>\n",
       "      <td>3-Jan-09</td>\n",
       "      <td>10/24/1956</td>\n",
       "      <td>M</td>\n",
       "      <td>OR</td>\n",
       "      <td>Senate</td>\n",
       "      <td>Democrat</td>\n",
       "      <td>782,403</td>\n",
       "      <td>1,002,106</td>\n",
       "      <td>970,488</td>\n",
       "      <td>754,175</td>\n",
       "    </tr>\n",
       "    <tr>\n",
       "      <th>539779</th>\n",
       "      <td>1.111010e+18</td>\n",
       "      <td>SenatorTomUdall</td>\n",
       "      <td>2019-03-27T16:41:14-04:00</td>\n",
       "      <td>This is about the people versus the special in...</td>\n",
       "      <td>Tom Udall</td>\n",
       "      <td>Sen</td>\n",
       "      <td>3-Jan-09</td>\n",
       "      <td>5/18/1948</td>\n",
       "      <td>M</td>\n",
       "      <td>NM</td>\n",
       "      <td>Senate</td>\n",
       "      <td>Democrat</td>\n",
       "      <td>319,667</td>\n",
       "      <td>385,234</td>\n",
       "      <td>415,335</td>\n",
       "      <td>335,788</td>\n",
       "    </tr>\n",
       "    <tr>\n",
       "      <th>318329</th>\n",
       "      <td>1.179550e+18</td>\n",
       "      <td>RepJimBanks</td>\n",
       "      <td>2019-10-02T20:01:44-04:00</td>\n",
       "      <td>RT @LouDobbs Bad Actors deserve to pay for the...</td>\n",
       "      <td>Jim Banks</td>\n",
       "      <td>Rep</td>\n",
       "      <td>3-Jan-17</td>\n",
       "      <td>7/16/1979</td>\n",
       "      <td>M</td>\n",
       "      <td>IN</td>\n",
       "      <td>3</td>\n",
       "      <td>Republican</td>\n",
       "      <td>1,557,286</td>\n",
       "      <td>1,033,126</td>\n",
       "      <td>1,152,887</td>\n",
       "      <td>1,420,543</td>\n",
       "    </tr>\n",
       "    <tr>\n",
       "      <th>80519</th>\n",
       "      <td>1.149820e+18</td>\n",
       "      <td>RepCarbajal</td>\n",
       "      <td>2019-07-12T19:32:01-04:00</td>\n",
       "      <td>This measure also included millions in researc...</td>\n",
       "      <td>Salud Carbajal</td>\n",
       "      <td>Rep</td>\n",
       "      <td>3-Jan-17</td>\n",
       "      <td>11/18/1964</td>\n",
       "      <td>M</td>\n",
       "      <td>CA</td>\n",
       "      <td>24</td>\n",
       "      <td>Democrat</td>\n",
       "      <td>4,483,814</td>\n",
       "      <td>8,753,792</td>\n",
       "      <td>7,854,285</td>\n",
       "      <td>4,839,958</td>\n",
       "    </tr>\n",
       "    <tr>\n",
       "      <th>375408</th>\n",
       "      <td>1.148970e+18</td>\n",
       "      <td>RepCummings</td>\n",
       "      <td>2019-07-10T11:01:04-04:00</td>\n",
       "      <td>RT @OversightDems BREAKING: Chairman @RepCummi...</td>\n",
       "      <td>Elijah Cummings</td>\n",
       "      <td>Rep</td>\n",
       "      <td>16-Apr-96</td>\n",
       "      <td>1/18/1951</td>\n",
       "      <td>M</td>\n",
       "      <td>MD</td>\n",
       "      <td>7</td>\n",
       "      <td>Democrat</td>\n",
       "      <td>943,169</td>\n",
       "      <td>1,677,928</td>\n",
       "      <td>1,677,844</td>\n",
       "      <td>971,869</td>\n",
       "    </tr>\n",
       "  </tbody>\n",
       "</table>\n",
       "</div>"
      ],
      "text/plain": [
       "            tweet_id      screen_name                   datetime  \\\n",
       "668830  1.236490e+18   SenJeffMerkley  2020-03-07T22:30:57-05:00   \n",
       "539779  1.111010e+18  SenatorTomUdall  2019-03-27T16:41:14-04:00   \n",
       "318329  1.179550e+18      RepJimBanks  2019-10-02T20:01:44-04:00   \n",
       "80519   1.149820e+18      RepCarbajal  2019-07-12T19:32:01-04:00   \n",
       "375408  1.148970e+18      RepCummings  2019-07-10T11:01:04-04:00   \n",
       "\n",
       "                                                     text   name_wikipedia  \\\n",
       "668830  RT @drdonmooreiii We got to seal-ebrate our co...     Jeff Merkley   \n",
       "539779  This is about the people versus the special in...        Tom Udall   \n",
       "318329  RT @LouDobbs Bad Actors deserve to pay for the...        Jim Banks   \n",
       "80519   This measure also included millions in researc...   Salud Carbajal   \n",
       "375408  RT @OversightDems BREAKING: Chairman @RepCummi...  Elijah Cummings   \n",
       "\n",
       "       position joined_congress_date    birthday gender state district_number  \\\n",
       "668830      Sen             3-Jan-09  10/24/1956      M    OR          Senate   \n",
       "539779      Sen             3-Jan-09   5/18/1948      M    NM          Senate   \n",
       "318329      Rep             3-Jan-17   7/16/1979      M    IN               3   \n",
       "80519       Rep             3-Jan-17  11/18/1964      M    CA              24   \n",
       "375408      Rep            16-Apr-96   1/18/1951      M    MD               7   \n",
       "\n",
       "             party trump_2016_state_share clinton_2016_state_share  \\\n",
       "668830    Democrat                782,403                1,002,106   \n",
       "539779    Democrat                319,667                  385,234   \n",
       "318329  Republican              1,557,286                1,033,126   \n",
       "80519     Democrat              4,483,814                8,753,792   \n",
       "375408    Democrat                943,169                1,677,928   \n",
       "\n",
       "       obama_2012_state_share romney_2012_state_share  \n",
       "668830                970,488                 754,175  \n",
       "539779                415,335                 335,788  \n",
       "318329              1,152,887               1,420,543  \n",
       "80519               7,854,285               4,839,958  \n",
       "375408              1,677,844                 971,869  "
      ]
     },
     "execution_count": 55,
     "metadata": {},
     "output_type": "execute_result"
    }
   ],
   "source": [
    "congress_tweets.head()"
   ]
  },
  {
   "cell_type": "markdown",
   "metadata": {},
   "source": [
    "## Exploratory Data Analysis"
   ]
  },
  {
   "cell_type": "markdown",
   "metadata": {},
   "source": [
    "Use two of the techniques we covered in lab (or other techniques outside of lab!) to explore the text of the tweets. You should construct these visualizations with an eye toward the eventual classification tasks: (1) predicting the legislator's political party based on the text of their tweet, and (2) predicting whether the legislator is a Senator or Representative. As a reminder, in lab we covered word frequencies, word clouds, word/character counts, scattertext, and topic modeling as possible exploration tools. "
   ]
  },
  {
   "cell_type": "markdown",
   "metadata": {},
   "source": [
    "### EDA 1"
   ]
  },
  {
   "cell_type": "code",
   "execution_count": 5,
   "metadata": {
    "tags": []
   },
   "outputs": [],
   "source": [
    "#word frequencies\n",
    "# load libraries\n",
    "# ----------\n",
    "from sklearn.feature_extraction.text import CountVectorizer,TfidfVectorizer\n"
   ]
  },
  {
   "cell_type": "code",
   "execution_count": 6,
   "metadata": {
    "tags": []
   },
   "outputs": [],
   "source": [
    "# initalize CountVectorizer and specify some parameters\n",
    "# ----------\n",
    "bow_vector = CountVectorizer(tokenizer = rem_punc_stop, # use our function for tokenizing created above\n",
    "                             token_pattern = None,      # set to \"None\" since we have specify our own pattern\n",
    "                             ngram_range=(1,1))         # use default for unigrams - see documentation"
   ]
  },
  {
   "cell_type": "code",
   "execution_count": 7,
   "metadata": {
    "tags": []
   },
   "outputs": [],
   "source": [
    "# fit and transform just a subset of our data\n",
    "# ----------\n",
    "bow_matrix = bow_vector.fit_transform(congress_tweets['text'][0:5]) "
   ]
  },
  {
   "cell_type": "code",
   "execution_count": 8,
   "metadata": {
    "tags": []
   },
   "outputs": [
    {
     "data": {
      "text/plain": [
       "matrix([[0, 1, 1, 1, 0, 0, 0, 0, 0, 0, 0, 0, 0, 0, 2, 0, 0, 0, 0, 0, 0,\n",
       "         0, 0, 0, 0, 0, 0, 0, 0, 0, 0, 0, 0, 0, 0, 0, 0, 0, 0, 0, 0, 0,\n",
       "         0, 0, 0, 0, 0, 0, 0, 0, 0, 0, 0, 0, 1, 0, 0, 0, 0, 0, 0, 0, 0,\n",
       "         0, 1, 1, 0, 0, 0, 0, 1, 0, 0, 0, 2, 1, 0, 0, 0, 0, 0, 0, 0, 0,\n",
       "         0, 1, 0, 1, 0, 0, 0, 1, 0, 0, 0, 0, 0, 0, 0, 0, 0, 0, 0, 0, 1,\n",
       "         0, 1, 0, 0, 0, 0, 0, 0, 0, 0, 0, 0, 0, 0, 0, 0],\n",
       "        [1, 0, 0, 0, 0, 0, 0, 0, 0, 0, 0, 0, 1, 0, 0, 1, 0, 0, 1, 0, 0,\n",
       "         0, 0, 0, 0, 0, 1, 0, 0, 0, 0, 0, 0, 1, 0, 0, 0, 0, 0, 0, 0, 0,\n",
       "         0, 0, 1, 0, 1, 0, 0, 0, 0, 0, 0, 0, 0, 0, 0, 0, 0, 0, 1, 0, 0,\n",
       "         0, 0, 0, 0, 0, 0, 0, 0, 1, 0, 0, 0, 0, 0, 1, 0, 0, 0, 0, 0, 0,\n",
       "         0, 0, 0, 0, 0, 0, 0, 0, 0, 0, 0, 1, 0, 0, 1, 0, 0, 0, 0, 0, 0,\n",
       "         1, 0, 0, 0, 1, 0, 0, 0, 0, 0, 0, 0, 0, 0, 1, 1],\n",
       "        [2, 0, 0, 0, 2, 0, 1, 1, 0, 0, 0, 1, 0, 0, 0, 0, 0, 1, 0, 0, 1,\n",
       "         1, 0, 1, 2, 1, 0, 0, 0, 0, 1, 0, 1, 0, 0, 1, 1, 1, 1, 1, 0, 1,\n",
       "         0, 1, 0, 0, 0, 1, 0, 1, 0, 0, 0, 1, 0, 1, 0, 1, 0, 0, 0, 1, 0,\n",
       "         1, 0, 0, 1, 1, 1, 0, 0, 0, 0, 0, 0, 0, 1, 0, 0, 0, 0, 1, 0, 1,\n",
       "         0, 0, 1, 0, 1, 2, 1, 0, 2, 1, 0, 0, 1, 1, 0, 1, 0, 1, 0, 1, 0,\n",
       "         0, 0, 0, 0, 0, 0, 1, 0, 1, 1, 0, 1, 1, 1, 0, 0],\n",
       "        [0, 0, 0, 0, 0, 0, 0, 0, 0, 1, 1, 1, 0, 1, 0, 0, 0, 0, 0, 1, 0,\n",
       "         0, 0, 0, 0, 0, 0, 1, 1, 0, 0, 0, 0, 0, 1, 0, 0, 0, 0, 0, 0, 0,\n",
       "         0, 0, 0, 1, 0, 0, 1, 0, 1, 0, 0, 0, 0, 0, 1, 0, 0, 0, 0, 0, 1,\n",
       "         0, 0, 0, 0, 0, 0, 0, 0, 0, 1, 1, 0, 0, 0, 0, 1, 0, 0, 0, 1, 0,\n",
       "         0, 0, 0, 0, 0, 0, 0, 0, 0, 0, 1, 0, 0, 0, 0, 0, 1, 0, 0, 0, 0,\n",
       "         0, 0, 1, 0, 0, 0, 0, 1, 0, 0, 1, 0, 0, 0, 0, 0],\n",
       "        [0, 2, 0, 0, 0, 1, 0, 4, 1, 0, 0, 0, 0, 0, 0, 0, 1, 0, 0, 0, 0,\n",
       "         0, 1, 0, 0, 0, 0, 0, 0, 1, 0, 1, 0, 0, 0, 0, 0, 0, 0, 0, 1, 0,\n",
       "         2, 0, 0, 0, 0, 0, 0, 0, 0, 2, 1, 0, 0, 0, 0, 0, 1, 1, 0, 0, 0,\n",
       "         1, 0, 0, 0, 0, 0, 1, 0, 0, 0, 0, 0, 0, 0, 0, 0, 1, 1, 0, 0, 0,\n",
       "         2, 0, 0, 0, 0, 0, 0, 0, 0, 0, 0, 0, 0, 0, 0, 0, 0, 0, 1, 0, 0,\n",
       "         0, 0, 0, 1, 0, 1, 0, 0, 0, 0, 0, 0, 0, 0, 0, 0]])"
      ]
     },
     "execution_count": 8,
     "metadata": {},
     "output_type": "execute_result"
    }
   ],
   "source": [
    "# visualize\n",
    "# ----------\n",
    "bow_matrix.todense() # todense() densifies the sparse matrix (which only stores non-zeros elements)"
   ]
  },
  {
   "cell_type": "code",
   "execution_count": 9,
   "metadata": {
    "tags": []
   },
   "outputs": [
    {
     "data": {
      "text/plain": [
       "array(['\\n\\n', ' ', '1045', '10919', '2', 'accompany', 'american', 'amp',\n",
       "       'ask', 'audrey'], dtype=object)"
      ]
     },
     "execution_count": 9,
     "metadata": {},
     "output_type": "execute_result"
    }
   ],
   "source": [
    "# get feature names instead and view subset\n",
    "# ----------\n",
    "feature_names = bow_vector.get_feature_names_out()\n",
    "feature_names[0:10] "
   ]
  },
  {
   "cell_type": "code",
   "execution_count": 10,
   "metadata": {
    "tags": []
   },
   "outputs": [
    {
     "data": {
      "text/html": [
       "<div>\n",
       "<style scoped>\n",
       "    .dataframe tbody tr th:only-of-type {\n",
       "        vertical-align: middle;\n",
       "    }\n",
       "\n",
       "    .dataframe tbody tr th {\n",
       "        vertical-align: top;\n",
       "    }\n",
       "\n",
       "    .dataframe thead th {\n",
       "        text-align: right;\n",
       "    }\n",
       "</style>\n",
       "<table border=\"1\" class=\"dataframe\">\n",
       "  <thead>\n",
       "    <tr style=\"text-align: right;\">\n",
       "      <th></th>\n",
       "      <th>\\n\\n</th>\n",
       "      <th></th>\n",
       "      <th>1045</th>\n",
       "      <th>10919</th>\n",
       "      <th>2</th>\n",
       "      <th>accompany</th>\n",
       "      <th>american</th>\n",
       "      <th>amp</th>\n",
       "      <th>ask</th>\n",
       "      <th>audrey</th>\n",
       "      <th>...</th>\n",
       "      <th>voting</th>\n",
       "      <th>want</th>\n",
       "      <th>whining</th>\n",
       "      <th>witnesses</th>\n",
       "      <th>women</th>\n",
       "      <th>york</th>\n",
       "      <th>“</th>\n",
       "      <th>”</th>\n",
       "      <th>⬇</th>\n",
       "      <th>️</th>\n",
       "    </tr>\n",
       "  </thead>\n",
       "  <tbody>\n",
       "    <tr>\n",
       "      <th>0</th>\n",
       "      <td>0</td>\n",
       "      <td>1</td>\n",
       "      <td>1</td>\n",
       "      <td>1</td>\n",
       "      <td>0</td>\n",
       "      <td>0</td>\n",
       "      <td>0</td>\n",
       "      <td>0</td>\n",
       "      <td>0</td>\n",
       "      <td>0</td>\n",
       "      <td>...</td>\n",
       "      <td>0</td>\n",
       "      <td>0</td>\n",
       "      <td>0</td>\n",
       "      <td>0</td>\n",
       "      <td>0</td>\n",
       "      <td>0</td>\n",
       "      <td>0</td>\n",
       "      <td>0</td>\n",
       "      <td>0</td>\n",
       "      <td>0</td>\n",
       "    </tr>\n",
       "    <tr>\n",
       "      <th>1</th>\n",
       "      <td>1</td>\n",
       "      <td>0</td>\n",
       "      <td>0</td>\n",
       "      <td>0</td>\n",
       "      <td>0</td>\n",
       "      <td>0</td>\n",
       "      <td>0</td>\n",
       "      <td>0</td>\n",
       "      <td>0</td>\n",
       "      <td>0</td>\n",
       "      <td>...</td>\n",
       "      <td>0</td>\n",
       "      <td>0</td>\n",
       "      <td>0</td>\n",
       "      <td>0</td>\n",
       "      <td>0</td>\n",
       "      <td>0</td>\n",
       "      <td>0</td>\n",
       "      <td>0</td>\n",
       "      <td>1</td>\n",
       "      <td>1</td>\n",
       "    </tr>\n",
       "    <tr>\n",
       "      <th>2</th>\n",
       "      <td>2</td>\n",
       "      <td>0</td>\n",
       "      <td>0</td>\n",
       "      <td>0</td>\n",
       "      <td>2</td>\n",
       "      <td>0</td>\n",
       "      <td>1</td>\n",
       "      <td>1</td>\n",
       "      <td>0</td>\n",
       "      <td>0</td>\n",
       "      <td>...</td>\n",
       "      <td>1</td>\n",
       "      <td>0</td>\n",
       "      <td>1</td>\n",
       "      <td>1</td>\n",
       "      <td>0</td>\n",
       "      <td>1</td>\n",
       "      <td>1</td>\n",
       "      <td>1</td>\n",
       "      <td>0</td>\n",
       "      <td>0</td>\n",
       "    </tr>\n",
       "    <tr>\n",
       "      <th>3</th>\n",
       "      <td>0</td>\n",
       "      <td>0</td>\n",
       "      <td>0</td>\n",
       "      <td>0</td>\n",
       "      <td>0</td>\n",
       "      <td>0</td>\n",
       "      <td>0</td>\n",
       "      <td>0</td>\n",
       "      <td>0</td>\n",
       "      <td>1</td>\n",
       "      <td>...</td>\n",
       "      <td>0</td>\n",
       "      <td>1</td>\n",
       "      <td>0</td>\n",
       "      <td>0</td>\n",
       "      <td>1</td>\n",
       "      <td>0</td>\n",
       "      <td>0</td>\n",
       "      <td>0</td>\n",
       "      <td>0</td>\n",
       "      <td>0</td>\n",
       "    </tr>\n",
       "    <tr>\n",
       "      <th>4</th>\n",
       "      <td>0</td>\n",
       "      <td>2</td>\n",
       "      <td>0</td>\n",
       "      <td>0</td>\n",
       "      <td>0</td>\n",
       "      <td>1</td>\n",
       "      <td>0</td>\n",
       "      <td>4</td>\n",
       "      <td>1</td>\n",
       "      <td>0</td>\n",
       "      <td>...</td>\n",
       "      <td>0</td>\n",
       "      <td>0</td>\n",
       "      <td>0</td>\n",
       "      <td>0</td>\n",
       "      <td>0</td>\n",
       "      <td>0</td>\n",
       "      <td>0</td>\n",
       "      <td>0</td>\n",
       "      <td>0</td>\n",
       "      <td>0</td>\n",
       "    </tr>\n",
       "  </tbody>\n",
       "</table>\n",
       "<p>5 rows × 121 columns</p>\n",
       "</div>"
      ],
      "text/plain": [
       "   \\n\\n     1045  10919  2  accompany  american  amp  ask  audrey  ...  \\\n",
       "0     0  1     1      1  0          0         0    0    0       0  ...   \n",
       "1     1  0     0      0  0          0         0    0    0       0  ...   \n",
       "2     2  0     0      0  2          0         1    1    0       0  ...   \n",
       "3     0  0     0      0  0          0         0    0    0       1  ...   \n",
       "4     0  2     0      0  0          1         0    4    1       0  ...   \n",
       "\n",
       "   voting  want  whining  witnesses  women  york  “  ”  ⬇  ️  \n",
       "0       0     0        0          0      0     0  0  0  0  0  \n",
       "1       0     0        0          0      0     0  0  0  1  1  \n",
       "2       1     0        1          1      0     1  1  1  0  0  \n",
       "3       0     1        0          0      1     0  0  0  0  0  \n",
       "4       0     0        0          0      0     0  0  0  0  0  \n",
       "\n",
       "[5 rows x 121 columns]"
      ]
     },
     "execution_count": 10,
     "metadata": {},
     "output_type": "execute_result"
    }
   ],
   "source": [
    "# Code to concatenate bag of words matrix with column names to visualize\n",
    "# ----------\n",
    "bow_df = pd.DataFrame(bow_matrix.toarray(),  # make bow_matrix an array \n",
    "                      columns=feature_names) # set column names to feature names just extracted\n",
    "bow_df"
   ]
  },
  {
   "cell_type": "markdown",
   "metadata": {},
   "source": [
    "### EDA 2"
   ]
  },
  {
   "cell_type": "code",
   "execution_count": 11,
   "metadata": {
    "tags": []
   },
   "outputs": [],
   "source": [
    "#word cloud\n",
    "# download libraries\n",
    "# ----------\n",
    "#!pip install scattertext\n",
    "#!pip install wordcloud\n",
    "#!pip install textblob"
   ]
  },
  {
   "cell_type": "code",
   "execution_count": 12,
   "metadata": {
    "tags": []
   },
   "outputs": [],
   "source": [
    "# load libraries\n",
    "# ----------\n",
    "import pandas as pd\n",
    "import numpy as np\n",
    "\n",
    "from PIL import Image\n",
    "import spacy\n",
    "import en_core_web_sm"
   ]
  },
  {
   "cell_type": "code",
   "execution_count": 13,
   "metadata": {
    "tags": []
   },
   "outputs": [],
   "source": [
    "#this causes kernal to die but not needed right now \n",
    "#import scattertext as st\n",
    "#nlp = en_core_web_sm.load()"
   ]
  },
  {
   "cell_type": "code",
   "execution_count": 14,
   "metadata": {
    "tags": []
   },
   "outputs": [],
   "source": [
    "from spacy.lang.en.stop_words import STOP_WORDS\n",
    "from string import punctuation\n",
    "from wordcloud import WordCloud, STOPWORDS, ImageColorGenerator\n",
    "from textblob import TextBlob\n",
    "from sklearn.feature_extraction.text import TfidfVectorizer\n",
    "from sklearn.decomposition import LatentDirichletAllocation\n",
    "import seaborn as sns\n",
    "import matplotlib.pyplot as plt"
   ]
  },
  {
   "cell_type": "code",
   "execution_count": 15,
   "metadata": {
    "tags": []
   },
   "outputs": [],
   "source": [
    "# code for kMeans and silhouette scores\n",
    "from sklearn.cluster import KMeans\n",
    "from sklearn.metrics import silhouette_samples, silhouette_score\n",
    "import matplotlib.cm as cm\n",
    "\n",
    "# settings \n",
    "%matplotlib inline"
   ]
  },
  {
   "cell_type": "code",
   "execution_count": 16,
   "metadata": {
    "tags": []
   },
   "outputs": [],
   "source": [
    "from collections import Counter\n",
    "# Counter(' '.join(congress_tweets['text'].map(lambda text: text.split()).explode()).split())"
   ]
  },
  {
   "cell_type": "code",
   "execution_count": 67,
   "metadata": {
    "tags": []
   },
   "outputs": [
    {
     "name": "stdout",
     "output_type": "stream",
     "text": [
      "668830    @drdonmooreiii We got to seal-ebrate our conse...\n",
      "539779    This is about the people versus the special in...\n",
      "318329    @LouDobbs Bad Actors deserve to pay for their ...\n",
      "80519     This measure also included millions in researc...\n",
      "375408    @OversightDems BREAKING: Chairman @RepCummings...\n",
      "                                ...                        \n",
      "671436    @RepJayapal It's time to pass the NO BAN Act. ...\n",
      "72129     Chairman Nadler claimed yesterday we are going...\n",
      "513370    So how many elected republicans have unreserve...\n",
      "250596    Judge Amy Coney Barrett to be nominated today ...\n",
      "917514    Senate Republicans purported to act on princip...\n",
      "Name: text, Length: 100, dtype: object\n"
     ]
    }
   ],
   "source": [
    "import pandas as pd\n",
    "\n",
    "def check_word(word, stop_words):\n",
    "    word = word.lower()\n",
    "    if word in stop_words:\n",
    "        return False\n",
    "    if word.startswith(\"https\"):\n",
    "        return False\n",
    "    if word.endswith(\"jpg\") or word.endswith(\"jpeg\"):\n",
    "        return False\n",
    "    return True\n",
    "\n",
    "# Assuming you have a DataFrame named 'df' with a column named 'text_column'\n",
    "# containing the text data where you want to remove stop words\n",
    "\n",
    "# Define your remove_stop_words function\n",
    "def remove_stop_words(text, stop_words):\n",
    "    \"\"\"\n",
    "    Removes stop words from the input text.\n",
    "\n",
    "    Args:\n",
    "    text (str): The input text.\n",
    "    stop_words (list): A list of stop words to be removed from the text.\n",
    "\n",
    "    Returns:\n",
    "    str: The text with stop words removed.\n",
    "    \"\"\"\n",
    "    words = text.split()\n",
    "    filtered_words = [word for word in words if check_word(word, stop_words)]\n",
    "    filtered_text = ' '.join(filtered_words)\n",
    "    return filtered_text\n",
    "\n",
    "# List of stop words\n",
    "stop_words = [\"rt\", \"qt\", \"twimg\", \"amp\", \"jpg\", \"https\", \"&amp;\"]\n",
    "\n",
    "# Apply remove_stop_words function to 'text_column' in the DataFrame\n",
    "congress_tweets['text'] = congress_tweets['text'].apply(lambda x: remove_stop_words(x, stop_words))\n",
    "\n",
    "# Display the modified DataFrame\n",
    "print(congress_tweets['text'])\n",
    "# remove_stop_words(congress_tweets['text'].iloc[0], stop_words)"
   ]
  },
  {
   "cell_type": "code",
   "execution_count": 68,
   "metadata": {
    "tags": []
   },
   "outputs": [
    {
     "data": {
      "text/html": [
       "<div>\n",
       "<style scoped>\n",
       "    .dataframe tbody tr th:only-of-type {\n",
       "        vertical-align: middle;\n",
       "    }\n",
       "\n",
       "    .dataframe tbody tr th {\n",
       "        vertical-align: top;\n",
       "    }\n",
       "\n",
       "    .dataframe thead th {\n",
       "        text-align: right;\n",
       "    }\n",
       "</style>\n",
       "<table border=\"1\" class=\"dataframe\">\n",
       "  <thead>\n",
       "    <tr style=\"text-align: right;\">\n",
       "      <th></th>\n",
       "      <th>tweet_id</th>\n",
       "      <th>screen_name</th>\n",
       "      <th>datetime</th>\n",
       "      <th>text</th>\n",
       "      <th>name_wikipedia</th>\n",
       "      <th>position</th>\n",
       "      <th>joined_congress_date</th>\n",
       "      <th>birthday</th>\n",
       "      <th>gender</th>\n",
       "      <th>state</th>\n",
       "      <th>district_number</th>\n",
       "      <th>party</th>\n",
       "      <th>trump_2016_state_share</th>\n",
       "      <th>clinton_2016_state_share</th>\n",
       "      <th>obama_2012_state_share</th>\n",
       "      <th>romney_2012_state_share</th>\n",
       "    </tr>\n",
       "  </thead>\n",
       "  <tbody>\n",
       "    <tr>\n",
       "      <th>668830</th>\n",
       "      <td>1.236490e+18</td>\n",
       "      <td>SenJeffMerkley</td>\n",
       "      <td>2020-03-07T22:30:57-05:00</td>\n",
       "      <td>@drdonmooreiii We got to seal-ebrate our conse...</td>\n",
       "      <td>Jeff Merkley</td>\n",
       "      <td>Sen</td>\n",
       "      <td>3-Jan-09</td>\n",
       "      <td>10/24/1956</td>\n",
       "      <td>M</td>\n",
       "      <td>OR</td>\n",
       "      <td>Senate</td>\n",
       "      <td>Democrat</td>\n",
       "      <td>782,403</td>\n",
       "      <td>1,002,106</td>\n",
       "      <td>970,488</td>\n",
       "      <td>754,175</td>\n",
       "    </tr>\n",
       "    <tr>\n",
       "      <th>539779</th>\n",
       "      <td>1.111010e+18</td>\n",
       "      <td>SenatorTomUdall</td>\n",
       "      <td>2019-03-27T16:41:14-04:00</td>\n",
       "      <td>This is about the people versus the special in...</td>\n",
       "      <td>Tom Udall</td>\n",
       "      <td>Sen</td>\n",
       "      <td>3-Jan-09</td>\n",
       "      <td>5/18/1948</td>\n",
       "      <td>M</td>\n",
       "      <td>NM</td>\n",
       "      <td>Senate</td>\n",
       "      <td>Democrat</td>\n",
       "      <td>319,667</td>\n",
       "      <td>385,234</td>\n",
       "      <td>415,335</td>\n",
       "      <td>335,788</td>\n",
       "    </tr>\n",
       "    <tr>\n",
       "      <th>318329</th>\n",
       "      <td>1.179550e+18</td>\n",
       "      <td>RepJimBanks</td>\n",
       "      <td>2019-10-02T20:01:44-04:00</td>\n",
       "      <td>@LouDobbs Bad Actors deserve to pay for their ...</td>\n",
       "      <td>Jim Banks</td>\n",
       "      <td>Rep</td>\n",
       "      <td>3-Jan-17</td>\n",
       "      <td>7/16/1979</td>\n",
       "      <td>M</td>\n",
       "      <td>IN</td>\n",
       "      <td>3</td>\n",
       "      <td>Republican</td>\n",
       "      <td>1,557,286</td>\n",
       "      <td>1,033,126</td>\n",
       "      <td>1,152,887</td>\n",
       "      <td>1,420,543</td>\n",
       "    </tr>\n",
       "    <tr>\n",
       "      <th>80519</th>\n",
       "      <td>1.149820e+18</td>\n",
       "      <td>RepCarbajal</td>\n",
       "      <td>2019-07-12T19:32:01-04:00</td>\n",
       "      <td>This measure also included millions in researc...</td>\n",
       "      <td>Salud Carbajal</td>\n",
       "      <td>Rep</td>\n",
       "      <td>3-Jan-17</td>\n",
       "      <td>11/18/1964</td>\n",
       "      <td>M</td>\n",
       "      <td>CA</td>\n",
       "      <td>24</td>\n",
       "      <td>Democrat</td>\n",
       "      <td>4,483,814</td>\n",
       "      <td>8,753,792</td>\n",
       "      <td>7,854,285</td>\n",
       "      <td>4,839,958</td>\n",
       "    </tr>\n",
       "    <tr>\n",
       "      <th>375408</th>\n",
       "      <td>1.148970e+18</td>\n",
       "      <td>RepCummings</td>\n",
       "      <td>2019-07-10T11:01:04-04:00</td>\n",
       "      <td>@OversightDems BREAKING: Chairman @RepCummings...</td>\n",
       "      <td>Elijah Cummings</td>\n",
       "      <td>Rep</td>\n",
       "      <td>16-Apr-96</td>\n",
       "      <td>1/18/1951</td>\n",
       "      <td>M</td>\n",
       "      <td>MD</td>\n",
       "      <td>7</td>\n",
       "      <td>Democrat</td>\n",
       "      <td>943,169</td>\n",
       "      <td>1,677,928</td>\n",
       "      <td>1,677,844</td>\n",
       "      <td>971,869</td>\n",
       "    </tr>\n",
       "  </tbody>\n",
       "</table>\n",
       "</div>"
      ],
      "text/plain": [
       "            tweet_id      screen_name                   datetime  \\\n",
       "668830  1.236490e+18   SenJeffMerkley  2020-03-07T22:30:57-05:00   \n",
       "539779  1.111010e+18  SenatorTomUdall  2019-03-27T16:41:14-04:00   \n",
       "318329  1.179550e+18      RepJimBanks  2019-10-02T20:01:44-04:00   \n",
       "80519   1.149820e+18      RepCarbajal  2019-07-12T19:32:01-04:00   \n",
       "375408  1.148970e+18      RepCummings  2019-07-10T11:01:04-04:00   \n",
       "\n",
       "                                                     text   name_wikipedia  \\\n",
       "668830  @drdonmooreiii We got to seal-ebrate our conse...     Jeff Merkley   \n",
       "539779  This is about the people versus the special in...        Tom Udall   \n",
       "318329  @LouDobbs Bad Actors deserve to pay for their ...        Jim Banks   \n",
       "80519   This measure also included millions in researc...   Salud Carbajal   \n",
       "375408  @OversightDems BREAKING: Chairman @RepCummings...  Elijah Cummings   \n",
       "\n",
       "       position joined_congress_date    birthday gender state district_number  \\\n",
       "668830      Sen             3-Jan-09  10/24/1956      M    OR          Senate   \n",
       "539779      Sen             3-Jan-09   5/18/1948      M    NM          Senate   \n",
       "318329      Rep             3-Jan-17   7/16/1979      M    IN               3   \n",
       "80519       Rep             3-Jan-17  11/18/1964      M    CA              24   \n",
       "375408      Rep            16-Apr-96   1/18/1951      M    MD               7   \n",
       "\n",
       "             party trump_2016_state_share clinton_2016_state_share  \\\n",
       "668830    Democrat                782,403                1,002,106   \n",
       "539779    Democrat                319,667                  385,234   \n",
       "318329  Republican              1,557,286                1,033,126   \n",
       "80519     Democrat              4,483,814                8,753,792   \n",
       "375408    Democrat                943,169                1,677,928   \n",
       "\n",
       "       obama_2012_state_share romney_2012_state_share  \n",
       "668830                970,488                 754,175  \n",
       "539779                415,335                 335,788  \n",
       "318329              1,152,887               1,420,543  \n",
       "80519               7,854,285               4,839,958  \n",
       "375408              1,677,844                 971,869  "
      ]
     },
     "execution_count": 68,
     "metadata": {},
     "output_type": "execute_result"
    }
   ],
   "source": [
    "\n",
    "# ----------\n",
    "# apply function to text object\n",
    "text = ' '.join(congress_tweets['text'].map(lambda text: text.split()).explode())\n",
    "\n",
    "congress_tweets.head()"
   ]
  },
  {
   "cell_type": "code",
   "execution_count": 69,
   "metadata": {
    "tags": []
   },
   "outputs": [
    {
     "data": {
      "image/png": "[encoded data removed]",
      "text/plain": [
       "<Figure size 640x480 with 1 Axes>"
      ]
     },
     "metadata": {},
     "output_type": "display_data"
    }
   ],
   "source": [
    "# create WordCloud visualization using the \"text\" object \n",
    "# not sure why stop words are still being included \n",
    "wordcloud = WordCloud(random_state=40).generate(text) # set random state to ensure same word cloud each time\n",
    "\n",
    "# plot \n",
    "plt.imshow(wordcloud,                  # specify wordcloud\n",
    "           interpolation = 'bilinear') # specifies how the words are displayed\n",
    "plt.axis('off')                        # turn off axes\n",
    "plt.show()                             # show the plot"
   ]
  },
  {
   "cell_type": "markdown",
   "metadata": {},
   "source": [
    "## Sentiment Analysis"
   ]
  },
  {
   "cell_type": "markdown",
   "metadata": {},
   "source": [
    "Next, let's analyze the sentiments contained within the tweets. You may use TextBlob or another library for these tasks. Do the following:\n",
    "\n",
    "* Choose two legislators, one who you think will be more liberal and one who you think will be more conservative, and analyze their sentiment and/or subjectivity scores per tweet. For instance, you might do two scatterplots that plot each legislator's sentiment against their subjectivity, or two density plots for their sentiments. Do the scores match what you thought?\n",
    "* Plot two more visualizations like the ones you chose in the first part, but do them to compare (1) Democrats v. Republicans and (2) Senators v. Representatives \n",
    "\n",
    "`TextBlob` has already been imported in the top cell."
   ]
  },
  {
   "cell_type": "code",
   "execution_count": 20,
   "metadata": {},
   "outputs": [
    {
     "data": {
      "text/plain": [
       "Ellipsis"
      ]
     },
     "execution_count": 20,
     "metadata": {},
     "output_type": "execute_result"
    }
   ],
   "source": [
    "..."
   ]
  },
  {
   "cell_type": "markdown",
   "metadata": {},
   "source": [
    "## Featurization"
   ]
  },
  {
   "cell_type": "markdown",
   "metadata": {},
   "source": [
    "Before going to classification, explore different featurization techniques. Create three dataframes or arrays to represent your text features, specifically:\n",
    "\n",
    "* Features engineered from your previous analysis. For example, word counts, sentiment scores, topic model etc.\n",
    "* A term frequency-inverse document frequency matrix. \n",
    "* An embedding-based featurization (like a document averaged word2vec)\n",
    "\n",
    "In the next section, you will experiment with each of these featurization techniques to see which one produces the best classifications."
   ]
  },
  {
   "cell_type": "code",
   "execution_count": 21,
   "metadata": {},
   "outputs": [
    {
     "data": {
      "text/plain": [
       "Ellipsis"
      ]
     },
     "execution_count": 21,
     "metadata": {},
     "output_type": "execute_result"
    }
   ],
   "source": [
    "..."
   ]
  },
  {
   "cell_type": "markdown",
   "metadata": {},
   "source": [
    "### Engineered Text Features"
   ]
  },
  {
   "cell_type": "code",
   "execution_count": 22,
   "metadata": {},
   "outputs": [],
   "source": [
    "# Engineered Features\n",
    "..."
   ]
  },
  {
   "cell_type": "markdown",
   "metadata": {},
   "source": [
    "### Bag-of-words or Tf-idf"
   ]
  },
  {
   "cell_type": "code",
   "execution_count": 23,
   "metadata": {},
   "outputs": [],
   "source": [
    "# Frequency Based featurization\n",
    "..."
   ]
  },
  {
   "cell_type": "markdown",
   "metadata": {},
   "source": [
    "### Word Embedding"
   ]
  },
  {
   "cell_type": "code",
   "execution_count": 24,
   "metadata": {},
   "outputs": [],
   "source": [
    "# Load Word2Vec model from Google; OPTIONAL depending on your computational resources (the file is ~1 GB)\n",
    "# Also note that this file path assumes that the word vectors are underneath 'data'; you may wish to point to the CSS course repo and change the path\n",
    "# or move the vector file to the project repo \n",
    "\n",
    "#model = gensim.models.KeyedVectors.load_word2vec_format('data/GoogleNews-vectors-negative300.bin.gz', binary = True) "
   ]
  },
  {
   "cell_type": "code",
   "execution_count": 25,
   "metadata": {},
   "outputs": [],
   "source": [
    "# Function to average word embeddings for a document; use examples from lab to apply this function. You can use also other techniques such as PCA and doc2vec instead.\n",
    "def document_vector(word2vec_model, doc):\n",
    "    doc = [word for word in doc if word in model.vocab]\n",
    "    return np.mean(model[doc], axis=0)"
   ]
  },
  {
   "cell_type": "code",
   "execution_count": 26,
   "metadata": {},
   "outputs": [],
   "source": [
    "# embedding based featurization\n",
    "..."
   ]
  },
  {
   "cell_type": "markdown",
   "metadata": {},
   "source": [
    "## Classification"
   ]
  },
  {
   "cell_type": "markdown",
   "metadata": {},
   "source": [
    "Either use cross-validation or partition your data with training/validation/test sets for this section. Do the following:\n",
    "\n",
    "* Choose a supervised learning algorithm such as logistic regression, random forest etc. \n",
    "* Train six models. For each of the three dataframes you created in the featurization part, train one model to predict whether the author of the tweet is a Democrat or Republican, and a second model to predict whether the author is a Senator or Representative.\n",
    "* Report the accuracy and other relevant metrics for each of these six models.\n",
    "* Choose the featurization technique associated with your best model. Combine those text features with non-text features. Train two more models: (1) A supervised learning algorithm that uses just the non-text features and (2) a supervised learning algorithm that combines text and non-text features. Report accuracy and other relevant metrics. \n",
    "\n",
    "If time permits, you are encouraged to use hyperparameter tuning or AutoML techniques like TPOT, but are not explicitly required to do so."
   ]
  },
  {
   "cell_type": "markdown",
   "metadata": {},
   "source": [
    "### Train Six Models with Just Text"
   ]
  },
  {
   "cell_type": "code",
   "execution_count": 27,
   "metadata": {},
   "outputs": [],
   "source": [
    "# six models ([engineered features, frequency-based, embedding] * [democrat/republican, senator/representative])\n",
    "..."
   ]
  },
  {
   "cell_type": "markdown",
   "metadata": {},
   "source": [
    "### Two Combined Models"
   ]
  },
  {
   "cell_type": "code",
   "execution_count": 28,
   "metadata": {},
   "outputs": [],
   "source": [
    "# two models ([best text features + non-text features] * [democrat/republican, senator/representative])\n",
    "..."
   ]
  },
  {
   "cell_type": "markdown",
   "metadata": {},
   "source": [
    "## Discussion Questions"
   ]
  },
  {
   "cell_type": "markdown",
   "metadata": {},
   "source": [
    "1. Why do standard preprocessing techniques need to be further customized to a particular corpus?"
   ]
  },
  {
   "cell_type": "markdown",
   "metadata": {},
   "source": [
    "**YOUR ANSWER HERE** ..."
   ]
  },
  {
   "cell_type": "markdown",
   "metadata": {},
   "source": [
    "2. Did you find evidence for the idea that Democrats and Republicans have different sentiments in their tweets? What about Senators and Representatives?"
   ]
  },
  {
   "cell_type": "markdown",
   "metadata": {},
   "source": [
    "**YOUR ANSWER HERE** ..."
   ]
  },
  {
   "cell_type": "markdown",
   "metadata": {},
   "source": [
    "3. Why is validating your exploratory and unsupervised learning approaches with a supervised learning algorithm valuable?"
   ]
  },
  {
   "cell_type": "markdown",
   "metadata": {},
   "source": [
    "**YOUR ANSWER HERE** ..."
   ]
  },
  {
   "cell_type": "markdown",
   "metadata": {},
   "source": [
    "4. Did text only, non-text only, or text and non-text features together perform the best? What is the intuition behind combining text and non-text features in a supervised learning algorithm?"
   ]
  },
  {
   "cell_type": "markdown",
   "metadata": {},
   "source": [
    "**YOUR ANSWER HERE** ..."
   ]
  }
 ],
 "metadata": {
  "kernelspec": {
   "display_name": "Python 3 (ipykernel)",
   "language": "python",
   "name": "python3"
  },
  "language_info": {
   "codemirror_mode": {
    "name": "ipython",
    "version": 3
   },
   "file_extension": ".py",
   "mimetype": "text/x-python",
   "name": "python",
   "nbconvert_exporter": "python",
   "pygments_lexer": "ipython3",
   "version": "3.11.4"
  }
 },
 "nbformat": 4,
 "nbformat_minor": 4
}
