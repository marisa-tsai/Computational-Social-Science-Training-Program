{
 "cells": [
  {
   "cell_type": "markdown",
   "metadata": {},
   "source": [
    "## [Computational Social Science] Project 5: Natural Language Processing"
   ]
  },
  {
   "cell_type": "markdown",
   "metadata": {},
   "source": [
    "In this project, you will use natural language processing techniques to explore a dataset containing tweets from members of the 116th United States Congress that met from January 3, 2019 to January 2, 2021. The dataset has also been cleaned to contain information about each legislator. Concretely, you will do the following:\n",
    "\n",
    "* Preprocess the text of legislators' tweets\n",
    "* Conduct Exploratory Data Analysis of the text\n",
    "* Use sentiment analysis to explore differences between legislators' tweets\n",
    "* Featurize text with manual feature engineering, frequency-based, and vector-based techniques\n",
    "* Predict legislators' political parties and whether they are a Senator or Representative\n",
    "\n",
    "You will explore two questions that relate to two central findings in political science and examine how they relate to the text of legislators' tweets. First, political scientists have argued that U.S. politics is currently highly polarized relative to other periods in American history, but also that the polarization is asymmetric. Historically, there were several conservative Democrats (i.e. \"blue dog Democrats\") and liberal Republicans (i.e. \"Rockefeller Republicans\"), as measured by popular measurement tools like [DW-NOMINATE](https://en.wikipedia.org/wiki/NOMINATE_(scaling_method)#:~:text=DW\\%2DNOMINATE\\%20scores\\%20have\\%20been,in\\%20the\\%20liberal\\%2Dconservative\\%20scale.). However, in the last few years, there are few if any examples of any Democrat in Congress being further to the right than any Republican and vice versa. At the same time, scholars have argued that this polarization is mostly a function of the Republican party moving further right than the Democratic party has moved left. **Does this sort of asymmetric polarization show up in how politicians communicate to their constituents through tweets?**\n",
    "\n",
    "Second, the U.S. Congress is a bicameral legislature, and there has long been debate about partisanship in the Senate versus the House. The House of Representatives is apportioned by population and all members serve two year terms. In the Senate, each state receives two Senators and each Senator serves a term of six years. For a variety of reasons (smaller chamber size, more insulation from the voters, rules and norms like the filibuster, etc.), the Senate has been argued to be the \"cooling saucer\" of Congress in that it is more bipartisan and moderate than the House. **Does the theory that the Senate is more moderate have support in Senators' tweets?**\n",
    "\n",
    "**Note**: See the project handout for more details on caveats and the data dictionary."
   ]
  },
  {
   "cell_type": "code",
   "execution_count": 1,
   "metadata": {},
   "outputs": [],
   "source": [
    "#Project 5\n",
    "#Marisa Tsai\n",
    "#Spring 2024"
   ]
  },
  {
   "cell_type": "code",
   "execution_count": 2,
   "metadata": {
    "tags": []
   },
   "outputs": [],
   "source": [
    "# pandas and numpy\n",
    "import pandas as pd\n",
    "import numpy as numpy\n",
    "\n",
    "# punctuation, stop words and English language model\n",
    "from string import punctuation\n",
    "from spacy.lang.en.stop_words import STOP_WORDS\n",
    "import en_core_web_sm\n",
    "nlp = en_core_web_sm.load()\n",
    "\n",
    "# textblob\n",
    "from textblob import TextBlob\n",
    "\n",
    "# countvectorizer, tfidfvectorizer\n",
    "from sklearn.feature_extraction.text import CountVectorizer, TfidfVectorizer\n",
    "\n",
    "# gensim\n",
    "import gensim\n",
    "from gensim import models\n",
    "\n",
    "# plotting\n",
    "import matplotlib.pyplot as plt\n",
    "import seaborn as sns\n",
    "%matplotlib inline"
   ]
  },
  {
   "cell_type": "code",
   "execution_count": 3,
   "metadata": {
    "tags": []
   },
   "outputs": [
    {
     "data": {
      "text/html": [
       "<div>\n",
       "<style scoped>\n",
       "    .dataframe tbody tr th:only-of-type {\n",
       "        vertical-align: middle;\n",
       "    }\n",
       "\n",
       "    .dataframe tbody tr th {\n",
       "        vertical-align: top;\n",
       "    }\n",
       "\n",
       "    .dataframe thead th {\n",
       "        text-align: right;\n",
       "    }\n",
       "</style>\n",
       "<table border=\"1\" class=\"dataframe\">\n",
       "  <thead>\n",
       "    <tr style=\"text-align: right;\">\n",
       "      <th></th>\n",
       "      <th>tweet_id</th>\n",
       "      <th>screen_name</th>\n",
       "      <th>datetime</th>\n",
       "      <th>text</th>\n",
       "      <th>name_wikipedia</th>\n",
       "      <th>position</th>\n",
       "      <th>joined_congress_date</th>\n",
       "      <th>birthday</th>\n",
       "      <th>gender</th>\n",
       "      <th>state</th>\n",
       "      <th>district_number</th>\n",
       "      <th>party</th>\n",
       "      <th>trump_2016_state_share</th>\n",
       "      <th>clinton_2016_state_share</th>\n",
       "      <th>obama_2012_state_share</th>\n",
       "      <th>romney_2012_state_share</th>\n",
       "    </tr>\n",
       "  </thead>\n",
       "  <tbody>\n",
       "    <tr>\n",
       "      <th>179232</th>\n",
       "      <td>1.192820e+18</td>\n",
       "      <td>RepJohnLarson</td>\n",
       "      <td>2019-11-08T09:51:47-05:00</td>\n",
       "      <td>Wishing @radioviceonline the best! Looking for...</td>\n",
       "      <td>John B. Larson</td>\n",
       "      <td>Rep</td>\n",
       "      <td>3-Jan-99</td>\n",
       "      <td>7/22/1948</td>\n",
       "      <td>M</td>\n",
       "      <td>CT</td>\n",
       "      <td>1</td>\n",
       "      <td>Democrat</td>\n",
       "      <td>673,215</td>\n",
       "      <td>897,572</td>\n",
       "      <td>905,083</td>\n",
       "      <td>634,892</td>\n",
       "    </tr>\n",
       "    <tr>\n",
       "      <th>495859</th>\n",
       "      <td>1.121510e+18</td>\n",
       "      <td>SenatorShaheen</td>\n",
       "      <td>2019-04-25T16:14:52-04:00</td>\n",
       "      <td>Please join me tomorrow at 6:15pm in Berlin fo...</td>\n",
       "      <td>Jeanne Shaheen</td>\n",
       "      <td>Sen</td>\n",
       "      <td>3-Jan-09</td>\n",
       "      <td>1/28/1947</td>\n",
       "      <td>F</td>\n",
       "      <td>NH</td>\n",
       "      <td>Senate</td>\n",
       "      <td>Democrat</td>\n",
       "      <td>345,790</td>\n",
       "      <td>348,526</td>\n",
       "      <td>369,561</td>\n",
       "      <td>329,918</td>\n",
       "    </tr>\n",
       "    <tr>\n",
       "      <th>818005</th>\n",
       "      <td>1.273310e+18</td>\n",
       "      <td>JohnCornyn</td>\n",
       "      <td>2020-06-17T13:41:58-04:00</td>\n",
       "      <td>RT @SenatorTimScott Y’all still wearing those ...</td>\n",
       "      <td>John Cornyn</td>\n",
       "      <td>Sen</td>\n",
       "      <td>2-Dec-02</td>\n",
       "      <td>2/2/1952</td>\n",
       "      <td>M</td>\n",
       "      <td>TX</td>\n",
       "      <td>Senate</td>\n",
       "      <td>Republican</td>\n",
       "      <td>4,685,047</td>\n",
       "      <td>3,877,868</td>\n",
       "      <td>3,308,124</td>\n",
       "      <td>4,569,843</td>\n",
       "    </tr>\n",
       "    <tr>\n",
       "      <th>786850</th>\n",
       "      <td>1.185220e+18</td>\n",
       "      <td>JacksonLeeTX18</td>\n",
       "      <td>2019-10-18T11:47:17-04:00</td>\n",
       "      <td>RT @SenWhitehouse The choice Trump gave: \"aban...</td>\n",
       "      <td>Sheila Jackson Lee</td>\n",
       "      <td>Rep</td>\n",
       "      <td>3-Jan-95</td>\n",
       "      <td>1/12/1950</td>\n",
       "      <td>F</td>\n",
       "      <td>TX</td>\n",
       "      <td>18</td>\n",
       "      <td>Democrat</td>\n",
       "      <td>4,685,047</td>\n",
       "      <td>3,877,868</td>\n",
       "      <td>3,308,124</td>\n",
       "      <td>4,569,843</td>\n",
       "    </tr>\n",
       "    <tr>\n",
       "      <th>548703</th>\n",
       "      <td>1.080880e+18</td>\n",
       "      <td>NitaLowey</td>\n",
       "      <td>2019-01-03T12:17:30-05:00</td>\n",
       "      <td>RT @NancyPelosi As the House of Representative...</td>\n",
       "      <td>Nita Lowey</td>\n",
       "      <td>Rep</td>\n",
       "      <td>3-Jan-89</td>\n",
       "      <td>7/5/1937</td>\n",
       "      <td>F</td>\n",
       "      <td>NY</td>\n",
       "      <td>17</td>\n",
       "      <td>Democrat</td>\n",
       "      <td>2,819,533</td>\n",
       "      <td>4,556,118</td>\n",
       "      <td>4,485,741</td>\n",
       "      <td>2,490,431</td>\n",
       "    </tr>\n",
       "  </tbody>\n",
       "</table>\n",
       "</div>"
      ],
      "text/plain": [
       "            tweet_id     screen_name                   datetime  \\\n",
       "179232  1.192820e+18   RepJohnLarson  2019-11-08T09:51:47-05:00   \n",
       "495859  1.121510e+18  SenatorShaheen  2019-04-25T16:14:52-04:00   \n",
       "818005  1.273310e+18      JohnCornyn  2020-06-17T13:41:58-04:00   \n",
       "786850  1.185220e+18  JacksonLeeTX18  2019-10-18T11:47:17-04:00   \n",
       "548703  1.080880e+18       NitaLowey  2019-01-03T12:17:30-05:00   \n",
       "\n",
       "                                                     text      name_wikipedia  \\\n",
       "179232  Wishing @radioviceonline the best! Looking for...      John B. Larson   \n",
       "495859  Please join me tomorrow at 6:15pm in Berlin fo...      Jeanne Shaheen   \n",
       "818005  RT @SenatorTimScott Y’all still wearing those ...         John Cornyn   \n",
       "786850  RT @SenWhitehouse The choice Trump gave: \"aban...  Sheila Jackson Lee   \n",
       "548703  RT @NancyPelosi As the House of Representative...          Nita Lowey   \n",
       "\n",
       "       position joined_congress_date   birthday gender state district_number  \\\n",
       "179232      Rep             3-Jan-99  7/22/1948      M    CT               1   \n",
       "495859      Sen             3-Jan-09  1/28/1947      F    NH          Senate   \n",
       "818005      Sen             2-Dec-02   2/2/1952      M    TX          Senate   \n",
       "786850      Rep             3-Jan-95  1/12/1950      F    TX              18   \n",
       "548703      Rep             3-Jan-89   7/5/1937      F    NY              17   \n",
       "\n",
       "             party trump_2016_state_share clinton_2016_state_share  \\\n",
       "179232    Democrat                673,215                  897,572   \n",
       "495859    Democrat                345,790                  348,526   \n",
       "818005  Republican              4,685,047                3,877,868   \n",
       "786850    Democrat              4,685,047                3,877,868   \n",
       "548703    Democrat              2,819,533                4,556,118   \n",
       "\n",
       "       obama_2012_state_share romney_2012_state_share  \n",
       "179232                905,083                 634,892  \n",
       "495859                369,561                 329,918  \n",
       "818005              3,308,124               4,569,843  \n",
       "786850              3,308,124               4,569,843  \n",
       "548703              4,485,741               2,490,431  "
      ]
     },
     "execution_count": 3,
     "metadata": {},
     "output_type": "execute_result"
    }
   ],
   "source": [
    "# load data \n",
    "# ----------\n",
    "congress_tweets = pd.read_csv(\"/Users/marisatsai/Downloads/data 2/116th Congressional Tweets and Demographics.csv\")\n",
    "# fill in this line of code with a sufficient number of tweets, depending on your computational resources\n",
    "congress_tweets = congress_tweets.sample(1_000)\n",
    "congress_tweets.head()"
   ]
  },
  {
   "cell_type": "markdown",
   "metadata": {},
   "source": [
    "## Preprocessing"
   ]
  },
  {
   "cell_type": "markdown",
   "metadata": {},
   "source": [
    "The first step in working with text data is to preprocess it. Make sure you do the following:\n",
    "\n",
    "* Remove punctuation and stop words. The `rem_punc_stop()` function we used in lab is provided to you but you should feel free to edit it as necessary for other steps\n",
    "* Remove tokens that occur frequently in tweets, but may not be helpful for downstream classification. For instance, many tweets contain a flag for retweeting, or share a URL \n",
    "\n",
    "As you search online, you might run into solutions that rely on regular expressions. You are free to use these, but you should also be able to preprocess using the techniques we covered in lab. Specifically, we encourage you to use spaCy's token attributes and string methods to do some of this text preprocessing."
   ]
  },
  {
   "cell_type": "code",
   "execution_count": 4,
   "metadata": {
    "tags": []
   },
   "outputs": [],
   "source": [
    "def rem_punc_stop(text):\n",
    "    stop_words = STOP_WORDS\n",
    "    punc = set(punctuation)\n",
    "    \n",
    "    punc_free = \"\".join([ch for ch in text if ch not in punc])\n",
    "    \n",
    "    doc = nlp(punc_free)\n",
    "    \n",
    "    spacy_words = [token.text for token in doc]\n",
    "    \n",
    "    spacy_words = [word for word in spacy_words if not word.startswith('http')]\n",
    "    \n",
    "    no_punc = [word for word in spacy_words if word not in stop_words]\n",
    "    \n",
    "    return no_punc"
   ]
  },
  {
   "cell_type": "code",
   "execution_count": 5,
   "metadata": {
    "tags": []
   },
   "outputs": [
    {
     "data": {
      "text/html": [
       "<div>\n",
       "<style scoped>\n",
       "    .dataframe tbody tr th:only-of-type {\n",
       "        vertical-align: middle;\n",
       "    }\n",
       "\n",
       "    .dataframe tbody tr th {\n",
       "        vertical-align: top;\n",
       "    }\n",
       "\n",
       "    .dataframe thead th {\n",
       "        text-align: right;\n",
       "    }\n",
       "</style>\n",
       "<table border=\"1\" class=\"dataframe\">\n",
       "  <thead>\n",
       "    <tr style=\"text-align: right;\">\n",
       "      <th></th>\n",
       "      <th>tweet_id</th>\n",
       "      <th>screen_name</th>\n",
       "      <th>datetime</th>\n",
       "      <th>text</th>\n",
       "      <th>name_wikipedia</th>\n",
       "      <th>position</th>\n",
       "      <th>joined_congress_date</th>\n",
       "      <th>birthday</th>\n",
       "      <th>gender</th>\n",
       "      <th>state</th>\n",
       "      <th>district_number</th>\n",
       "      <th>party</th>\n",
       "      <th>trump_2016_state_share</th>\n",
       "      <th>clinton_2016_state_share</th>\n",
       "      <th>obama_2012_state_share</th>\n",
       "      <th>romney_2012_state_share</th>\n",
       "    </tr>\n",
       "  </thead>\n",
       "  <tbody>\n",
       "    <tr>\n",
       "      <th>179232</th>\n",
       "      <td>1.192820e+18</td>\n",
       "      <td>RepJohnLarson</td>\n",
       "      <td>2019-11-08T09:51:47-05:00</td>\n",
       "      <td>Wishing @radioviceonline the best! Looking for...</td>\n",
       "      <td>John B. Larson</td>\n",
       "      <td>Rep</td>\n",
       "      <td>3-Jan-99</td>\n",
       "      <td>7/22/1948</td>\n",
       "      <td>M</td>\n",
       "      <td>CT</td>\n",
       "      <td>1</td>\n",
       "      <td>Democrat</td>\n",
       "      <td>673,215</td>\n",
       "      <td>897,572</td>\n",
       "      <td>905,083</td>\n",
       "      <td>634,892</td>\n",
       "    </tr>\n",
       "    <tr>\n",
       "      <th>495859</th>\n",
       "      <td>1.121510e+18</td>\n",
       "      <td>SenatorShaheen</td>\n",
       "      <td>2019-04-25T16:14:52-04:00</td>\n",
       "      <td>Please join me tomorrow at 6:15pm in Berlin fo...</td>\n",
       "      <td>Jeanne Shaheen</td>\n",
       "      <td>Sen</td>\n",
       "      <td>3-Jan-09</td>\n",
       "      <td>1/28/1947</td>\n",
       "      <td>F</td>\n",
       "      <td>NH</td>\n",
       "      <td>Senate</td>\n",
       "      <td>Democrat</td>\n",
       "      <td>345,790</td>\n",
       "      <td>348,526</td>\n",
       "      <td>369,561</td>\n",
       "      <td>329,918</td>\n",
       "    </tr>\n",
       "    <tr>\n",
       "      <th>818005</th>\n",
       "      <td>1.273310e+18</td>\n",
       "      <td>JohnCornyn</td>\n",
       "      <td>2020-06-17T13:41:58-04:00</td>\n",
       "      <td>RT @SenatorTimScott Y’all still wearing those ...</td>\n",
       "      <td>John Cornyn</td>\n",
       "      <td>Sen</td>\n",
       "      <td>2-Dec-02</td>\n",
       "      <td>2/2/1952</td>\n",
       "      <td>M</td>\n",
       "      <td>TX</td>\n",
       "      <td>Senate</td>\n",
       "      <td>Republican</td>\n",
       "      <td>4,685,047</td>\n",
       "      <td>3,877,868</td>\n",
       "      <td>3,308,124</td>\n",
       "      <td>4,569,843</td>\n",
       "    </tr>\n",
       "    <tr>\n",
       "      <th>786850</th>\n",
       "      <td>1.185220e+18</td>\n",
       "      <td>JacksonLeeTX18</td>\n",
       "      <td>2019-10-18T11:47:17-04:00</td>\n",
       "      <td>RT @SenWhitehouse The choice Trump gave: \"aban...</td>\n",
       "      <td>Sheila Jackson Lee</td>\n",
       "      <td>Rep</td>\n",
       "      <td>3-Jan-95</td>\n",
       "      <td>1/12/1950</td>\n",
       "      <td>F</td>\n",
       "      <td>TX</td>\n",
       "      <td>18</td>\n",
       "      <td>Democrat</td>\n",
       "      <td>4,685,047</td>\n",
       "      <td>3,877,868</td>\n",
       "      <td>3,308,124</td>\n",
       "      <td>4,569,843</td>\n",
       "    </tr>\n",
       "    <tr>\n",
       "      <th>548703</th>\n",
       "      <td>1.080880e+18</td>\n",
       "      <td>NitaLowey</td>\n",
       "      <td>2019-01-03T12:17:30-05:00</td>\n",
       "      <td>RT @NancyPelosi As the House of Representative...</td>\n",
       "      <td>Nita Lowey</td>\n",
       "      <td>Rep</td>\n",
       "      <td>3-Jan-89</td>\n",
       "      <td>7/5/1937</td>\n",
       "      <td>F</td>\n",
       "      <td>NY</td>\n",
       "      <td>17</td>\n",
       "      <td>Democrat</td>\n",
       "      <td>2,819,533</td>\n",
       "      <td>4,556,118</td>\n",
       "      <td>4,485,741</td>\n",
       "      <td>2,490,431</td>\n",
       "    </tr>\n",
       "  </tbody>\n",
       "</table>\n",
       "</div>"
      ],
      "text/plain": [
       "            tweet_id     screen_name                   datetime  \\\n",
       "179232  1.192820e+18   RepJohnLarson  2019-11-08T09:51:47-05:00   \n",
       "495859  1.121510e+18  SenatorShaheen  2019-04-25T16:14:52-04:00   \n",
       "818005  1.273310e+18      JohnCornyn  2020-06-17T13:41:58-04:00   \n",
       "786850  1.185220e+18  JacksonLeeTX18  2019-10-18T11:47:17-04:00   \n",
       "548703  1.080880e+18       NitaLowey  2019-01-03T12:17:30-05:00   \n",
       "\n",
       "                                                     text      name_wikipedia  \\\n",
       "179232  Wishing @radioviceonline the best! Looking for...      John B. Larson   \n",
       "495859  Please join me tomorrow at 6:15pm in Berlin fo...      Jeanne Shaheen   \n",
       "818005  RT @SenatorTimScott Y’all still wearing those ...         John Cornyn   \n",
       "786850  RT @SenWhitehouse The choice Trump gave: \"aban...  Sheila Jackson Lee   \n",
       "548703  RT @NancyPelosi As the House of Representative...          Nita Lowey   \n",
       "\n",
       "       position joined_congress_date   birthday gender state district_number  \\\n",
       "179232      Rep             3-Jan-99  7/22/1948      M    CT               1   \n",
       "495859      Sen             3-Jan-09  1/28/1947      F    NH          Senate   \n",
       "818005      Sen             2-Dec-02   2/2/1952      M    TX          Senate   \n",
       "786850      Rep             3-Jan-95  1/12/1950      F    TX              18   \n",
       "548703      Rep             3-Jan-89   7/5/1937      F    NY              17   \n",
       "\n",
       "             party trump_2016_state_share clinton_2016_state_share  \\\n",
       "179232    Democrat                673,215                  897,572   \n",
       "495859    Democrat                345,790                  348,526   \n",
       "818005  Republican              4,685,047                3,877,868   \n",
       "786850    Democrat              4,685,047                3,877,868   \n",
       "548703    Democrat              2,819,533                4,556,118   \n",
       "\n",
       "       obama_2012_state_share romney_2012_state_share  \n",
       "179232                905,083                 634,892  \n",
       "495859                369,561                 329,918  \n",
       "818005              3,308,124               4,569,843  \n",
       "786850              3,308,124               4,569,843  \n",
       "548703              4,485,741               2,490,431  "
      ]
     },
     "execution_count": 5,
     "metadata": {},
     "output_type": "execute_result"
    }
   ],
   "source": [
    "congress_tweets.head()"
   ]
  },
  {
   "cell_type": "markdown",
   "metadata": {},
   "source": [
    "## Exploratory Data Analysis"
   ]
  },
  {
   "cell_type": "markdown",
   "metadata": {},
   "source": [
    "Use two of the techniques we covered in lab (or other techniques outside of lab!) to explore the text of the tweets. You should construct these visualizations with an eye toward the eventual classification tasks: (1) predicting the legislator's political party based on the text of their tweet, and (2) predicting whether the legislator is a Senator or Representative. As a reminder, in lab we covered word frequencies, word clouds, word/character counts, scattertext, and topic modeling as possible exploration tools. "
   ]
  },
  {
   "cell_type": "markdown",
   "metadata": {},
   "source": [
    "### EDA 1"
   ]
  },
  {
   "cell_type": "code",
   "execution_count": 6,
   "metadata": {
    "tags": []
   },
   "outputs": [],
   "source": [
    "#word frequencies\n",
    "# load libraries\n",
    "# ----------\n",
    "from sklearn.feature_extraction.text import CountVectorizer,TfidfVectorizer\n"
   ]
  },
  {
   "cell_type": "code",
   "execution_count": 7,
   "metadata": {
    "tags": []
   },
   "outputs": [],
   "source": [
    "# initalize CountVectorizer and specify some parameters\n",
    "# ----------\n",
    "bow_vector = CountVectorizer(tokenizer = rem_punc_stop, # use our function for tokenizing created above\n",
    "                             token_pattern = None,      # set to \"None\" since we have specify our own pattern\n",
    "                             ngram_range=(1,1))         # use default for unigrams - see documentation"
   ]
  },
  {
   "cell_type": "code",
   "execution_count": 8,
   "metadata": {
    "tags": []
   },
   "outputs": [],
   "source": [
    "# fit and transform just a subset of our data\n",
    "# ----------\n",
    "bow_matrix = bow_vector.fit_transform(congress_tweets['text'][0:]) "
   ]
  },
  {
   "cell_type": "code",
   "execution_count": 9,
   "metadata": {
    "tags": []
   },
   "outputs": [
    {
     "data": {
      "text/plain": [
       "matrix([[0, 0, 0, ..., 0, 0, 0],\n",
       "        [0, 0, 0, ..., 0, 0, 0],\n",
       "        [0, 1, 0, ..., 0, 0, 0],\n",
       "        ...,\n",
       "        [0, 1, 0, ..., 0, 0, 0],\n",
       "        [0, 0, 0, ..., 0, 0, 0],\n",
       "        [0, 0, 0, ..., 0, 0, 0]])"
      ]
     },
     "execution_count": 9,
     "metadata": {},
     "output_type": "execute_result"
    }
   ],
   "source": [
    "# visualize\n",
    "# ----------\n",
    "bow_matrix.todense() # todense() densifies the sparse matrix (which only stores non-zeros elements)"
   ]
  },
  {
   "cell_type": "code",
   "execution_count": 10,
   "metadata": {
    "tags": []
   },
   "outputs": [
    {
     "data": {
      "text/plain": [
       "array(['\\n', '\\n\\n', '\\n\\n ', '\\n\\n    ', '\\n ', '\\n \\n', '\\n    \\n',\n",
       "       '\\n     ', '\\n\\xa0\\n', ' '], dtype=object)"
      ]
     },
     "execution_count": 10,
     "metadata": {},
     "output_type": "execute_result"
    }
   ],
   "source": [
    "# get feature names instead and view subset\n",
    "# ----------\n",
    "feature_names = bow_vector.get_feature_names_out()\n",
    "feature_names[0:10] "
   ]
  },
  {
   "cell_type": "code",
   "execution_count": 11,
   "metadata": {
    "tags": []
   },
   "outputs": [
    {
     "data": {
      "text/html": [
       "<div>\n",
       "<style scoped>\n",
       "    .dataframe tbody tr th:only-of-type {\n",
       "        vertical-align: middle;\n",
       "    }\n",
       "\n",
       "    .dataframe tbody tr th {\n",
       "        vertical-align: top;\n",
       "    }\n",
       "\n",
       "    .dataframe thead th {\n",
       "        text-align: right;\n",
       "    }\n",
       "</style>\n",
       "<table border=\"1\" class=\"dataframe\">\n",
       "  <thead>\n",
       "    <tr style=\"text-align: right;\">\n",
       "      <th></th>\n",
       "      <th>\\n</th>\n",
       "      <th>\\n\\n</th>\n",
       "      <th>\\n\\n</th>\n",
       "      <th>\\n\\n</th>\n",
       "      <th>\\n</th>\n",
       "      <th>\\n \\n</th>\n",
       "      <th>\\n    \\n</th>\n",
       "      <th>\\n</th>\n",
       "      <th>\\n \\n</th>\n",
       "      <th></th>\n",
       "      <th>...</th>\n",
       "      <th>🗳</th>\n",
       "      <th>😂</th>\n",
       "      <th>😧</th>\n",
       "      <th>😲</th>\n",
       "      <th>🙌</th>\n",
       "      <th>🚒</th>\n",
       "      <th>🚨</th>\n",
       "      <th>🛩</th>\n",
       "      <th>🤷</th>\n",
       "      <th>🧡</th>\n",
       "    </tr>\n",
       "  </thead>\n",
       "  <tbody>\n",
       "    <tr>\n",
       "      <th>0</th>\n",
       "      <td>0</td>\n",
       "      <td>0</td>\n",
       "      <td>0</td>\n",
       "      <td>0</td>\n",
       "      <td>0</td>\n",
       "      <td>0</td>\n",
       "      <td>0</td>\n",
       "      <td>0</td>\n",
       "      <td>0</td>\n",
       "      <td>2</td>\n",
       "      <td>...</td>\n",
       "      <td>0</td>\n",
       "      <td>0</td>\n",
       "      <td>0</td>\n",
       "      <td>0</td>\n",
       "      <td>0</td>\n",
       "      <td>0</td>\n",
       "      <td>0</td>\n",
       "      <td>0</td>\n",
       "      <td>0</td>\n",
       "      <td>0</td>\n",
       "    </tr>\n",
       "    <tr>\n",
       "      <th>1</th>\n",
       "      <td>0</td>\n",
       "      <td>0</td>\n",
       "      <td>0</td>\n",
       "      <td>0</td>\n",
       "      <td>0</td>\n",
       "      <td>0</td>\n",
       "      <td>0</td>\n",
       "      <td>0</td>\n",
       "      <td>0</td>\n",
       "      <td>0</td>\n",
       "      <td>...</td>\n",
       "      <td>0</td>\n",
       "      <td>0</td>\n",
       "      <td>0</td>\n",
       "      <td>0</td>\n",
       "      <td>0</td>\n",
       "      <td>0</td>\n",
       "      <td>0</td>\n",
       "      <td>0</td>\n",
       "      <td>0</td>\n",
       "      <td>0</td>\n",
       "    </tr>\n",
       "    <tr>\n",
       "      <th>2</th>\n",
       "      <td>0</td>\n",
       "      <td>1</td>\n",
       "      <td>0</td>\n",
       "      <td>0</td>\n",
       "      <td>0</td>\n",
       "      <td>0</td>\n",
       "      <td>0</td>\n",
       "      <td>0</td>\n",
       "      <td>0</td>\n",
       "      <td>0</td>\n",
       "      <td>...</td>\n",
       "      <td>0</td>\n",
       "      <td>0</td>\n",
       "      <td>0</td>\n",
       "      <td>0</td>\n",
       "      <td>0</td>\n",
       "      <td>0</td>\n",
       "      <td>0</td>\n",
       "      <td>0</td>\n",
       "      <td>0</td>\n",
       "      <td>0</td>\n",
       "    </tr>\n",
       "    <tr>\n",
       "      <th>3</th>\n",
       "      <td>1</td>\n",
       "      <td>0</td>\n",
       "      <td>0</td>\n",
       "      <td>0</td>\n",
       "      <td>0</td>\n",
       "      <td>0</td>\n",
       "      <td>0</td>\n",
       "      <td>0</td>\n",
       "      <td>0</td>\n",
       "      <td>0</td>\n",
       "      <td>...</td>\n",
       "      <td>0</td>\n",
       "      <td>0</td>\n",
       "      <td>0</td>\n",
       "      <td>0</td>\n",
       "      <td>0</td>\n",
       "      <td>0</td>\n",
       "      <td>0</td>\n",
       "      <td>0</td>\n",
       "      <td>0</td>\n",
       "      <td>0</td>\n",
       "    </tr>\n",
       "    <tr>\n",
       "      <th>4</th>\n",
       "      <td>0</td>\n",
       "      <td>1</td>\n",
       "      <td>0</td>\n",
       "      <td>0</td>\n",
       "      <td>0</td>\n",
       "      <td>0</td>\n",
       "      <td>0</td>\n",
       "      <td>0</td>\n",
       "      <td>0</td>\n",
       "      <td>1</td>\n",
       "      <td>...</td>\n",
       "      <td>0</td>\n",
       "      <td>0</td>\n",
       "      <td>0</td>\n",
       "      <td>0</td>\n",
       "      <td>0</td>\n",
       "      <td>0</td>\n",
       "      <td>0</td>\n",
       "      <td>0</td>\n",
       "      <td>0</td>\n",
       "      <td>0</td>\n",
       "    </tr>\n",
       "    <tr>\n",
       "      <th>...</th>\n",
       "      <td>...</td>\n",
       "      <td>...</td>\n",
       "      <td>...</td>\n",
       "      <td>...</td>\n",
       "      <td>...</td>\n",
       "      <td>...</td>\n",
       "      <td>...</td>\n",
       "      <td>...</td>\n",
       "      <td>...</td>\n",
       "      <td>...</td>\n",
       "      <td>...</td>\n",
       "      <td>...</td>\n",
       "      <td>...</td>\n",
       "      <td>...</td>\n",
       "      <td>...</td>\n",
       "      <td>...</td>\n",
       "      <td>...</td>\n",
       "      <td>...</td>\n",
       "      <td>...</td>\n",
       "      <td>...</td>\n",
       "      <td>...</td>\n",
       "    </tr>\n",
       "    <tr>\n",
       "      <th>995</th>\n",
       "      <td>0</td>\n",
       "      <td>1</td>\n",
       "      <td>0</td>\n",
       "      <td>0</td>\n",
       "      <td>0</td>\n",
       "      <td>0</td>\n",
       "      <td>0</td>\n",
       "      <td>0</td>\n",
       "      <td>0</td>\n",
       "      <td>0</td>\n",
       "      <td>...</td>\n",
       "      <td>0</td>\n",
       "      <td>0</td>\n",
       "      <td>0</td>\n",
       "      <td>0</td>\n",
       "      <td>0</td>\n",
       "      <td>0</td>\n",
       "      <td>0</td>\n",
       "      <td>0</td>\n",
       "      <td>0</td>\n",
       "      <td>0</td>\n",
       "    </tr>\n",
       "    <tr>\n",
       "      <th>996</th>\n",
       "      <td>0</td>\n",
       "      <td>0</td>\n",
       "      <td>0</td>\n",
       "      <td>0</td>\n",
       "      <td>0</td>\n",
       "      <td>0</td>\n",
       "      <td>0</td>\n",
       "      <td>0</td>\n",
       "      <td>0</td>\n",
       "      <td>0</td>\n",
       "      <td>...</td>\n",
       "      <td>0</td>\n",
       "      <td>0</td>\n",
       "      <td>0</td>\n",
       "      <td>0</td>\n",
       "      <td>0</td>\n",
       "      <td>0</td>\n",
       "      <td>0</td>\n",
       "      <td>0</td>\n",
       "      <td>0</td>\n",
       "      <td>0</td>\n",
       "    </tr>\n",
       "    <tr>\n",
       "      <th>997</th>\n",
       "      <td>0</td>\n",
       "      <td>1</td>\n",
       "      <td>0</td>\n",
       "      <td>0</td>\n",
       "      <td>0</td>\n",
       "      <td>0</td>\n",
       "      <td>0</td>\n",
       "      <td>0</td>\n",
       "      <td>0</td>\n",
       "      <td>0</td>\n",
       "      <td>...</td>\n",
       "      <td>0</td>\n",
       "      <td>0</td>\n",
       "      <td>0</td>\n",
       "      <td>0</td>\n",
       "      <td>0</td>\n",
       "      <td>0</td>\n",
       "      <td>0</td>\n",
       "      <td>0</td>\n",
       "      <td>0</td>\n",
       "      <td>0</td>\n",
       "    </tr>\n",
       "    <tr>\n",
       "      <th>998</th>\n",
       "      <td>0</td>\n",
       "      <td>0</td>\n",
       "      <td>0</td>\n",
       "      <td>0</td>\n",
       "      <td>0</td>\n",
       "      <td>0</td>\n",
       "      <td>0</td>\n",
       "      <td>0</td>\n",
       "      <td>0</td>\n",
       "      <td>0</td>\n",
       "      <td>...</td>\n",
       "      <td>0</td>\n",
       "      <td>0</td>\n",
       "      <td>0</td>\n",
       "      <td>0</td>\n",
       "      <td>0</td>\n",
       "      <td>0</td>\n",
       "      <td>0</td>\n",
       "      <td>0</td>\n",
       "      <td>0</td>\n",
       "      <td>0</td>\n",
       "    </tr>\n",
       "    <tr>\n",
       "      <th>999</th>\n",
       "      <td>0</td>\n",
       "      <td>0</td>\n",
       "      <td>0</td>\n",
       "      <td>0</td>\n",
       "      <td>0</td>\n",
       "      <td>0</td>\n",
       "      <td>0</td>\n",
       "      <td>0</td>\n",
       "      <td>0</td>\n",
       "      <td>0</td>\n",
       "      <td>...</td>\n",
       "      <td>0</td>\n",
       "      <td>0</td>\n",
       "      <td>0</td>\n",
       "      <td>0</td>\n",
       "      <td>0</td>\n",
       "      <td>0</td>\n",
       "      <td>0</td>\n",
       "      <td>0</td>\n",
       "      <td>0</td>\n",
       "      <td>0</td>\n",
       "    </tr>\n",
       "  </tbody>\n",
       "</table>\n",
       "<p>1000 rows × 7206 columns</p>\n",
       "</div>"
      ],
      "text/plain": [
       "     \\n  \\n\\n  \\n\\n   \\n\\n      \\n   \\n \\n  \\n    \\n  \\n       \\n \\n     ...  \\\n",
       "0     0     0      0         0    0      0         0        0      0  2  ...   \n",
       "1     0     0      0         0    0      0         0        0      0  0  ...   \n",
       "2     0     1      0         0    0      0         0        0      0  0  ...   \n",
       "3     1     0      0         0    0      0         0        0      0  0  ...   \n",
       "4     0     1      0         0    0      0         0        0      0  1  ...   \n",
       "..   ..   ...    ...       ...  ...    ...       ...      ...    ... ..  ...   \n",
       "995   0     1      0         0    0      0         0        0      0  0  ...   \n",
       "996   0     0      0         0    0      0         0        0      0  0  ...   \n",
       "997   0     1      0         0    0      0         0        0      0  0  ...   \n",
       "998   0     0      0         0    0      0         0        0      0  0  ...   \n",
       "999   0     0      0         0    0      0         0        0      0  0  ...   \n",
       "\n",
       "     🗳  😂  😧  😲  🙌  🚒  🚨  🛩  🤷  🧡  \n",
       "0    0  0  0  0  0  0  0  0  0  0  \n",
       "1    0  0  0  0  0  0  0  0  0  0  \n",
       "2    0  0  0  0  0  0  0  0  0  0  \n",
       "3    0  0  0  0  0  0  0  0  0  0  \n",
       "4    0  0  0  0  0  0  0  0  0  0  \n",
       "..  .. .. .. .. .. .. .. .. .. ..  \n",
       "995  0  0  0  0  0  0  0  0  0  0  \n",
       "996  0  0  0  0  0  0  0  0  0  0  \n",
       "997  0  0  0  0  0  0  0  0  0  0  \n",
       "998  0  0  0  0  0  0  0  0  0  0  \n",
       "999  0  0  0  0  0  0  0  0  0  0  \n",
       "\n",
       "[1000 rows x 7206 columns]"
      ]
     },
     "execution_count": 11,
     "metadata": {},
     "output_type": "execute_result"
    }
   ],
   "source": [
    "# Code to concatenate bag of words matrix with column names to visualize\n",
    "# ----------\n",
    "bow_df = pd.DataFrame(bow_matrix.toarray(),  # make bow_matrix an array \n",
    "                      columns=feature_names) # set column names to feature names just extracted\n",
    "bow_df"
   ]
  },
  {
   "cell_type": "markdown",
   "metadata": {},
   "source": [
    "### EDA 2"
   ]
  },
  {
   "cell_type": "code",
   "execution_count": 12,
   "metadata": {
    "tags": []
   },
   "outputs": [],
   "source": [
    "#word cloud\n",
    "# download libraries\n",
    "# ----------\n",
    "#!pip install scattertext\n",
    "#!pip install wordcloud\n",
    "#!pip install textblob"
   ]
  },
  {
   "cell_type": "code",
   "execution_count": 13,
   "metadata": {
    "tags": []
   },
   "outputs": [],
   "source": [
    "# load libraries\n",
    "# ----------\n",
    "import pandas as pd\n",
    "import numpy as np\n",
    "\n",
    "from PIL import Image\n",
    "import spacy\n",
    "import en_core_web_sm"
   ]
  },
  {
   "cell_type": "code",
   "execution_count": 14,
   "metadata": {
    "tags": []
   },
   "outputs": [],
   "source": [
    "#this causes kernal to die but not needed right now \n",
    "#import scattertext as st\n",
    "#nlp = en_core_web_sm.load()"
   ]
  },
  {
   "cell_type": "code",
   "execution_count": 15,
   "metadata": {
    "tags": []
   },
   "outputs": [],
   "source": [
    "from spacy.lang.en.stop_words import STOP_WORDS\n",
    "from string import punctuation\n",
    "from wordcloud import WordCloud, STOPWORDS, ImageColorGenerator\n",
    "from textblob import TextBlob\n",
    "from sklearn.feature_extraction.text import TfidfVectorizer\n",
    "from sklearn.decomposition import LatentDirichletAllocation\n",
    "import seaborn as sns\n",
    "import matplotlib.pyplot as plt"
   ]
  },
  {
   "cell_type": "code",
   "execution_count": 16,
   "metadata": {
    "tags": []
   },
   "outputs": [],
   "source": [
    "# code for kMeans and silhouette scores\n",
    "from sklearn.cluster import KMeans\n",
    "from sklearn.metrics import silhouette_samples, silhouette_score\n",
    "import matplotlib.cm as cm\n",
    "\n",
    "# settings \n",
    "%matplotlib inline"
   ]
  },
  {
   "cell_type": "code",
   "execution_count": 17,
   "metadata": {
    "tags": []
   },
   "outputs": [],
   "source": [
    "from collections import Counter\n",
    "# Counter(' '.join(congress_tweets['text'].map(lambda text: text.split()).explode()).split())"
   ]
  },
  {
   "cell_type": "code",
   "execution_count": 18,
   "metadata": {
    "tags": []
   },
   "outputs": [
    {
     "name": "stdout",
     "output_type": "stream",
     "text": [
      "179232    Wishing @radioviceonline the best! Looking for...\n",
      "495859    Please join me tomorrow at 6:15pm in Berlin fo...\n",
      "818005    @SenatorTimScott Y’all still wearing those ken...\n",
      "786850    @SenWhitehouse The choice Trump gave: \"abandon...\n",
      "548703    @NancyPelosi As the House of Representatives o...\n",
      "                                ...                        \n",
      "302420    @AmericasVoice .@SenatorDurbin: \"It is a high ...\n",
      "389337    .@McDonaldsCorp is the first global restaurant...\n",
      "198075    Federal workers are struggling to feed their f...\n",
      "86118     Congrats to the @RiverCats! Making Sacramento ...\n",
      "227069    @HouseIntel \"Mr. Giuliani became an inescapabl...\n",
      "Name: text, Length: 1000, dtype: object\n"
     ]
    }
   ],
   "source": [
    "import pandas as pd\n",
    "\n",
    "def check_word(word, stop_words):\n",
    "    word = word.lower()\n",
    "    if word in stop_words:\n",
    "        return False\n",
    "    if word.startswith(\"https\"):\n",
    "        return False\n",
    "    if word.endswith(\"jpg\") or word.endswith(\"jpeg\"):\n",
    "        return False\n",
    "    return True\n",
    "\n",
    "# Assuming you have a DataFrame named 'df' with a column named 'text_column'\n",
    "# containing the text data where you want to remove stop words\n",
    "\n",
    "# Define your remove_stop_words function\n",
    "def remove_stop_words(text, stop_words):\n",
    "    \"\"\"\n",
    "    Removes stop words from the input text.\n",
    "\n",
    "    Args:\n",
    "    text (str): The input text.\n",
    "    stop_words (list): A list of stop words to be removed from the text.\n",
    "\n",
    "    Returns:\n",
    "    str: The text with stop words removed.\n",
    "    \"\"\"\n",
    "    words = text.split()\n",
    "    filtered_words = [word for word in words if check_word(word, stop_words)]\n",
    "    filtered_text = ' '.join(filtered_words)\n",
    "    return filtered_text\n",
    "\n",
    "# List of stop words\n",
    "stop_words = [\"rt\", \"qt\", \"twimg\", \"amp\", \"jpg\", \"https\", \"&amp;\"]\n",
    "\n",
    "# Apply remove_stop_words function to 'text_column' in the DataFrame\n",
    "congress_tweets['text'] = congress_tweets['text'].apply(lambda x: remove_stop_words(x, stop_words))\n",
    "\n",
    "# Display the modified DataFrame\n",
    "print(congress_tweets['text'])\n",
    "# remove_stop_words(congress_tweets['text'].iloc[0], stop_words)"
   ]
  },
  {
   "cell_type": "code",
   "execution_count": 19,
   "metadata": {
    "tags": []
   },
   "outputs": [],
   "source": [
    "# ----------\n",
    "# congress_tweets = pd.read_csv(\"/Users/marisatsai/Downloads/data 2/116th Congressional Tweets and Demographics.csv\")\n",
    "# fill in this line of code with a sufficient number of tweets, depending on your computational resources\n",
    "# congress_tweets = congress_tweets.sample(10000)"
   ]
  },
  {
   "cell_type": "code",
   "execution_count": 20,
   "metadata": {
    "tags": []
   },
   "outputs": [],
   "source": [
    "# Convert rows of tweets to rows of individual words in each tweet\n",
    "words = congress_tweets['text'].map(lambda text: text.split()).explode()\n",
    "# Filter null rows\n",
    "words = words[~words.isnull()]\n",
    "# Form single space-separated string from all the remaining words\n",
    "text = ' '.join(words)"
   ]
  },
  {
   "cell_type": "code",
   "execution_count": 21,
   "metadata": {
    "tags": []
   },
   "outputs": [
    {
     "data": {
      "image/png": "[encoded data removed]",
      "text/plain": [
       "<Figure size 640x480 with 1 Axes>"
      ]
     },
     "metadata": {},
     "output_type": "display_data"
    }
   ],
   "source": [
    "# create WordCloud visualization using the \"text\" object \n",
    "# not sure why stop words are still being included \n",
    "wordcloud = WordCloud(random_state=40).generate(text) # set random state to ensure same word cloud each time\n",
    "\n",
    "# plot \n",
    "plt.imshow(wordcloud,                  # specify wordcloud\n",
    "           interpolation = 'bilinear') # specifies how the words are displayed\n",
    "plt.axis('off')                        # turn off axes\n",
    "plt.show()                             # show the plot"
   ]
  },
  {
   "cell_type": "markdown",
   "metadata": {},
   "source": [
    "## Sentiment Analysis"
   ]
  },
  {
   "cell_type": "markdown",
   "metadata": {},
   "source": [
    "Next, let's analyze the sentiments contained within the tweets. You may use TextBlob or another library for these tasks. Do the following:\n",
    "\n",
    "* Choose two legislators, one who you think will be more liberal and one who you think will be more conservative, and analyze their sentiment and/or subjectivity scores per tweet. For instance, you might do two scatterplots that plot each legislator's sentiment against their subjectivity, or two density plots for their sentiments. Do the scores match what you thought?\n",
    "* Plot two more visualizations like the ones you chose in the first part, but do them to compare (1) Democrats v. Republicans and (2) Senators v. Representatives \n",
    "\n",
    "`TextBlob` has already been imported in the top cell."
   ]
  },
  {
   "cell_type": "code",
   "execution_count": 22,
   "metadata": {
    "tags": []
   },
   "outputs": [],
   "source": [
    "# load data \n",
    "# ----------\n",
    "#congress_tweets = pd.read_csv(\"/Users/marisatsai/Downloads/data 2/116th Congressional Tweets and Demographics.csv\")\n",
    "# fill in this line of code with a sufficient number of tweets, depending on your computational resources\n",
    "# congress_tweets = congress_tweets.sample(10_000)\n",
    "# congress_tweets.head()"
   ]
  },
  {
   "cell_type": "code",
   "execution_count": 23,
   "metadata": {
    "tags": []
   },
   "outputs": [
    {
     "data": {
      "text/plain": [
       "name_wikipedia\n",
       "Tom Carper                 6\n",
       "Mark E. Green              6\n",
       "Val Demings                7\n",
       "Carolyn Maloney            7\n",
       "Suzanne Bonamici           7\n",
       "Jeff Merkley               7\n",
       "Sylvia Garcia              7\n",
       "Jeanne Shaheen             7\n",
       "Mitch McConnell            7\n",
       "Lloyd Doggett              8\n",
       "Ted Cruz                   8\n",
       "Jim Banks                  8\n",
       "Debbie Mucarsel-Powell     8\n",
       "Kathy Castor               8\n",
       "Chuck Schumer              8\n",
       "Chris Coons                8\n",
       "Bill Pascrell              9\n",
       "Ro Khanna                  9\n",
       "Steny Hoyer                9\n",
       "Susie Lee                 10\n",
       "Pramila Jayapal           10\n",
       "Dwight Evans              12\n",
       "Andy Biggs                13\n",
       "Don Beyer                 18\n",
       "John Cornyn               20\n",
       "Name: tweet_id, dtype: int64"
      ]
     },
     "execution_count": 23,
     "metadata": {},
     "output_type": "execute_result"
    }
   ],
   "source": [
    "congress_tweets.groupby(\"name_wikipedia\").count()[\"tweet_id\"].sort_values()[-25:]"
   ]
  },
  {
   "cell_type": "code",
   "execution_count": 24,
   "metadata": {},
   "outputs": [
    {
     "data": {
      "text/html": [
       "<div>\n",
       "<style scoped>\n",
       "    .dataframe tbody tr th:only-of-type {\n",
       "        vertical-align: middle;\n",
       "    }\n",
       "\n",
       "    .dataframe tbody tr th {\n",
       "        vertical-align: top;\n",
       "    }\n",
       "\n",
       "    .dataframe thead th {\n",
       "        text-align: right;\n",
       "    }\n",
       "</style>\n",
       "<table border=\"1\" class=\"dataframe\">\n",
       "  <thead>\n",
       "    <tr style=\"text-align: right;\">\n",
       "      <th></th>\n",
       "      <th>tweet_id</th>\n",
       "      <th>screen_name</th>\n",
       "      <th>datetime</th>\n",
       "      <th>text</th>\n",
       "      <th>name_wikipedia</th>\n",
       "      <th>position</th>\n",
       "      <th>joined_congress_date</th>\n",
       "      <th>birthday</th>\n",
       "      <th>gender</th>\n",
       "      <th>state</th>\n",
       "      <th>district_number</th>\n",
       "      <th>party</th>\n",
       "      <th>trump_2016_state_share</th>\n",
       "      <th>clinton_2016_state_share</th>\n",
       "      <th>obama_2012_state_share</th>\n",
       "      <th>romney_2012_state_share</th>\n",
       "      <th>polarity</th>\n",
       "    </tr>\n",
       "  </thead>\n",
       "  <tbody>\n",
       "    <tr>\n",
       "      <th>179232</th>\n",
       "      <td>1.192820e+18</td>\n",
       "      <td>RepJohnLarson</td>\n",
       "      <td>2019-11-08T09:51:47-05:00</td>\n",
       "      <td>Wishing @radioviceonline the best! Looking for...</td>\n",
       "      <td>John B. Larson</td>\n",
       "      <td>Rep</td>\n",
       "      <td>3-Jan-99</td>\n",
       "      <td>7/22/1948</td>\n",
       "      <td>M</td>\n",
       "      <td>CT</td>\n",
       "      <td>1</td>\n",
       "      <td>Democrat</td>\n",
       "      <td>673,215</td>\n",
       "      <td>897,572</td>\n",
       "      <td>905,083</td>\n",
       "      <td>634,892</td>\n",
       "      <td>0.483333</td>\n",
       "    </tr>\n",
       "    <tr>\n",
       "      <th>495859</th>\n",
       "      <td>1.121510e+18</td>\n",
       "      <td>SenatorShaheen</td>\n",
       "      <td>2019-04-25T16:14:52-04:00</td>\n",
       "      <td>Please join me tomorrow at 6:15pm in Berlin fo...</td>\n",
       "      <td>Jeanne Shaheen</td>\n",
       "      <td>Sen</td>\n",
       "      <td>3-Jan-09</td>\n",
       "      <td>1/28/1947</td>\n",
       "      <td>F</td>\n",
       "      <td>NH</td>\n",
       "      <td>Senate</td>\n",
       "      <td>Democrat</td>\n",
       "      <td>345,790</td>\n",
       "      <td>348,526</td>\n",
       "      <td>369,561</td>\n",
       "      <td>329,918</td>\n",
       "      <td>0.000000</td>\n",
       "    </tr>\n",
       "    <tr>\n",
       "      <th>818005</th>\n",
       "      <td>1.273310e+18</td>\n",
       "      <td>JohnCornyn</td>\n",
       "      <td>2020-06-17T13:41:58-04:00</td>\n",
       "      <td>@SenatorTimScott Y’all still wearing those ken...</td>\n",
       "      <td>John Cornyn</td>\n",
       "      <td>Sen</td>\n",
       "      <td>2-Dec-02</td>\n",
       "      <td>2/2/1952</td>\n",
       "      <td>M</td>\n",
       "      <td>TX</td>\n",
       "      <td>Senate</td>\n",
       "      <td>Republican</td>\n",
       "      <td>4,685,047</td>\n",
       "      <td>3,877,868</td>\n",
       "      <td>3,308,124</td>\n",
       "      <td>4,569,843</td>\n",
       "      <td>-0.208333</td>\n",
       "    </tr>\n",
       "    <tr>\n",
       "      <th>786850</th>\n",
       "      <td>1.185220e+18</td>\n",
       "      <td>JacksonLeeTX18</td>\n",
       "      <td>2019-10-18T11:47:17-04:00</td>\n",
       "      <td>@SenWhitehouse The choice Trump gave: \"abandon...</td>\n",
       "      <td>Sheila Jackson Lee</td>\n",
       "      <td>Rep</td>\n",
       "      <td>3-Jan-95</td>\n",
       "      <td>1/12/1950</td>\n",
       "      <td>F</td>\n",
       "      <td>TX</td>\n",
       "      <td>18</td>\n",
       "      <td>Democrat</td>\n",
       "      <td>4,685,047</td>\n",
       "      <td>3,877,868</td>\n",
       "      <td>3,308,124</td>\n",
       "      <td>4,569,843</td>\n",
       "      <td>-0.041667</td>\n",
       "    </tr>\n",
       "    <tr>\n",
       "      <th>548703</th>\n",
       "      <td>1.080880e+18</td>\n",
       "      <td>NitaLowey</td>\n",
       "      <td>2019-01-03T12:17:30-05:00</td>\n",
       "      <td>@NancyPelosi As the House of Representatives o...</td>\n",
       "      <td>Nita Lowey</td>\n",
       "      <td>Rep</td>\n",
       "      <td>3-Jan-89</td>\n",
       "      <td>7/5/1937</td>\n",
       "      <td>F</td>\n",
       "      <td>NY</td>\n",
       "      <td>17</td>\n",
       "      <td>Democrat</td>\n",
       "      <td>2,819,533</td>\n",
       "      <td>4,556,118</td>\n",
       "      <td>4,485,741</td>\n",
       "      <td>2,490,431</td>\n",
       "      <td>0.136364</td>\n",
       "    </tr>\n",
       "    <tr>\n",
       "      <th>...</th>\n",
       "      <td>...</td>\n",
       "      <td>...</td>\n",
       "      <td>...</td>\n",
       "      <td>...</td>\n",
       "      <td>...</td>\n",
       "      <td>...</td>\n",
       "      <td>...</td>\n",
       "      <td>...</td>\n",
       "      <td>...</td>\n",
       "      <td>...</td>\n",
       "      <td>...</td>\n",
       "      <td>...</td>\n",
       "      <td>...</td>\n",
       "      <td>...</td>\n",
       "      <td>...</td>\n",
       "      <td>...</td>\n",
       "      <td>...</td>\n",
       "    </tr>\n",
       "    <tr>\n",
       "      <th>269724</th>\n",
       "      <td>1.230230e+18</td>\n",
       "      <td>RepRussFulcher</td>\n",
       "      <td>2020-02-19T15:22:57-05:00</td>\n",
       "      <td>...As I have previously said, economic indicat...</td>\n",
       "      <td>Russ Fulcher</td>\n",
       "      <td>Rep</td>\n",
       "      <td>3-Jan-19</td>\n",
       "      <td>7/19/1973</td>\n",
       "      <td>M</td>\n",
       "      <td>ID</td>\n",
       "      <td>1</td>\n",
       "      <td>Republican</td>\n",
       "      <td>409,055</td>\n",
       "      <td>189,765</td>\n",
       "      <td>212,787</td>\n",
       "      <td>420,911</td>\n",
       "      <td>0.155556</td>\n",
       "    </tr>\n",
       "    <tr>\n",
       "      <th>333475</th>\n",
       "      <td>1.250830e+18</td>\n",
       "      <td>SenJoniErnst</td>\n",
       "      <td>2020-04-16T12:45:25-04:00</td>\n",
       "      <td>Beating #COVID19 is going to take all of us—at...</td>\n",
       "      <td>Joni Ernst</td>\n",
       "      <td>Sen</td>\n",
       "      <td>3-Jan-19</td>\n",
       "      <td>7/1/1970</td>\n",
       "      <td>F</td>\n",
       "      <td>IA</td>\n",
       "      <td>Senate</td>\n",
       "      <td>Republican</td>\n",
       "      <td>800,983</td>\n",
       "      <td>653,669</td>\n",
       "      <td>822,544</td>\n",
       "      <td>730,617</td>\n",
       "      <td>0.000000</td>\n",
       "    </tr>\n",
       "    <tr>\n",
       "      <th>225850</th>\n",
       "      <td>1.214690e+18</td>\n",
       "      <td>RepMichaelWaltz</td>\n",
       "      <td>2020-01-07T18:42:33-05:00</td>\n",
       "      <td>President @realDonaldTrump has made the right ...</td>\n",
       "      <td>Michael Waltz</td>\n",
       "      <td>Rep</td>\n",
       "      <td>3-Jan-19</td>\n",
       "      <td>1/31/1974</td>\n",
       "      <td>M</td>\n",
       "      <td>FL</td>\n",
       "      <td>6</td>\n",
       "      <td>Republican</td>\n",
       "      <td>4,617,886</td>\n",
       "      <td>4,504,975</td>\n",
       "      <td>4,237,756</td>\n",
       "      <td>4,163,447</td>\n",
       "      <td>0.196429</td>\n",
       "    </tr>\n",
       "    <tr>\n",
       "      <th>617132</th>\n",
       "      <td>1.248360e+18</td>\n",
       "      <td>RepDavidRouzer</td>\n",
       "      <td>2020-04-09T17:20:09-04:00</td>\n",
       "      <td>@ncdhhs Stay as healthy as possible to reduce ...</td>\n",
       "      <td>David Rouzer</td>\n",
       "      <td>Rep</td>\n",
       "      <td>3-Jan-15</td>\n",
       "      <td>2/16/1972</td>\n",
       "      <td>M</td>\n",
       "      <td>NC</td>\n",
       "      <td>7</td>\n",
       "      <td>Republican</td>\n",
       "      <td>2,362,631</td>\n",
       "      <td>2,189,316</td>\n",
       "      <td>2,178,391</td>\n",
       "      <td>2,270,395</td>\n",
       "      <td>0.089143</td>\n",
       "    </tr>\n",
       "    <tr>\n",
       "      <th>826543</th>\n",
       "      <td>1.296170e+18</td>\n",
       "      <td>RepLloydDoggett</td>\n",
       "      <td>2020-08-19T15:45:24-04:00</td>\n",
       "      <td>Spotlighting the long road to create a Nationa...</td>\n",
       "      <td>Lloyd Doggett</td>\n",
       "      <td>Rep</td>\n",
       "      <td>3-Jan-95</td>\n",
       "      <td>10/6/1946</td>\n",
       "      <td>M</td>\n",
       "      <td>TX</td>\n",
       "      <td>35</td>\n",
       "      <td>Democrat</td>\n",
       "      <td>4,685,047</td>\n",
       "      <td>3,877,868</td>\n",
       "      <td>3,308,124</td>\n",
       "      <td>4,569,843</td>\n",
       "      <td>0.129762</td>\n",
       "    </tr>\n",
       "  </tbody>\n",
       "</table>\n",
       "<p>100 rows × 17 columns</p>\n",
       "</div>"
      ],
      "text/plain": [
       "            tweet_id      screen_name                   datetime  \\\n",
       "179232  1.192820e+18    RepJohnLarson  2019-11-08T09:51:47-05:00   \n",
       "495859  1.121510e+18   SenatorShaheen  2019-04-25T16:14:52-04:00   \n",
       "818005  1.273310e+18       JohnCornyn  2020-06-17T13:41:58-04:00   \n",
       "786850  1.185220e+18   JacksonLeeTX18  2019-10-18T11:47:17-04:00   \n",
       "548703  1.080880e+18        NitaLowey  2019-01-03T12:17:30-05:00   \n",
       "...              ...              ...                        ...   \n",
       "269724  1.230230e+18   RepRussFulcher  2020-02-19T15:22:57-05:00   \n",
       "333475  1.250830e+18     SenJoniErnst  2020-04-16T12:45:25-04:00   \n",
       "225850  1.214690e+18  RepMichaelWaltz  2020-01-07T18:42:33-05:00   \n",
       "617132  1.248360e+18   RepDavidRouzer  2020-04-09T17:20:09-04:00   \n",
       "826543  1.296170e+18  RepLloydDoggett  2020-08-19T15:45:24-04:00   \n",
       "\n",
       "                                                     text      name_wikipedia  \\\n",
       "179232  Wishing @radioviceonline the best! Looking for...      John B. Larson   \n",
       "495859  Please join me tomorrow at 6:15pm in Berlin fo...      Jeanne Shaheen   \n",
       "818005  @SenatorTimScott Y’all still wearing those ken...         John Cornyn   \n",
       "786850  @SenWhitehouse The choice Trump gave: \"abandon...  Sheila Jackson Lee   \n",
       "548703  @NancyPelosi As the House of Representatives o...          Nita Lowey   \n",
       "...                                                   ...                 ...   \n",
       "269724  ...As I have previously said, economic indicat...        Russ Fulcher   \n",
       "333475  Beating #COVID19 is going to take all of us—at...          Joni Ernst   \n",
       "225850  President @realDonaldTrump has made the right ...       Michael Waltz   \n",
       "617132  @ncdhhs Stay as healthy as possible to reduce ...        David Rouzer   \n",
       "826543  Spotlighting the long road to create a Nationa...       Lloyd Doggett   \n",
       "\n",
       "       position joined_congress_date   birthday gender state district_number  \\\n",
       "179232      Rep             3-Jan-99  7/22/1948      M    CT               1   \n",
       "495859      Sen             3-Jan-09  1/28/1947      F    NH          Senate   \n",
       "818005      Sen             2-Dec-02   2/2/1952      M    TX          Senate   \n",
       "786850      Rep             3-Jan-95  1/12/1950      F    TX              18   \n",
       "548703      Rep             3-Jan-89   7/5/1937      F    NY              17   \n",
       "...         ...                  ...        ...    ...   ...             ...   \n",
       "269724      Rep             3-Jan-19  7/19/1973      M    ID               1   \n",
       "333475      Sen             3-Jan-19   7/1/1970      F    IA          Senate   \n",
       "225850      Rep             3-Jan-19  1/31/1974      M    FL               6   \n",
       "617132      Rep             3-Jan-15  2/16/1972      M    NC               7   \n",
       "826543      Rep             3-Jan-95  10/6/1946      M    TX              35   \n",
       "\n",
       "             party trump_2016_state_share clinton_2016_state_share  \\\n",
       "179232    Democrat                673,215                  897,572   \n",
       "495859    Democrat                345,790                  348,526   \n",
       "818005  Republican              4,685,047                3,877,868   \n",
       "786850    Democrat              4,685,047                3,877,868   \n",
       "548703    Democrat              2,819,533                4,556,118   \n",
       "...            ...                    ...                      ...   \n",
       "269724  Republican                409,055                  189,765   \n",
       "333475  Republican                800,983                  653,669   \n",
       "225850  Republican              4,617,886                4,504,975   \n",
       "617132  Republican              2,362,631                2,189,316   \n",
       "826543    Democrat              4,685,047                3,877,868   \n",
       "\n",
       "       obama_2012_state_share romney_2012_state_share  polarity  \n",
       "179232                905,083                 634,892  0.483333  \n",
       "495859                369,561                 329,918  0.000000  \n",
       "818005              3,308,124               4,569,843 -0.208333  \n",
       "786850              3,308,124               4,569,843 -0.041667  \n",
       "548703              4,485,741               2,490,431  0.136364  \n",
       "...                       ...                     ...       ...  \n",
       "269724                212,787                 420,911  0.155556  \n",
       "333475                822,544                 730,617  0.000000  \n",
       "225850              4,237,756               4,163,447  0.196429  \n",
       "617132              2,178,391               2,270,395  0.089143  \n",
       "826543              3,308,124               4,569,843  0.129762  \n",
       "\n",
       "[100 rows x 17 columns]"
      ]
     },
     "execution_count": 24,
     "metadata": {},
     "output_type": "execute_result"
    }
   ],
   "source": [
    "# create a feature colum of sentiment polarity\n",
    "# ---------- \n",
    "# create the \"text\" column again \n",
    "# congress_tweets['text'] = congress_tweets['text'].map(lambda text: ' '.join(text))\n",
    "\n",
    "# create the \"text\" column again \n",
    "congress_tweets['polarity'] = congress_tweets['text'].map(lambda text: TextBlob(text).sentiment.polarity)\n",
    "\n",
    "# view\n",
    "congress_tweets.head(100)"
   ]
  },
  {
   "cell_type": "code",
   "execution_count": 25,
   "metadata": {
    "tags": []
   },
   "outputs": [
    {
     "data": {
      "text/plain": [
       "5"
      ]
     },
     "execution_count": 25,
     "metadata": {},
     "output_type": "execute_result"
    }
   ],
   "source": [
    "np.sum(congress_tweets['name_wikipedia'] == 'Nancy Pelosi')"
   ]
  },
  {
   "cell_type": "code",
   "execution_count": 26,
   "metadata": {
    "tags": []
   },
   "outputs": [
    {
     "data": {
      "image/png": "[encoded data removed]",
      "text/plain": [
       "<Figure size 640x480 with 1 Axes>"
      ]
     },
     "metadata": {},
     "output_type": "display_data"
    }
   ],
   "source": [
    "NancyPelosi_data = congress_tweets[congress_tweets['name_wikipedia'] == 'Nancy Pelosi']\n",
    "\n",
    "sns.kdeplot(NancyPelosi_data,         # specify data\n",
    "            x=\"polarity\") # x-axis label \n",
    "plt.show()"
   ]
  },
  {
   "cell_type": "code",
   "execution_count": 27,
   "metadata": {
    "tags": []
   },
   "outputs": [
    {
     "data": {
      "image/png": "[encoded data removed]",
      "text/plain": [
       "<Figure size 640x480 with 1 Axes>"
      ]
     },
     "metadata": {},
     "output_type": "display_data"
    }
   ],
   "source": [
    "AndyBiggs_data = congress_tweets[congress_tweets['name_wikipedia'] == 'Andy Biggs']\n",
    "\n",
    "sns.kdeplot(AndyBiggs_data,         # specify data\n",
    "            x=\"polarity\") # x-axis label \n",
    "plt.show()"
   ]
  },
  {
   "cell_type": "code",
   "execution_count": 28,
   "metadata": {
    "tags": []
   },
   "outputs": [
    {
     "data": {
      "image/png": "[encoded data removed]",
      "text/plain": [
       "<Figure size 500x500 with 1 Axes>"
      ]
     },
     "metadata": {},
     "output_type": "display_data"
    }
   ],
   "source": [
    "Rep_data = congress_tweets[congress_tweets['party'] == 'Republican']\n",
    "\n",
    "#histogram\n",
    "sns.displot(Rep_data,         # specify data\n",
    "            x=\"polarity\") # x-axis label \n",
    "plt.show()"
   ]
  },
  {
   "cell_type": "code",
   "execution_count": 29,
   "metadata": {
    "tags": []
   },
   "outputs": [
    {
     "data": {
      "text/html": [
       "<div>\n",
       "<style scoped>\n",
       "    .dataframe tbody tr th:only-of-type {\n",
       "        vertical-align: middle;\n",
       "    }\n",
       "\n",
       "    .dataframe tbody tr th {\n",
       "        vertical-align: top;\n",
       "    }\n",
       "\n",
       "    .dataframe thead th {\n",
       "        text-align: right;\n",
       "    }\n",
       "</style>\n",
       "<table border=\"1\" class=\"dataframe\">\n",
       "  <thead>\n",
       "    <tr style=\"text-align: right;\">\n",
       "      <th></th>\n",
       "      <th>tweet_id</th>\n",
       "      <th>screen_name</th>\n",
       "      <th>datetime</th>\n",
       "      <th>text</th>\n",
       "      <th>name_wikipedia</th>\n",
       "      <th>position</th>\n",
       "      <th>joined_congress_date</th>\n",
       "      <th>birthday</th>\n",
       "      <th>gender</th>\n",
       "      <th>state</th>\n",
       "      <th>district_number</th>\n",
       "      <th>party</th>\n",
       "      <th>trump_2016_state_share</th>\n",
       "      <th>clinton_2016_state_share</th>\n",
       "      <th>obama_2012_state_share</th>\n",
       "      <th>romney_2012_state_share</th>\n",
       "      <th>polarity</th>\n",
       "    </tr>\n",
       "  </thead>\n",
       "  <tbody>\n",
       "    <tr>\n",
       "      <th>818005</th>\n",
       "      <td>1.273310e+18</td>\n",
       "      <td>JohnCornyn</td>\n",
       "      <td>2020-06-17T13:41:58-04:00</td>\n",
       "      <td>@SenatorTimScott Y’all still wearing those ken...</td>\n",
       "      <td>John Cornyn</td>\n",
       "      <td>Sen</td>\n",
       "      <td>2-Dec-02</td>\n",
       "      <td>2/2/1952</td>\n",
       "      <td>M</td>\n",
       "      <td>TX</td>\n",
       "      <td>Senate</td>\n",
       "      <td>Republican</td>\n",
       "      <td>4,685,047</td>\n",
       "      <td>3,877,868</td>\n",
       "      <td>3,308,124</td>\n",
       "      <td>4,569,843</td>\n",
       "      <td>-0.208333</td>\n",
       "    </tr>\n",
       "    <tr>\n",
       "      <th>206643</th>\n",
       "      <td>1.124740e+18</td>\n",
       "      <td>SenRubioPress</td>\n",
       "      <td>2019-05-04T14:15:12-04:00</td>\n",
       "      <td>The U.S. recognizes Interim President @jguaido...</td>\n",
       "      <td>Marco Rubio</td>\n",
       "      <td>Sen</td>\n",
       "      <td>3-Jan-11</td>\n",
       "      <td>5/28/1971</td>\n",
       "      <td>M</td>\n",
       "      <td>FL</td>\n",
       "      <td>Senate</td>\n",
       "      <td>Republican</td>\n",
       "      <td>4,617,886</td>\n",
       "      <td>4,504,975</td>\n",
       "      <td>4,237,756</td>\n",
       "      <td>4,163,447</td>\n",
       "      <td>0.000000</td>\n",
       "    </tr>\n",
       "    <tr>\n",
       "      <th>624603</th>\n",
       "      <td>1.220210e+18</td>\n",
       "      <td>RepArmstrongND</td>\n",
       "      <td>2020-01-22T23:59:42-05:00</td>\n",
       "      <td>@RepLeeZeldin Schiff and his crew can say “no ...</td>\n",
       "      <td>Kelly Armstrong</td>\n",
       "      <td>Rep</td>\n",
       "      <td>3-Jan-19</td>\n",
       "      <td>10/8/1976</td>\n",
       "      <td>M</td>\n",
       "      <td>ND</td>\n",
       "      <td>0</td>\n",
       "      <td>Republican</td>\n",
       "      <td>216,794</td>\n",
       "      <td>93,758</td>\n",
       "      <td>124,827</td>\n",
       "      <td>188,163</td>\n",
       "      <td>0.166667</td>\n",
       "    </tr>\n",
       "    <tr>\n",
       "      <th>797830</th>\n",
       "      <td>1.220300e+18</td>\n",
       "      <td>JohnCornyn</td>\n",
       "      <td>2020-01-23T06:18:00-05:00</td>\n",
       "      <td>@dcexaminer \"I hope this isn't just going to b...</td>\n",
       "      <td>John Cornyn</td>\n",
       "      <td>Sen</td>\n",
       "      <td>2-Dec-02</td>\n",
       "      <td>2/2/1952</td>\n",
       "      <td>M</td>\n",
       "      <td>TX</td>\n",
       "      <td>Senate</td>\n",
       "      <td>Republican</td>\n",
       "      <td>4,685,047</td>\n",
       "      <td>3,877,868</td>\n",
       "      <td>3,308,124</td>\n",
       "      <td>4,569,843</td>\n",
       "      <td>0.099026</td>\n",
       "    </tr>\n",
       "    <tr>\n",
       "      <th>316857</th>\n",
       "      <td>1.153380e+18</td>\n",
       "      <td>RepJimBanks</td>\n",
       "      <td>2019-07-22T14:46:18-04:00</td>\n",
       "      <td>Fiscally responsible legislators will have a t...</td>\n",
       "      <td>Jim Banks</td>\n",
       "      <td>Rep</td>\n",
       "      <td>3-Jan-17</td>\n",
       "      <td>7/16/1979</td>\n",
       "      <td>M</td>\n",
       "      <td>IN</td>\n",
       "      <td>3</td>\n",
       "      <td>Republican</td>\n",
       "      <td>1,557,286</td>\n",
       "      <td>1,033,126</td>\n",
       "      <td>1,152,887</td>\n",
       "      <td>1,420,543</td>\n",
       "      <td>0.043519</td>\n",
       "    </tr>\n",
       "    <tr>\n",
       "      <th>...</th>\n",
       "      <td>...</td>\n",
       "      <td>...</td>\n",
       "      <td>...</td>\n",
       "      <td>...</td>\n",
       "      <td>...</td>\n",
       "      <td>...</td>\n",
       "      <td>...</td>\n",
       "      <td>...</td>\n",
       "      <td>...</td>\n",
       "      <td>...</td>\n",
       "      <td>...</td>\n",
       "      <td>...</td>\n",
       "      <td>...</td>\n",
       "      <td>...</td>\n",
       "      <td>...</td>\n",
       "      <td>...</td>\n",
       "      <td>...</td>\n",
       "    </tr>\n",
       "    <tr>\n",
       "      <th>228677</th>\n",
       "      <td>1.224880e+18</td>\n",
       "      <td>RepRutherfordFL</td>\n",
       "      <td>2020-02-04T21:12:44-05:00</td>\n",
       "      <td>Under @realDonaldTrump's leadership, we secure...</td>\n",
       "      <td>John Rutherford</td>\n",
       "      <td>Rep</td>\n",
       "      <td>3-Jan-17</td>\n",
       "      <td>9/2/1952</td>\n",
       "      <td>M</td>\n",
       "      <td>FL</td>\n",
       "      <td>4</td>\n",
       "      <td>Republican</td>\n",
       "      <td>4,617,886</td>\n",
       "      <td>4,504,975</td>\n",
       "      <td>4,237,756</td>\n",
       "      <td>4,163,447</td>\n",
       "      <td>0.256061</td>\n",
       "    </tr>\n",
       "    <tr>\n",
       "      <th>654167</th>\n",
       "      <td>1.339690e+18</td>\n",
       "      <td>RepBradWenstrup</td>\n",
       "      <td>2020-12-17T17:11:59-05:00</td>\n",
       "      <td>🚨The Vaccines and Related Biological Products ...</td>\n",
       "      <td>Brad Wenstrup</td>\n",
       "      <td>Rep</td>\n",
       "      <td>3-Jan-13</td>\n",
       "      <td>6/17/1958</td>\n",
       "      <td>M</td>\n",
       "      <td>OH</td>\n",
       "      <td>2</td>\n",
       "      <td>Republican</td>\n",
       "      <td>2,841,005</td>\n",
       "      <td>2,394,164</td>\n",
       "      <td>2,827,709</td>\n",
       "      <td>2,661,437</td>\n",
       "      <td>0.221429</td>\n",
       "    </tr>\n",
       "    <tr>\n",
       "      <th>793176</th>\n",
       "      <td>1.204470e+18</td>\n",
       "      <td>RepArrington</td>\n",
       "      <td>2019-12-10T13:51:50-05:00</td>\n",
       "      <td>“Between his work on the Ways and Means Commit...</td>\n",
       "      <td>Jodey Arrington</td>\n",
       "      <td>Rep</td>\n",
       "      <td>3-Jan-17</td>\n",
       "      <td>3/9/1972</td>\n",
       "      <td>M</td>\n",
       "      <td>TX</td>\n",
       "      <td>19</td>\n",
       "      <td>Republican</td>\n",
       "      <td>4,685,047</td>\n",
       "      <td>3,877,868</td>\n",
       "      <td>3,308,124</td>\n",
       "      <td>4,569,843</td>\n",
       "      <td>-0.182292</td>\n",
       "    </tr>\n",
       "    <tr>\n",
       "      <th>221474</th>\n",
       "      <td>1.194660e+18</td>\n",
       "      <td>RepGusBilirakis</td>\n",
       "      <td>2019-11-13T11:52:27-05:00</td>\n",
       "      <td>... health professionals, and authorizes grant...</td>\n",
       "      <td>Gus Bilirakis</td>\n",
       "      <td>Rep</td>\n",
       "      <td>3-Jan-07</td>\n",
       "      <td>2/8/1963</td>\n",
       "      <td>M</td>\n",
       "      <td>FL</td>\n",
       "      <td>12</td>\n",
       "      <td>Republican</td>\n",
       "      <td>4,617,886</td>\n",
       "      <td>4,504,975</td>\n",
       "      <td>4,237,756</td>\n",
       "      <td>4,163,447</td>\n",
       "      <td>0.388889</td>\n",
       "    </tr>\n",
       "    <tr>\n",
       "      <th>931213</th>\n",
       "      <td>1.092980e+18</td>\n",
       "      <td>JimPressOffice</td>\n",
       "      <td>2019-02-05T22:03:40-05:00</td>\n",
       "      <td>POTUS: \"Let us work together to build a cultur...</td>\n",
       "      <td>Jim Sensenbrenner</td>\n",
       "      <td>Rep</td>\n",
       "      <td>3-Jan-79</td>\n",
       "      <td>6/14/1943</td>\n",
       "      <td>M</td>\n",
       "      <td>WI</td>\n",
       "      <td>5</td>\n",
       "      <td>Republican</td>\n",
       "      <td>1,405,284</td>\n",
       "      <td>1,382,536</td>\n",
       "      <td>1,620,985</td>\n",
       "      <td>1,407,966</td>\n",
       "      <td>0.500000</td>\n",
       "    </tr>\n",
       "  </tbody>\n",
       "</table>\n",
       "<p>100 rows × 17 columns</p>\n",
       "</div>"
      ],
      "text/plain": [
       "            tweet_id      screen_name                   datetime  \\\n",
       "818005  1.273310e+18       JohnCornyn  2020-06-17T13:41:58-04:00   \n",
       "206643  1.124740e+18    SenRubioPress  2019-05-04T14:15:12-04:00   \n",
       "624603  1.220210e+18   RepArmstrongND  2020-01-22T23:59:42-05:00   \n",
       "797830  1.220300e+18       JohnCornyn  2020-01-23T06:18:00-05:00   \n",
       "316857  1.153380e+18      RepJimBanks  2019-07-22T14:46:18-04:00   \n",
       "...              ...              ...                        ...   \n",
       "228677  1.224880e+18  RepRutherfordFL  2020-02-04T21:12:44-05:00   \n",
       "654167  1.339690e+18  RepBradWenstrup  2020-12-17T17:11:59-05:00   \n",
       "793176  1.204470e+18     RepArrington  2019-12-10T13:51:50-05:00   \n",
       "221474  1.194660e+18  RepGusBilirakis  2019-11-13T11:52:27-05:00   \n",
       "931213  1.092980e+18   JimPressOffice  2019-02-05T22:03:40-05:00   \n",
       "\n",
       "                                                     text     name_wikipedia  \\\n",
       "818005  @SenatorTimScott Y’all still wearing those ken...        John Cornyn   \n",
       "206643  The U.S. recognizes Interim President @jguaido...        Marco Rubio   \n",
       "624603  @RepLeeZeldin Schiff and his crew can say “no ...    Kelly Armstrong   \n",
       "797830  @dcexaminer \"I hope this isn't just going to b...        John Cornyn   \n",
       "316857  Fiscally responsible legislators will have a t...          Jim Banks   \n",
       "...                                                   ...                ...   \n",
       "228677  Under @realDonaldTrump's leadership, we secure...    John Rutherford   \n",
       "654167  🚨The Vaccines and Related Biological Products ...      Brad Wenstrup   \n",
       "793176  “Between his work on the Ways and Means Commit...    Jodey Arrington   \n",
       "221474  ... health professionals, and authorizes grant...      Gus Bilirakis   \n",
       "931213  POTUS: \"Let us work together to build a cultur...  Jim Sensenbrenner   \n",
       "\n",
       "       position joined_congress_date   birthday gender state district_number  \\\n",
       "818005      Sen             2-Dec-02   2/2/1952      M    TX          Senate   \n",
       "206643      Sen             3-Jan-11  5/28/1971      M    FL          Senate   \n",
       "624603      Rep             3-Jan-19  10/8/1976      M    ND               0   \n",
       "797830      Sen             2-Dec-02   2/2/1952      M    TX          Senate   \n",
       "316857      Rep             3-Jan-17  7/16/1979      M    IN               3   \n",
       "...         ...                  ...        ...    ...   ...             ...   \n",
       "228677      Rep             3-Jan-17   9/2/1952      M    FL               4   \n",
       "654167      Rep             3-Jan-13  6/17/1958      M    OH               2   \n",
       "793176      Rep             3-Jan-17   3/9/1972      M    TX              19   \n",
       "221474      Rep             3-Jan-07   2/8/1963      M    FL              12   \n",
       "931213      Rep             3-Jan-79  6/14/1943      M    WI               5   \n",
       "\n",
       "             party trump_2016_state_share clinton_2016_state_share  \\\n",
       "818005  Republican              4,685,047                3,877,868   \n",
       "206643  Republican              4,617,886                4,504,975   \n",
       "624603  Republican                216,794                   93,758   \n",
       "797830  Republican              4,685,047                3,877,868   \n",
       "316857  Republican              1,557,286                1,033,126   \n",
       "...            ...                    ...                      ...   \n",
       "228677  Republican              4,617,886                4,504,975   \n",
       "654167  Republican              2,841,005                2,394,164   \n",
       "793176  Republican              4,685,047                3,877,868   \n",
       "221474  Republican              4,617,886                4,504,975   \n",
       "931213  Republican              1,405,284                1,382,536   \n",
       "\n",
       "       obama_2012_state_share romney_2012_state_share  polarity  \n",
       "818005              3,308,124               4,569,843 -0.208333  \n",
       "206643              4,237,756               4,163,447  0.000000  \n",
       "624603                124,827                 188,163  0.166667  \n",
       "797830              3,308,124               4,569,843  0.099026  \n",
       "316857              1,152,887               1,420,543  0.043519  \n",
       "...                       ...                     ...       ...  \n",
       "228677              4,237,756               4,163,447  0.256061  \n",
       "654167              2,827,709               2,661,437  0.221429  \n",
       "793176              3,308,124               4,569,843 -0.182292  \n",
       "221474              4,237,756               4,163,447  0.388889  \n",
       "931213              1,620,985               1,407,966  0.500000  \n",
       "\n",
       "[100 rows x 17 columns]"
      ]
     },
     "execution_count": 29,
     "metadata": {},
     "output_type": "execute_result"
    }
   ],
   "source": [
    "Rep_data.head(100)"
   ]
  },
  {
   "cell_type": "code",
   "execution_count": 30,
   "metadata": {
    "tags": []
   },
   "outputs": [
    {
     "data": {
      "image/png": "[encoded data removed]",
      "text/plain": [
       "<Figure size 500x500 with 1 Axes>"
      ]
     },
     "metadata": {},
     "output_type": "display_data"
    }
   ],
   "source": [
    "Dem_data = congress_tweets[congress_tweets['party'] == 'Democrat']\n",
    "\n",
    "#histogram\n",
    "sns.displot(Dem_data,         # specify data\n",
    "            x=\"polarity\") # x-axis label \n",
    "plt.show()"
   ]
  },
  {
   "cell_type": "code",
   "execution_count": 200,
   "metadata": {
    "tags": []
   },
   "outputs": [
    {
     "data": {
      "image/png": "[encoded data removed]",
      "text/plain": [
       "<Figure size 500x500 with 1 Axes>"
      ]
     },
     "metadata": {},
     "output_type": "display_data"
    }
   ],
   "source": [
    "Repr_data = congress_tweets[congress_tweets['position'] == 'Rep']\n",
    "\n",
    "#histogram\n",
    "sns.displot(Repr_data,         # specify data\n",
    "            x=\"polarity\") # x-axis label \n",
    "plt.show()"
   ]
  },
  {
   "cell_type": "code",
   "execution_count": 201,
   "metadata": {
    "tags": []
   },
   "outputs": [
    {
     "data": {
      "image/png": "[encoded data removed]",
      "text/plain": [
       "<Figure size 500x500 with 1 Axes>"
      ]
     },
     "metadata": {},
     "output_type": "display_data"
    }
   ],
   "source": [
    "Sen_data = congress_tweets[congress_tweets['position'] == 'Sen']\n",
    "\n",
    "#histogram\n",
    "sns.displot(Sen_data,         # specify data\n",
    "            x=\"polarity\") # x-axis label \n",
    "plt.show()"
   ]
  },
  {
   "cell_type": "markdown",
   "metadata": {},
   "source": [
    "## Featurization"
   ]
  },
  {
   "cell_type": "markdown",
   "metadata": {},
   "source": [
    "Before going to classification, explore different featurization techniques. Create three dataframes or arrays to represent your text features, specifically:\n",
    "\n",
    "* Features engineered from your previous analysis. For example, word counts, sentiment scores, topic model etc.\n",
    "* A term frequency-inverse document frequency matrix. \n",
    "* An embedding-based featurization (like a document averaged word2vec)\n",
    "\n",
    "In the next section, you will experiment with each of these featurization techniques to see which one produces the best classifications."
   ]
  },
  {
   "cell_type": "markdown",
   "metadata": {},
   "source": [
    "### Engineered Text Features"
   ]
  },
  {
   "cell_type": "code",
   "execution_count": 32,
   "metadata": {},
   "outputs": [
    {
     "data": {
      "text/html": [
       "<div>\n",
       "<style scoped>\n",
       "    .dataframe tbody tr th:only-of-type {\n",
       "        vertical-align: middle;\n",
       "    }\n",
       "\n",
       "    .dataframe tbody tr th {\n",
       "        vertical-align: top;\n",
       "    }\n",
       "\n",
       "    .dataframe thead th {\n",
       "        text-align: right;\n",
       "    }\n",
       "</style>\n",
       "<table border=\"1\" class=\"dataframe\">\n",
       "  <thead>\n",
       "    <tr style=\"text-align: right;\">\n",
       "      <th></th>\n",
       "      <th>text</th>\n",
       "      <th>tweet_len</th>\n",
       "    </tr>\n",
       "  </thead>\n",
       "  <tbody>\n",
       "    <tr>\n",
       "      <th>179232</th>\n",
       "      <td>Wishing @radioviceonline the best! Looking for...</td>\n",
       "      <td>337</td>\n",
       "    </tr>\n",
       "    <tr>\n",
       "      <th>495859</th>\n",
       "      <td>Please join me tomorrow at 6:15pm in Berlin fo...</td>\n",
       "      <td>168</td>\n",
       "    </tr>\n",
       "    <tr>\n",
       "      <th>818005</th>\n",
       "      <td>@SenatorTimScott Y’all still wearing those ken...</td>\n",
       "      <td>236</td>\n",
       "    </tr>\n",
       "    <tr>\n",
       "      <th>786850</th>\n",
       "      <td>@SenWhitehouse The choice Trump gave: \"abandon...</td>\n",
       "      <td>247</td>\n",
       "    </tr>\n",
       "    <tr>\n",
       "      <th>548703</th>\n",
       "      <td>@NancyPelosi As the House of Representatives o...</td>\n",
       "      <td>164</td>\n",
       "    </tr>\n",
       "    <tr>\n",
       "      <th>...</th>\n",
       "      <td>...</td>\n",
       "      <td>...</td>\n",
       "    </tr>\n",
       "    <tr>\n",
       "      <th>302420</th>\n",
       "      <td>@AmericasVoice .@SenatorDurbin: \"It is a high ...</td>\n",
       "      <td>192</td>\n",
       "    </tr>\n",
       "    <tr>\n",
       "      <th>389337</th>\n",
       "      <td>.@McDonaldsCorp is the first global restaurant...</td>\n",
       "      <td>270</td>\n",
       "    </tr>\n",
       "    <tr>\n",
       "      <th>198075</th>\n",
       "      <td>Federal workers are struggling to feed their f...</td>\n",
       "      <td>319</td>\n",
       "    </tr>\n",
       "    <tr>\n",
       "      <th>86118</th>\n",
       "      <td>Congrats to the @RiverCats! Making Sacramento ...</td>\n",
       "      <td>68</td>\n",
       "    </tr>\n",
       "    <tr>\n",
       "      <th>227069</th>\n",
       "      <td>@HouseIntel \"Mr. Giuliani became an inescapabl...</td>\n",
       "      <td>268</td>\n",
       "    </tr>\n",
       "  </tbody>\n",
       "</table>\n",
       "<p>1000 rows × 2 columns</p>\n",
       "</div>"
      ],
      "text/plain": [
       "                                                     text  tweet_len\n",
       "179232  Wishing @radioviceonline the best! Looking for...        337\n",
       "495859  Please join me tomorrow at 6:15pm in Berlin fo...        168\n",
       "818005  @SenatorTimScott Y’all still wearing those ken...        236\n",
       "786850  @SenWhitehouse The choice Trump gave: \"abandon...        247\n",
       "548703  @NancyPelosi As the House of Representatives o...        164\n",
       "...                                                   ...        ...\n",
       "302420  @AmericasVoice .@SenatorDurbin: \"It is a high ...        192\n",
       "389337  .@McDonaldsCorp is the first global restaurant...        270\n",
       "198075  Federal workers are struggling to feed their f...        319\n",
       "86118   Congrats to the @RiverCats! Making Sacramento ...         68\n",
       "227069  @HouseIntel \"Mr. Giuliani became an inescapabl...        268\n",
       "\n",
       "[1000 rows x 2 columns]"
      ]
     },
     "execution_count": 32,
     "metadata": {},
     "output_type": "execute_result"
    }
   ],
   "source": [
    "# Engineered Features\n",
    "\n",
    "# find the character count for each document \n",
    "# --------\n",
    "# apply length function to tokens column to count each character\n",
    "congress_tweets['tweet_len'] = congress_tweets['text'].apply(len)\n",
    "\n",
    "# view the new feature we just created\n",
    "congress_tweets[['text', 'tweet_len']]"
   ]
  },
  {
   "cell_type": "code",
   "execution_count": 33,
   "metadata": {
    "tags": []
   },
   "outputs": [
    {
     "data": {
      "text/html": [
       "<div>\n",
       "<style scoped>\n",
       "    .dataframe tbody tr th:only-of-type {\n",
       "        vertical-align: middle;\n",
       "    }\n",
       "\n",
       "    .dataframe tbody tr th {\n",
       "        vertical-align: top;\n",
       "    }\n",
       "\n",
       "    .dataframe thead th {\n",
       "        text-align: right;\n",
       "    }\n",
       "</style>\n",
       "<table border=\"1\" class=\"dataframe\">\n",
       "  <thead>\n",
       "    <tr style=\"text-align: right;\">\n",
       "      <th></th>\n",
       "      <th>text</th>\n",
       "      <th>tweet_len</th>\n",
       "      <th>word_count</th>\n",
       "    </tr>\n",
       "  </thead>\n",
       "  <tbody>\n",
       "    <tr>\n",
       "      <th>179232</th>\n",
       "      <td>Wishing @radioviceonline the best! Looking for...</td>\n",
       "      <td>337</td>\n",
       "      <td>50</td>\n",
       "    </tr>\n",
       "    <tr>\n",
       "      <th>495859</th>\n",
       "      <td>Please join me tomorrow at 6:15pm in Berlin fo...</td>\n",
       "      <td>168</td>\n",
       "      <td>27</td>\n",
       "    </tr>\n",
       "    <tr>\n",
       "      <th>818005</th>\n",
       "      <td>@SenatorTimScott Y’all still wearing those ken...</td>\n",
       "      <td>236</td>\n",
       "      <td>34</td>\n",
       "    </tr>\n",
       "    <tr>\n",
       "      <th>786850</th>\n",
       "      <td>@SenWhitehouse The choice Trump gave: \"abandon...</td>\n",
       "      <td>247</td>\n",
       "      <td>36</td>\n",
       "    </tr>\n",
       "    <tr>\n",
       "      <th>548703</th>\n",
       "      <td>@NancyPelosi As the House of Representatives o...</td>\n",
       "      <td>164</td>\n",
       "      <td>28</td>\n",
       "    </tr>\n",
       "    <tr>\n",
       "      <th>...</th>\n",
       "      <td>...</td>\n",
       "      <td>...</td>\n",
       "      <td>...</td>\n",
       "    </tr>\n",
       "    <tr>\n",
       "      <th>302420</th>\n",
       "      <td>@AmericasVoice .@SenatorDurbin: \"It is a high ...</td>\n",
       "      <td>192</td>\n",
       "      <td>31</td>\n",
       "    </tr>\n",
       "    <tr>\n",
       "      <th>389337</th>\n",
       "      <td>.@McDonaldsCorp is the first global restaurant...</td>\n",
       "      <td>270</td>\n",
       "      <td>43</td>\n",
       "    </tr>\n",
       "    <tr>\n",
       "      <th>198075</th>\n",
       "      <td>Federal workers are struggling to feed their f...</td>\n",
       "      <td>319</td>\n",
       "      <td>34</td>\n",
       "    </tr>\n",
       "    <tr>\n",
       "      <th>86118</th>\n",
       "      <td>Congrats to the @RiverCats! Making Sacramento ...</td>\n",
       "      <td>68</td>\n",
       "      <td>9</td>\n",
       "    </tr>\n",
       "    <tr>\n",
       "      <th>227069</th>\n",
       "      <td>@HouseIntel \"Mr. Giuliani became an inescapabl...</td>\n",
       "      <td>268</td>\n",
       "      <td>37</td>\n",
       "    </tr>\n",
       "  </tbody>\n",
       "</table>\n",
       "<p>1000 rows × 3 columns</p>\n",
       "</div>"
      ],
      "text/plain": [
       "                                                     text  tweet_len  \\\n",
       "179232  Wishing @radioviceonline the best! Looking for...        337   \n",
       "495859  Please join me tomorrow at 6:15pm in Berlin fo...        168   \n",
       "818005  @SenatorTimScott Y’all still wearing those ken...        236   \n",
       "786850  @SenWhitehouse The choice Trump gave: \"abandon...        247   \n",
       "548703  @NancyPelosi As the House of Representatives o...        164   \n",
       "...                                                   ...        ...   \n",
       "302420  @AmericasVoice .@SenatorDurbin: \"It is a high ...        192   \n",
       "389337  .@McDonaldsCorp is the first global restaurant...        270   \n",
       "198075  Federal workers are struggling to feed their f...        319   \n",
       "86118   Congrats to the @RiverCats! Making Sacramento ...         68   \n",
       "227069  @HouseIntel \"Mr. Giuliani became an inescapabl...        268   \n",
       "\n",
       "        word_count  \n",
       "179232          50  \n",
       "495859          27  \n",
       "818005          34  \n",
       "786850          36  \n",
       "548703          28  \n",
       "...            ...  \n",
       "302420          31  \n",
       "389337          43  \n",
       "198075          34  \n",
       "86118            9  \n",
       "227069          37  \n",
       "\n",
       "[1000 rows x 3 columns]"
      ]
     },
     "execution_count": 33,
     "metadata": {},
     "output_type": "execute_result"
    }
   ],
   "source": [
    "# find the word count for each document \n",
    "# --------\n",
    "# apply length function to tokens column to count words -- you will need to split the text to count words\n",
    "congress_tweets['word_count'] = congress_tweets['text'].apply(lambda x: len(str(x).split()))\n",
    "\n",
    "# view\n",
    "congress_tweets[['text', 'tweet_len', 'word_count']]"
   ]
  },
  {
   "cell_type": "markdown",
   "metadata": {},
   "source": [
    "### Bag-of-words or Tf-idf"
   ]
  },
  {
   "cell_type": "code",
   "execution_count": 34,
   "metadata": {
    "tags": []
   },
   "outputs": [],
   "source": [
    "from spacy.lang.en.stop_words import STOP_WORDS"
   ]
  },
  {
   "cell_type": "code",
   "execution_count": 35,
   "metadata": {
    "tags": []
   },
   "outputs": [],
   "source": [
    "#congress_tweets = pd.read_csv(\"/Users/marisatsai/Downloads/data 2/116th Congressional Tweets and Demographics.csv\")\n",
    "#congress_tweets = congress_tweets.sample(10000)"
   ]
  },
  {
   "cell_type": "code",
   "execution_count": 36,
   "metadata": {},
   "outputs": [],
   "source": [
    "# Frequency Based featurization\n",
    "\n",
    "# initialize the Bag-of-Words CounterVectorizer\n",
    "# ----------\n",
    "# notice the ngram_range argument\n",
    "countvec = CountVectorizer(stop_words=list(STOP_WORDS), # specify a list of stop words to extract \n",
    "                           ngram_range=(2,3))"
   ]
  },
  {
   "cell_type": "code",
   "execution_count": 37,
   "metadata": {
    "tags": []
   },
   "outputs": [
    {
     "name": "stderr",
     "output_type": "stream",
     "text": [
      "/Users/marisatsai/anaconda3/lib/python3.11/site-packages/sklearn/feature_extraction/text.py:408: UserWarning: Your stop_words may be inconsistent with your preprocessing. Tokenizing the stop words generated tokens ['ll', 've'] not in stop_words.\n",
      "  warnings.warn(\n"
     ]
    }
   ],
   "source": [
    "# fit and transform on tokens\n",
    "ngrams = countvec.fit_transform(congress_tweets['text'])         \n",
    "\n",
    "# create a dataframe out of ngram sparse matrix - need to densify bc DataFrame can't handle sparse matrix\n",
    "dictionary_dataframe = pd.DataFrame(ngrams.todense(), # specify data to convert to dataframe \n",
    "                                    columns = countvec.get_feature_names_out()) # get features"
   ]
  },
  {
   "cell_type": "markdown",
   "metadata": {},
   "source": [
    "### Word Embedding"
   ]
  },
  {
   "cell_type": "code",
   "execution_count": 38,
   "metadata": {},
   "outputs": [],
   "source": [
    "# Load Word2Vec model from Google; OPTIONAL depending on your computational resources (the file is ~1 GB)\n",
    "# Also note that this file path assumes that the word vectors are underneath 'data'; you may wish to point to the CSS course repo and change the path\n",
    "# or move the vector file to the project repo \n",
    "\n",
    "model = gensim.models.KeyedVectors.load_word2vec_format('/Users/marisatsai/Downloads/GoogleNews-vectors-negative300.bin.gz', binary = True) "
   ]
  },
  {
   "cell_type": "code",
   "execution_count": 39,
   "metadata": {},
   "outputs": [],
   "source": [
    "# embedding based featurization\n",
    "...# create preprocessing function \n",
    "# ----------\n",
    "\n",
    "def rem_punc_stop(text):\n",
    "    stop_words = STOP_WORDS\n",
    "    # Individually\n",
    "    # nlp.Defaults.stop_words.add(\"XX\")\n",
    "    # nlp.Defaults.stop_words.add(\"XXXX\")\n",
    "    # nlp.Defaults.stop_words.add(\"XXXXXXX\")\n",
    "    \n",
    "    # Using the bitwise |= (or) operator\n",
    "    nlp.Defaults.stop_words |= {\"xx\", \"xxxx\",\"xxxxxxxx\"}\n",
    "    \n",
    "    punc = set(punctuation)\n",
    "    \n",
    "    punc_free = \"\".join([ch for ch in text if ch not in punc])\n",
    "    \n",
    "    doc = nlp(punc_free)\n",
    "    \n",
    "    spacy_words = [token.text.lower() for token in doc]\n",
    "    \n",
    "    no_punc = [word for word in spacy_words if word not in stop_words]\n",
    "    \n",
    "    return no_punc"
   ]
  },
  {
   "cell_type": "code",
   "execution_count": 40,
   "metadata": {
    "tags": []
   },
   "outputs": [
    {
     "data": {
      "text/plain": [
       "179232    [wishing, radioviceonline, best, looking, forw...\n",
       "495859    [join, tomorrow, 615pm, berlin, town, hall, me...\n",
       "818005    [senatortimscott, y’all, wearing, kente, cloth...\n",
       "786850    [senwhitehouse, choice, trump, gave, abandon, ...\n",
       "548703    [nancypelosi, house, representatives, opens, 1...\n",
       "                                ...                        \n",
       "302420    [americasvoice, senatordurbin, high, standard,...\n",
       "389337    [mcdonaldscorp, global, restaurant, use, scien...\n",
       "198075    [federal, workers, struggling, feed, families,...\n",
       "86118     [congrats, rivercats, making, sacramento, prou...\n",
       "227069    [houseintel, mr, giuliani, inescapable, presen...\n",
       "Name: text, Length: 1000, dtype: object"
      ]
     },
     "execution_count": 40,
     "metadata": {},
     "output_type": "execute_result"
    }
   ],
   "source": [
    "# apply our preprocessing function \n",
    "# ----------\n",
    "congress_tweets['text'] = congress_tweets['text'].map(lambda x: rem_punc_stop(x))\n",
    "congress_tweets['text']"
   ]
  },
  {
   "cell_type": "code",
   "execution_count": 41,
   "metadata": {
    "tags": []
   },
   "outputs": [],
   "source": [
    "# apply CBOW Word2vec model\n",
    "# ----------\n",
    "model = gensim.models.Word2Vec(congress_tweets['text'],    # specify data - sentences\n",
    "                               vector_size=100,   # set embedding size at 100\n",
    "                               window=5,          # max distance between current and predicted word\n",
    "                               min_count=5,       # ignores words with freq fewer than this threshold\n",
    "                               sg=0,              # specify Continuous Bag of Words Algorithim\n",
    "                               alpha=0.025,       # learning rate\n",
    "                               epochs = 5,        # iterations\n",
    "                               seed = 1,          # set random seed (same as random_state in sklearn )\n",
    "                               batch_words=10000, # sample size \n",
    "                               workers = 1)       # set cores to 1 to ensure this embeddings are fully reproducible"
   ]
  },
  {
   "cell_type": "code",
   "execution_count": 42,
   "metadata": {
    "tags": []
   },
   "outputs": [
    {
     "name": "stdout",
     "output_type": "stream",
     "text": [
      "Help on method build_vocab_from_freq in module gensim.models.word2vec:\n",
      "\n",
      "build_vocab_from_freq(word_freq, keep_raw_vocab=False, corpus_count=None, trim_rule=None, update=False) method of gensim.models.word2vec.Word2Vec instance\n",
      "    Build vocabulary from a dictionary of word frequencies.\n",
      "    \n",
      "    Parameters\n",
      "    ----------\n",
      "    word_freq : dict of (str, int)\n",
      "        A mapping from a word in the vocabulary to its frequency count.\n",
      "    keep_raw_vocab : bool, optional\n",
      "        If False, delete the raw vocabulary after the scaling is done to free up RAM.\n",
      "    corpus_count : int, optional\n",
      "        Even if no corpus is provided, this argument can set corpus_count explicitly.\n",
      "    trim_rule : function, optional\n",
      "        Vocabulary trimming rule, specifies whether certain words should remain in the vocabulary,\n",
      "        be trimmed away, or handled using the default (discard if word count < min_count).\n",
      "        Can be None (min_count will be used, look to :func:`~gensim.utils.keep_vocab_item`),\n",
      "        or a callable that accepts parameters (word, count, min_count) and returns either\n",
      "        :attr:`gensim.utils.RULE_DISCARD`, :attr:`gensim.utils.RULE_KEEP` or :attr:`gensim.utils.RULE_DEFAULT`.\n",
      "        The rule, if given, is only used to prune vocabulary during current method call and is not stored as part\n",
      "        of the model.\n",
      "    \n",
      "        The input parameters are of the following types:\n",
      "            * `word` (str) - the word we are examining\n",
      "            * `count` (int) - the word's frequency count in the corpus\n",
      "            * `min_count` (int) - the minimum count threshold.\n",
      "    \n",
      "    update : bool, optional\n",
      "        If true, the new provided words in `word_freq` dict will be added to model's vocab.\n",
      "\n"
     ]
    }
   ],
   "source": [
    "help(model.build_vocab_from_freq)"
   ]
  },
  {
   "cell_type": "code",
   "execution_count": 43,
   "metadata": {
    "tags": []
   },
   "outputs": [
    {
     "name": "stdout",
     "output_type": "stream",
     "text": [
      "[[-0.01318546  0.02783315  0.01340942 -0.00382068  0.01202022 -0.05561549\n",
      "   0.01169064  0.07586628 -0.02637906 -0.0080167  -0.03391568 -0.02606788\n",
      "  -0.01189748 -0.00326254  0.0059909  -0.00462999  0.01263532 -0.03974244\n",
      "  -0.00615811 -0.07438418  0.00869141  0.02380959  0.00339613 -0.01117054\n",
      "  -0.01592935  0.00553082 -0.03410446 -0.01986314 -0.01634517  0.00908724\n",
      "   0.02966411  0.01851878 -0.00562356 -0.01746101 -0.01990131  0.03450157\n",
      "  -0.01014775 -0.03663355 -0.01947243 -0.06318903 -0.00691464 -0.02829033\n",
      "   0.00693541  0.00310044  0.03116989 -0.00290928 -0.02810055  0.00449642\n",
      "   0.01949962  0.02706609  0.01000388 -0.03131289  0.00348805  0.00519795\n",
      "  -0.03979729  0.02655304  0.01960305  0.0073751  -0.04755723  0.01472323\n",
      "   0.00833756  0.00580034 -0.01184223 -0.01202062 -0.03530274  0.01960455\n",
      "   0.03297684  0.03758803 -0.04470145  0.03082082 -0.02342875  0.00463678\n",
      "   0.0356028   0.00014209  0.03135657  0.02269055 -0.01802182 -0.00372097\n",
      "  -0.02370892  0.01220184 -0.01730068 -0.00366771 -0.03098475  0.05320093\n",
      "   0.0035311   0.00830727  0.00457116  0.06295833  0.03622355 -0.00065518\n",
      "   0.05253731  0.01296746 -0.00562127  0.00481368  0.05433235  0.03813269\n",
      "   0.0182612  -0.04293365  0.0250528  -0.00405949]]\n"
     ]
    }
   ],
   "source": [
    "# return embeddings for specific word\n",
    "# ----------\n",
    "print(model.wv.__getitem__(['year'])) # specify a key word here: \"\""
   ]
  },
  {
   "cell_type": "code",
   "execution_count": 44,
   "metadata": {
    "tags": []
   },
   "outputs": [
    {
     "data": {
      "text/plain": [
       "(1, 100)"
      ]
     },
     "execution_count": 44,
     "metadata": {},
     "output_type": "execute_result"
    }
   ],
   "source": [
    "# get shape\n",
    "# ----------\n",
    "model.wv.__getitem__(['year']).shape "
   ]
  },
  {
   "cell_type": "code",
   "execution_count": 45,
   "metadata": {
    "tags": []
   },
   "outputs": [
    {
     "data": {
      "text/plain": [
       "27"
      ]
     },
     "execution_count": 45,
     "metadata": {},
     "output_type": "execute_result"
    }
   ],
   "source": [
    "# get length\n",
    "# ----------\n",
    "len(congress_tweets['text'].iloc[0])\n"
   ]
  },
  {
   "cell_type": "code",
   "execution_count": 46,
   "metadata": {
    "tags": []
   },
   "outputs": [
    {
     "data": {
      "text/plain": [
       "9"
      ]
     },
     "execution_count": 46,
     "metadata": {},
     "output_type": "execute_result"
    }
   ],
   "source": [
    "# get model's vocabulary\n",
    "# ----------\n",
    "doc = [word for word in congress_tweets['text'].iloc[0] if word in model.wv.index_to_key]\n",
    "len(doc)"
   ]
  },
  {
   "cell_type": "code",
   "execution_count": 47,
   "metadata": {
    "tags": []
   },
   "outputs": [
    {
     "data": {
      "text/plain": [
       "['wishing', 'best', 'looking', 'forward', 'coming']"
      ]
     },
     "execution_count": 47,
     "metadata": {},
     "output_type": "execute_result"
    }
   ],
   "source": [
    "# look at the first five\n",
    "# ----------\n",
    "doc[0:5]"
   ]
  },
  {
   "cell_type": "code",
   "execution_count": 48,
   "metadata": {
    "tags": []
   },
   "outputs": [
    {
     "name": "stdout",
     "output_type": "stream",
     "text": [
      "[-0.02881349  0.04189992  0.03299482 -0.00654757  0.03334083 -0.07824776\n",
      "  0.01738886  0.12884468 -0.02680385 -0.0209658  -0.05102817 -0.06457551\n",
      " -0.02611949  0.00193532  0.00711426 -0.0294332   0.02288061 -0.05231061\n",
      "  0.00936481 -0.11261297  0.01485748  0.02649725  0.01787674 -0.01279409\n",
      " -0.02520535  0.00903349 -0.05051286 -0.03582299 -0.02366742  0.01382845\n",
      "  0.05585216  0.02320931  0.00594752 -0.0233652  -0.03564741  0.05185606\n",
      " -0.02240285 -0.06735938 -0.03682141 -0.09715126 -0.00610654 -0.02855363\n",
      " -0.00476974 -0.00364137  0.02676051 -0.02370897 -0.02784981 -0.01134385\n",
      "  0.03595336  0.04399301  0.02741882 -0.05712199  0.00014631  0.00683853\n",
      " -0.0552435   0.04197971  0.02734703  0.0034055  -0.05739604  0.02316607\n",
      "  0.00935885  0.01681118 -0.00128911 -0.02004774 -0.07483052  0.01985705\n",
      "  0.0483309   0.04947461 -0.07602274  0.0542828  -0.04548128  0.00307002\n",
      "  0.05131329 -0.01672329  0.04630928  0.03215878 -0.01181426 -0.02658658\n",
      " -0.06060351  0.03143332 -0.03766504 -0.01421198 -0.05561277  0.08403686\n",
      " -0.01184755  0.01584315  0.0011201   0.08756875  0.05627851  0.00040502\n",
      "  0.07139722  0.00852417  0.00812318  0.00495659  0.09647833  0.05695374\n",
      "  0.03679326 -0.04935908  0.04300151 -0.01460539]\n",
      "(100,)\n"
     ]
    }
   ],
   "source": [
    "# word embeddings for \"new\"\n",
    "# ----------\n",
    "print(model.wv['new'])\n",
    "print(model.wv['new'].shape)"
   ]
  },
  {
   "cell_type": "code",
   "execution_count": 49,
   "metadata": {
    "tags": []
   },
   "outputs": [
    {
     "data": {
      "text/plain": [
       "-0.00035033002"
      ]
     },
     "execution_count": 49,
     "metadata": {},
     "output_type": "execute_result"
    }
   ],
   "source": [
    "# find the mean\n",
    "# ----------\n",
    "np.mean(model.wv['new'])"
   ]
  },
  {
   "cell_type": "code",
   "execution_count": 50,
   "metadata": {
    "tags": []
   },
   "outputs": [
    {
     "data": {
      "text/plain": [
       "-0.0013600766"
      ]
     },
     "execution_count": 50,
     "metadata": {},
     "output_type": "execute_result"
    }
   ],
   "source": [
    "# find the first vector of each token and find their mean\n",
    "# ----------\n",
    "# create empty list\n",
    "first_vec = []\n",
    "\n",
    "# loop over each document\n",
    "for token in model.wv[doc]:\n",
    "    first_vec.append(token[0])\n",
    "    \n",
    "# calculate their mean\n",
    "np.mean(first_vec)"
   ]
  },
  {
   "cell_type": "code",
   "execution_count": 51,
   "metadata": {
    "tags": []
   },
   "outputs": [],
   "source": [
    "# Function to average word embeddings for a document; use examples from lab to apply this function. You can use also other techniques such as PCA and doc2vec instead.\n",
    "# was having issues bc some tweets had 0 words that were in the dictionary so asked to raise error.\n",
    "def document_vector(word2vec_model, doc):\n",
    "    doc = [word for word in doc if word in model.wv.index_to_key]\n",
    "    if len(doc) == 0:\n",
    "        raise ValueError(\"No words\")\n",
    "    return np.mean(model.wv[doc], axis=0)"
   ]
  },
  {
   "cell_type": "code",
   "execution_count": 104,
   "metadata": {
    "tags": []
   },
   "outputs": [
    {
     "data": {
      "text/plain": [
       "array([[-0.00136008,  0.01055421,  0.00714806, ..., -0.01242513,\n",
       "         0.00554721, -0.00253355],\n",
       "       [-0.00689929,  0.01915788,  0.01006623, ..., -0.01991352,\n",
       "         0.011416  , -0.01119675],\n",
       "       [-0.01316266,  0.03452255,  0.01525984, ..., -0.03601354,\n",
       "         0.02354429, -0.01151933],\n",
       "       ...,\n",
       "       [-0.01479764,  0.02888367,  0.01083467, ..., -0.02886945,\n",
       "         0.01855827, -0.01570044],\n",
       "       [-0.01341479,  0.01395656,  0.01225876, ..., -0.0216752 ,\n",
       "         0.00845109, -0.01447345],\n",
       "       [-0.01922379,  0.033699  ,  0.01218667, ..., -0.0358156 ,\n",
       "         0.02264789, -0.01216142]])"
      ]
     },
     "execution_count": 104,
     "metadata": {},
     "output_type": "execute_result"
    }
   ],
   "source": [
    "# create an array for the size of the corpus\n",
    "# ----------\n",
    "# create empty list\n",
    "empty_list_embeddings_means = []\n",
    "\n",
    "# loop over each each token\n",
    "for tweet in congress_tweets['text']: # append the vector for each document\n",
    "    try:\n",
    "        empty_list_embeddings_means.append(document_vector(model, tweet))\n",
    "    except ValueError:\n",
    "        empty_list_embeddings_means.append(np.zeros(100))\n",
    "    \n",
    "# convert the list to array\n",
    "doc_average_embeddings = np.array(empty_list_embeddings_means) \n",
    "\n",
    "# print averages\n",
    "doc_average_embeddings"
   ]
  },
  {
   "cell_type": "code",
   "execution_count": 106,
   "metadata": {
    "tags": []
   },
   "outputs": [
    {
     "data": {
      "text/plain": [
       "1000"
      ]
     },
     "execution_count": 106,
     "metadata": {},
     "output_type": "execute_result"
    }
   ],
   "source": [
    "len(congress_tweets)"
   ]
  },
  {
   "cell_type": "markdown",
   "metadata": {},
   "source": [
    "## Classification"
   ]
  },
  {
   "cell_type": "markdown",
   "metadata": {},
   "source": [
    "Either use cross-validation or partition your data with training/validation/test sets for this section. Do the following:\n",
    "\n",
    "* Choose a supervised learning algorithm such as logistic regression, random forest etc. \n",
    "* Train six models. For each of the three dataframes you created in the featurization part, train one model to predict whether the author of the tweet is a Democrat or Republican, and a second model to predict whether the author is a Senator or Representative.\n",
    "* Report the accuracy and other relevant metrics for each of these six models.\n",
    "* Choose the featurization technique associated with your best model. Combine those text features with non-text features. Train two more models: (1) A supervised learning algorithm that uses just the non-text features and (2) a supervised learning algorithm that combines text and non-text features. Report accuracy and other relevant metrics. \n",
    "\n",
    "If time permits, you are encouraged to use hyperparameter tuning or AutoML techniques like TPOT, but are not explicitly required to do so."
   ]
  },
  {
   "cell_type": "markdown",
   "metadata": {},
   "source": [
    "### Train Six Models with Just Text"
   ]
  },
  {
   "cell_type": "code",
   "execution_count": 53,
   "metadata": {
    "tags": []
   },
   "outputs": [
    {
     "data": {
      "text/plain": [
       "Index(['tweet_id', 'screen_name', 'datetime', 'text', 'name_wikipedia',\n",
       "       'position', 'joined_congress_date', 'birthday', 'gender', 'state',\n",
       "       'district_number', 'party', 'trump_2016_state_share',\n",
       "       'clinton_2016_state_share', 'obama_2012_state_share',\n",
       "       'romney_2012_state_share', 'polarity', 'tweet_len', 'word_count'],\n",
       "      dtype='object')"
      ]
     },
     "execution_count": 53,
     "metadata": {},
     "output_type": "execute_result"
    }
   ],
   "source": [
    "congress_tweets.columns"
   ]
  },
  {
   "cell_type": "code",
   "execution_count": 184,
   "metadata": {
    "tags": []
   },
   "outputs": [],
   "source": [
    "# Engineered Text Features\n",
    "# --------\n",
    "# select engineered text features\n",
    "engineered_features = congress_tweets[[\n",
    "    'tweet_len', \n",
    "    'word_count',\n",
    "    'polarity',\n",
    "]].reset_index(drop = True)"
   ]
  },
  {
   "cell_type": "code",
   "execution_count": 185,
   "metadata": {
    "tags": []
   },
   "outputs": [],
   "source": [
    "# more pre-processing \n",
    "# --------\n",
    "\n",
    "# create a list of dataframes from the objects created above\n",
    "dataframes = [\n",
    "    engineered_features,\n",
    "    dictionary_dataframe,\n",
    "    pd.DataFrame(doc_average_embeddings),\n",
    "]\n",
    "\n",
    "# create a list of labeles based on the objects created above\n",
    "featurization_technique = [\n",
    "    'Engineered Text Features',\n",
    "    'BoW Features',\n",
    "    'Word2Vec',\n",
    "]\n"
   ]
  },
  {
   "cell_type": "code",
   "execution_count": 186,
   "metadata": {
    "tags": []
   },
   "outputs": [
    {
     "data": {
      "text/html": [
       "<div>\n",
       "<style scoped>\n",
       "    .dataframe tbody tr th:only-of-type {\n",
       "        vertical-align: middle;\n",
       "    }\n",
       "\n",
       "    .dataframe tbody tr th {\n",
       "        vertical-align: top;\n",
       "    }\n",
       "\n",
       "    .dataframe thead th {\n",
       "        text-align: right;\n",
       "    }\n",
       "</style>\n",
       "<table border=\"1\" class=\"dataframe\">\n",
       "  <thead>\n",
       "    <tr style=\"text-align: right;\">\n",
       "      <th></th>\n",
       "      <th>00 eastern</th>\n",
       "      <th>00 eastern fixed</th>\n",
       "      <th>000 2016</th>\n",
       "      <th>000 americans</th>\n",
       "      <th>000 americans died</th>\n",
       "      <th>000 available</th>\n",
       "      <th>000 available hospital</th>\n",
       "      <th>000 available ventilators</th>\n",
       "      <th>000 checks</th>\n",
       "      <th>000 checks families</th>\n",
       "      <th>...</th>\n",
       "      <th>zoe east</th>\n",
       "      <th>zoe east st</th>\n",
       "      <th>zoe lofgren</th>\n",
       "      <th>zoe lofgren california</th>\n",
       "      <th>zones decide</th>\n",
       "      <th>zones decide voluntarily</th>\n",
       "      <th>zoom event</th>\n",
       "      <th>zoom event link</th>\n",
       "      <th>órdenes de</th>\n",
       "      <th>órdenes de evacuación</th>\n",
       "    </tr>\n",
       "  </thead>\n",
       "  <tbody>\n",
       "    <tr>\n",
       "      <th>0</th>\n",
       "      <td>0</td>\n",
       "      <td>0</td>\n",
       "      <td>0</td>\n",
       "      <td>0</td>\n",
       "      <td>0</td>\n",
       "      <td>0</td>\n",
       "      <td>0</td>\n",
       "      <td>0</td>\n",
       "      <td>0</td>\n",
       "      <td>0</td>\n",
       "      <td>...</td>\n",
       "      <td>0</td>\n",
       "      <td>0</td>\n",
       "      <td>0</td>\n",
       "      <td>0</td>\n",
       "      <td>0</td>\n",
       "      <td>0</td>\n",
       "      <td>0</td>\n",
       "      <td>0</td>\n",
       "      <td>0</td>\n",
       "      <td>0</td>\n",
       "    </tr>\n",
       "    <tr>\n",
       "      <th>1</th>\n",
       "      <td>0</td>\n",
       "      <td>0</td>\n",
       "      <td>0</td>\n",
       "      <td>0</td>\n",
       "      <td>0</td>\n",
       "      <td>0</td>\n",
       "      <td>0</td>\n",
       "      <td>0</td>\n",
       "      <td>0</td>\n",
       "      <td>0</td>\n",
       "      <td>...</td>\n",
       "      <td>0</td>\n",
       "      <td>0</td>\n",
       "      <td>0</td>\n",
       "      <td>0</td>\n",
       "      <td>0</td>\n",
       "      <td>0</td>\n",
       "      <td>0</td>\n",
       "      <td>0</td>\n",
       "      <td>0</td>\n",
       "      <td>0</td>\n",
       "    </tr>\n",
       "    <tr>\n",
       "      <th>2</th>\n",
       "      <td>0</td>\n",
       "      <td>0</td>\n",
       "      <td>0</td>\n",
       "      <td>0</td>\n",
       "      <td>0</td>\n",
       "      <td>0</td>\n",
       "      <td>0</td>\n",
       "      <td>0</td>\n",
       "      <td>0</td>\n",
       "      <td>0</td>\n",
       "      <td>...</td>\n",
       "      <td>0</td>\n",
       "      <td>0</td>\n",
       "      <td>0</td>\n",
       "      <td>0</td>\n",
       "      <td>0</td>\n",
       "      <td>0</td>\n",
       "      <td>0</td>\n",
       "      <td>0</td>\n",
       "      <td>0</td>\n",
       "      <td>0</td>\n",
       "    </tr>\n",
       "    <tr>\n",
       "      <th>3</th>\n",
       "      <td>0</td>\n",
       "      <td>0</td>\n",
       "      <td>0</td>\n",
       "      <td>0</td>\n",
       "      <td>0</td>\n",
       "      <td>0</td>\n",
       "      <td>0</td>\n",
       "      <td>0</td>\n",
       "      <td>0</td>\n",
       "      <td>0</td>\n",
       "      <td>...</td>\n",
       "      <td>0</td>\n",
       "      <td>0</td>\n",
       "      <td>0</td>\n",
       "      <td>0</td>\n",
       "      <td>0</td>\n",
       "      <td>0</td>\n",
       "      <td>0</td>\n",
       "      <td>0</td>\n",
       "      <td>0</td>\n",
       "      <td>0</td>\n",
       "    </tr>\n",
       "    <tr>\n",
       "      <th>4</th>\n",
       "      <td>0</td>\n",
       "      <td>0</td>\n",
       "      <td>0</td>\n",
       "      <td>0</td>\n",
       "      <td>0</td>\n",
       "      <td>0</td>\n",
       "      <td>0</td>\n",
       "      <td>0</td>\n",
       "      <td>0</td>\n",
       "      <td>0</td>\n",
       "      <td>...</td>\n",
       "      <td>0</td>\n",
       "      <td>0</td>\n",
       "      <td>0</td>\n",
       "      <td>0</td>\n",
       "      <td>0</td>\n",
       "      <td>0</td>\n",
       "      <td>0</td>\n",
       "      <td>0</td>\n",
       "      <td>0</td>\n",
       "      <td>0</td>\n",
       "    </tr>\n",
       "    <tr>\n",
       "      <th>...</th>\n",
       "      <td>...</td>\n",
       "      <td>...</td>\n",
       "      <td>...</td>\n",
       "      <td>...</td>\n",
       "      <td>...</td>\n",
       "      <td>...</td>\n",
       "      <td>...</td>\n",
       "      <td>...</td>\n",
       "      <td>...</td>\n",
       "      <td>...</td>\n",
       "      <td>...</td>\n",
       "      <td>...</td>\n",
       "      <td>...</td>\n",
       "      <td>...</td>\n",
       "      <td>...</td>\n",
       "      <td>...</td>\n",
       "      <td>...</td>\n",
       "      <td>...</td>\n",
       "      <td>...</td>\n",
       "      <td>...</td>\n",
       "      <td>...</td>\n",
       "    </tr>\n",
       "    <tr>\n",
       "      <th>995</th>\n",
       "      <td>0</td>\n",
       "      <td>0</td>\n",
       "      <td>0</td>\n",
       "      <td>0</td>\n",
       "      <td>0</td>\n",
       "      <td>0</td>\n",
       "      <td>0</td>\n",
       "      <td>0</td>\n",
       "      <td>0</td>\n",
       "      <td>0</td>\n",
       "      <td>...</td>\n",
       "      <td>0</td>\n",
       "      <td>0</td>\n",
       "      <td>0</td>\n",
       "      <td>0</td>\n",
       "      <td>0</td>\n",
       "      <td>0</td>\n",
       "      <td>0</td>\n",
       "      <td>0</td>\n",
       "      <td>0</td>\n",
       "      <td>0</td>\n",
       "    </tr>\n",
       "    <tr>\n",
       "      <th>996</th>\n",
       "      <td>0</td>\n",
       "      <td>0</td>\n",
       "      <td>0</td>\n",
       "      <td>0</td>\n",
       "      <td>0</td>\n",
       "      <td>0</td>\n",
       "      <td>0</td>\n",
       "      <td>0</td>\n",
       "      <td>0</td>\n",
       "      <td>0</td>\n",
       "      <td>...</td>\n",
       "      <td>0</td>\n",
       "      <td>0</td>\n",
       "      <td>0</td>\n",
       "      <td>0</td>\n",
       "      <td>0</td>\n",
       "      <td>0</td>\n",
       "      <td>0</td>\n",
       "      <td>0</td>\n",
       "      <td>0</td>\n",
       "      <td>0</td>\n",
       "    </tr>\n",
       "    <tr>\n",
       "      <th>997</th>\n",
       "      <td>0</td>\n",
       "      <td>0</td>\n",
       "      <td>0</td>\n",
       "      <td>0</td>\n",
       "      <td>0</td>\n",
       "      <td>0</td>\n",
       "      <td>0</td>\n",
       "      <td>0</td>\n",
       "      <td>0</td>\n",
       "      <td>0</td>\n",
       "      <td>...</td>\n",
       "      <td>0</td>\n",
       "      <td>0</td>\n",
       "      <td>0</td>\n",
       "      <td>0</td>\n",
       "      <td>0</td>\n",
       "      <td>0</td>\n",
       "      <td>0</td>\n",
       "      <td>0</td>\n",
       "      <td>0</td>\n",
       "      <td>0</td>\n",
       "    </tr>\n",
       "    <tr>\n",
       "      <th>998</th>\n",
       "      <td>0</td>\n",
       "      <td>0</td>\n",
       "      <td>0</td>\n",
       "      <td>0</td>\n",
       "      <td>0</td>\n",
       "      <td>0</td>\n",
       "      <td>0</td>\n",
       "      <td>0</td>\n",
       "      <td>0</td>\n",
       "      <td>0</td>\n",
       "      <td>...</td>\n",
       "      <td>0</td>\n",
       "      <td>0</td>\n",
       "      <td>0</td>\n",
       "      <td>0</td>\n",
       "      <td>0</td>\n",
       "      <td>0</td>\n",
       "      <td>0</td>\n",
       "      <td>0</td>\n",
       "      <td>0</td>\n",
       "      <td>0</td>\n",
       "    </tr>\n",
       "    <tr>\n",
       "      <th>999</th>\n",
       "      <td>0</td>\n",
       "      <td>0</td>\n",
       "      <td>0</td>\n",
       "      <td>0</td>\n",
       "      <td>0</td>\n",
       "      <td>0</td>\n",
       "      <td>0</td>\n",
       "      <td>0</td>\n",
       "      <td>0</td>\n",
       "      <td>0</td>\n",
       "      <td>...</td>\n",
       "      <td>0</td>\n",
       "      <td>0</td>\n",
       "      <td>0</td>\n",
       "      <td>0</td>\n",
       "      <td>0</td>\n",
       "      <td>0</td>\n",
       "      <td>0</td>\n",
       "      <td>0</td>\n",
       "      <td>0</td>\n",
       "      <td>0</td>\n",
       "    </tr>\n",
       "  </tbody>\n",
       "</table>\n",
       "<p>1000 rows × 36777 columns</p>\n",
       "</div>"
      ],
      "text/plain": [
       "     00 eastern  00 eastern fixed  000 2016  000 americans  \\\n",
       "0             0                 0         0              0   \n",
       "1             0                 0         0              0   \n",
       "2             0                 0         0              0   \n",
       "3             0                 0         0              0   \n",
       "4             0                 0         0              0   \n",
       "..          ...               ...       ...            ...   \n",
       "995           0                 0         0              0   \n",
       "996           0                 0         0              0   \n",
       "997           0                 0         0              0   \n",
       "998           0                 0         0              0   \n",
       "999           0                 0         0              0   \n",
       "\n",
       "     000 americans died  000 available  000 available hospital  \\\n",
       "0                     0              0                       0   \n",
       "1                     0              0                       0   \n",
       "2                     0              0                       0   \n",
       "3                     0              0                       0   \n",
       "4                     0              0                       0   \n",
       "..                  ...            ...                     ...   \n",
       "995                   0              0                       0   \n",
       "996                   0              0                       0   \n",
       "997                   0              0                       0   \n",
       "998                   0              0                       0   \n",
       "999                   0              0                       0   \n",
       "\n",
       "     000 available ventilators  000 checks  000 checks families  ...  \\\n",
       "0                            0           0                    0  ...   \n",
       "1                            0           0                    0  ...   \n",
       "2                            0           0                    0  ...   \n",
       "3                            0           0                    0  ...   \n",
       "4                            0           0                    0  ...   \n",
       "..                         ...         ...                  ...  ...   \n",
       "995                          0           0                    0  ...   \n",
       "996                          0           0                    0  ...   \n",
       "997                          0           0                    0  ...   \n",
       "998                          0           0                    0  ...   \n",
       "999                          0           0                    0  ...   \n",
       "\n",
       "     zoe east  zoe east st  zoe lofgren  zoe lofgren california  zones decide  \\\n",
       "0           0            0            0                       0             0   \n",
       "1           0            0            0                       0             0   \n",
       "2           0            0            0                       0             0   \n",
       "3           0            0            0                       0             0   \n",
       "4           0            0            0                       0             0   \n",
       "..        ...          ...          ...                     ...           ...   \n",
       "995         0            0            0                       0             0   \n",
       "996         0            0            0                       0             0   \n",
       "997         0            0            0                       0             0   \n",
       "998         0            0            0                       0             0   \n",
       "999         0            0            0                       0             0   \n",
       "\n",
       "     zones decide voluntarily  zoom event  zoom event link  órdenes de  \\\n",
       "0                           0           0                0           0   \n",
       "1                           0           0                0           0   \n",
       "2                           0           0                0           0   \n",
       "3                           0           0                0           0   \n",
       "4                           0           0                0           0   \n",
       "..                        ...         ...              ...         ...   \n",
       "995                         0           0                0           0   \n",
       "996                         0           0                0           0   \n",
       "997                         0           0                0           0   \n",
       "998                         0           0                0           0   \n",
       "999                         0           0                0           0   \n",
       "\n",
       "     órdenes de evacuación  \n",
       "0                        0  \n",
       "1                        0  \n",
       "2                        0  \n",
       "3                        0  \n",
       "4                        0  \n",
       "..                     ...  \n",
       "995                      0  \n",
       "996                      0  \n",
       "997                      0  \n",
       "998                      0  \n",
       "999                      0  \n",
       "\n",
       "[1000 rows x 36777 columns]"
      ]
     },
     "execution_count": 186,
     "metadata": {},
     "output_type": "execute_result"
    }
   ],
   "source": [
    "dictionary_dataframe"
   ]
  },
  {
   "cell_type": "code",
   "execution_count": 187,
   "metadata": {
    "tags": []
   },
   "outputs": [],
   "source": [
    "from sklearn.preprocessing import LabelBinarizer\n",
    "from sklearn.model_selection import train_test_split\n",
    "from sklearn.linear_model import LogisticRegression\n",
    "from sklearn.metrics import confusion_matrix\n"
   ]
  },
  {
   "cell_type": "code",
   "execution_count": 188,
   "metadata": {
    "tags": []
   },
   "outputs": [],
   "source": [
    "# model initalization and fit\n",
    "# --------\n",
    "\n",
    "# initalize binarizer\n",
    "lb_style = LabelBinarizer()\n",
    "\n",
    "# fit LabelBinarizer to our data\n",
    "y = congress_tweets['position_binary'] = lb_style.fit_transform(congress_tweets[\"position\"])"
   ]
  },
  {
   "cell_type": "code",
   "execution_count": 190,
   "metadata": {
    "tags": []
   },
   "outputs": [
    {
     "data": {
      "text/plain": [
       "1000"
      ]
     },
     "execution_count": 190,
     "metadata": {},
     "output_type": "execute_result"
    }
   ],
   "source": [
    "len (y)"
   ]
  },
  {
   "cell_type": "code",
   "execution_count": 189,
   "metadata": {
    "tags": []
   },
   "outputs": [
    {
     "data": {
      "image/png": "[encoded data removed]",
      "text/plain": [
       "<Figure size 1000x700 with 2 Axes>"
      ]
     },
     "metadata": {},
     "output_type": "display_data"
    },
    {
     "data": {
      "image/png": "[encoded data removed]",
      "text/plain": [
       "<Figure size 1000x700 with 2 Axes>"
      ]
     },
     "metadata": {},
     "output_type": "display_data"
    },
    {
     "data": {
      "image/png": "[encoded data removed]",
      "text/plain": [
       "<Figure size 1000x700 with 2 Axes>"
      ]
     },
     "metadata": {},
     "output_type": "display_data"
    }
   ],
   "source": [
    "# loop over each dataframe, apply a logit classification model, and create a confusion matrix\n",
    "# --------\n",
    "for dataframe, featurization in zip(dataframes, featurization_technique):\n",
    "    \n",
    "    # changing column names to strings because some are integer\n",
    "    dataframe.columns = dataframe.columns.astype(str) \n",
    "    \n",
    "    # split data\n",
    "    # ----------\n",
    "    X_train, X_test, y_train, y_test = train_test_split(dataframe,         # specify features\n",
    "                                                        y,                 # specify labels\n",
    "                                                        train_size = .80,  # specify train split of 80%\n",
    "                                                        test_size=0.20,    # specify test split of 20%\n",
    "                                                        random_state = 10) # set seed for reproducibility\n",
    "    # apply Logit model \n",
    "    # ----------\n",
    "    # initalize Logit model \n",
    "    logit_reg = LogisticRegression() # set max_iter = 500\n",
    "\n",
    "    # fit the model to our data\n",
    "    logit_model = logit_reg.fit(X_train,         # specify feature data\n",
    "                                y_train.ravel()) # specify label data --- don't forget to ravel the label dataset\n",
    "\n",
    "    # predict on test set\n",
    "    y_pred = logit_model.predict(X_test)\n",
    "    \n",
    "    # create a confusion matrix\n",
    "    # ----------\n",
    "    cf_matrix = confusion_matrix(y_test,             # specify test\n",
    "                                 y_pred,             # specify predicted\n",
    "                                 normalize = \"pred\") # normalize\n",
    "\n",
    "    # create a pandas dataframe from the confusion matrix for visualization \n",
    "    df_cm = pd.DataFrame(cf_matrix,          # specify cf_matrix from which to create dataframe \n",
    "                         range(2), range(2)) # set 2 by 2 \n",
    "\n",
    "    # set confusion matrix indices for clarity of visualization\n",
    "    df_cm = df_cm.rename(index=str, \n",
    "                         columns={0: \"Sen\", \n",
    "                                  1: \"Rep\"})\n",
    "\n",
    "    # specify confusion matrix index for clarity\n",
    "    df_cm.index = [\"Sen\", \"Rep\"]\n",
    "    \n",
    "    # figure specifications \n",
    "    plt.figure(figsize = (10,7)) # set figure size specifications\n",
    "    sns.set(font_scale=1.4)      # set label size\n",
    "    sns.heatmap(df_cm,           # specify dataset\n",
    "                annot=True,    \n",
    "                annot_kws={\"size\": 16},\n",
    "                fmt='g')\n",
    "    \n",
    "    # figure labels\n",
    "    plt.title(featurization)\n",
    "    plt.xlabel(\"Predicted Label\")\n",
    "    plt.ylabel(\"True Label\")\n",
    "    plt.show()"
   ]
  },
  {
   "cell_type": "code",
   "execution_count": 130,
   "metadata": {
    "tags": []
   },
   "outputs": [
    {
     "data": {
      "text/html": [
       "<div>\n",
       "<style scoped>\n",
       "    .dataframe tbody tr th:only-of-type {\n",
       "        vertical-align: middle;\n",
       "    }\n",
       "\n",
       "    .dataframe tbody tr th {\n",
       "        vertical-align: top;\n",
       "    }\n",
       "\n",
       "    .dataframe thead th {\n",
       "        text-align: right;\n",
       "    }\n",
       "</style>\n",
       "<table border=\"1\" class=\"dataframe\">\n",
       "  <thead>\n",
       "    <tr style=\"text-align: right;\">\n",
       "      <th></th>\n",
       "      <th>tweet_id</th>\n",
       "      <th>screen_name</th>\n",
       "      <th>datetime</th>\n",
       "      <th>text</th>\n",
       "      <th>name_wikipedia</th>\n",
       "      <th>position</th>\n",
       "      <th>joined_congress_date</th>\n",
       "      <th>birthday</th>\n",
       "      <th>gender</th>\n",
       "      <th>state</th>\n",
       "      <th>district_number</th>\n",
       "      <th>party</th>\n",
       "      <th>trump_2016_state_share</th>\n",
       "      <th>clinton_2016_state_share</th>\n",
       "      <th>obama_2012_state_share</th>\n",
       "      <th>romney_2012_state_share</th>\n",
       "      <th>polarity</th>\n",
       "      <th>tweet_len</th>\n",
       "      <th>word_count</th>\n",
       "      <th>position_binary</th>\n",
       "    </tr>\n",
       "  </thead>\n",
       "  <tbody>\n",
       "    <tr>\n",
       "      <th>179232</th>\n",
       "      <td>1.192820e+18</td>\n",
       "      <td>RepJohnLarson</td>\n",
       "      <td>2019-11-08T09:51:47-05:00</td>\n",
       "      <td>[wishing, radioviceonline, best, looking, forw...</td>\n",
       "      <td>John B. Larson</td>\n",
       "      <td>Rep</td>\n",
       "      <td>3-Jan-99</td>\n",
       "      <td>7/22/1948</td>\n",
       "      <td>M</td>\n",
       "      <td>CT</td>\n",
       "      <td>1</td>\n",
       "      <td>Democrat</td>\n",
       "      <td>673,215</td>\n",
       "      <td>897,572</td>\n",
       "      <td>905,083</td>\n",
       "      <td>634,892</td>\n",
       "      <td>0.483333</td>\n",
       "      <td>337</td>\n",
       "      <td>50</td>\n",
       "      <td>1</td>\n",
       "    </tr>\n",
       "    <tr>\n",
       "      <th>495859</th>\n",
       "      <td>1.121510e+18</td>\n",
       "      <td>SenatorShaheen</td>\n",
       "      <td>2019-04-25T16:14:52-04:00</td>\n",
       "      <td>[join, tomorrow, 615pm, berlin, town, hall, me...</td>\n",
       "      <td>Jeanne Shaheen</td>\n",
       "      <td>Sen</td>\n",
       "      <td>3-Jan-09</td>\n",
       "      <td>1/28/1947</td>\n",
       "      <td>F</td>\n",
       "      <td>NH</td>\n",
       "      <td>Senate</td>\n",
       "      <td>Democrat</td>\n",
       "      <td>345,790</td>\n",
       "      <td>348,526</td>\n",
       "      <td>369,561</td>\n",
       "      <td>329,918</td>\n",
       "      <td>0.000000</td>\n",
       "      <td>168</td>\n",
       "      <td>27</td>\n",
       "      <td>1</td>\n",
       "    </tr>\n",
       "    <tr>\n",
       "      <th>818005</th>\n",
       "      <td>1.273310e+18</td>\n",
       "      <td>JohnCornyn</td>\n",
       "      <td>2020-06-17T13:41:58-04:00</td>\n",
       "      <td>[senatortimscott, y’all, wearing, kente, cloth...</td>\n",
       "      <td>John Cornyn</td>\n",
       "      <td>Sen</td>\n",
       "      <td>2-Dec-02</td>\n",
       "      <td>2/2/1952</td>\n",
       "      <td>M</td>\n",
       "      <td>TX</td>\n",
       "      <td>Senate</td>\n",
       "      <td>Republican</td>\n",
       "      <td>4,685,047</td>\n",
       "      <td>3,877,868</td>\n",
       "      <td>3,308,124</td>\n",
       "      <td>4,569,843</td>\n",
       "      <td>-0.208333</td>\n",
       "      <td>236</td>\n",
       "      <td>34</td>\n",
       "      <td>0</td>\n",
       "    </tr>\n",
       "    <tr>\n",
       "      <th>786850</th>\n",
       "      <td>1.185220e+18</td>\n",
       "      <td>JacksonLeeTX18</td>\n",
       "      <td>2019-10-18T11:47:17-04:00</td>\n",
       "      <td>[senwhitehouse, choice, trump, gave, abandon, ...</td>\n",
       "      <td>Sheila Jackson Lee</td>\n",
       "      <td>Rep</td>\n",
       "      <td>3-Jan-95</td>\n",
       "      <td>1/12/1950</td>\n",
       "      <td>F</td>\n",
       "      <td>TX</td>\n",
       "      <td>18</td>\n",
       "      <td>Democrat</td>\n",
       "      <td>4,685,047</td>\n",
       "      <td>3,877,868</td>\n",
       "      <td>3,308,124</td>\n",
       "      <td>4,569,843</td>\n",
       "      <td>-0.041667</td>\n",
       "      <td>247</td>\n",
       "      <td>36</td>\n",
       "      <td>1</td>\n",
       "    </tr>\n",
       "    <tr>\n",
       "      <th>548703</th>\n",
       "      <td>1.080880e+18</td>\n",
       "      <td>NitaLowey</td>\n",
       "      <td>2019-01-03T12:17:30-05:00</td>\n",
       "      <td>[nancypelosi, house, representatives, opens, 1...</td>\n",
       "      <td>Nita Lowey</td>\n",
       "      <td>Rep</td>\n",
       "      <td>3-Jan-89</td>\n",
       "      <td>7/5/1937</td>\n",
       "      <td>F</td>\n",
       "      <td>NY</td>\n",
       "      <td>17</td>\n",
       "      <td>Democrat</td>\n",
       "      <td>2,819,533</td>\n",
       "      <td>4,556,118</td>\n",
       "      <td>4,485,741</td>\n",
       "      <td>2,490,431</td>\n",
       "      <td>0.136364</td>\n",
       "      <td>164</td>\n",
       "      <td>28</td>\n",
       "      <td>1</td>\n",
       "    </tr>\n",
       "  </tbody>\n",
       "</table>\n",
       "</div>"
      ],
      "text/plain": [
       "            tweet_id     screen_name                   datetime  \\\n",
       "179232  1.192820e+18   RepJohnLarson  2019-11-08T09:51:47-05:00   \n",
       "495859  1.121510e+18  SenatorShaheen  2019-04-25T16:14:52-04:00   \n",
       "818005  1.273310e+18      JohnCornyn  2020-06-17T13:41:58-04:00   \n",
       "786850  1.185220e+18  JacksonLeeTX18  2019-10-18T11:47:17-04:00   \n",
       "548703  1.080880e+18       NitaLowey  2019-01-03T12:17:30-05:00   \n",
       "\n",
       "                                                     text      name_wikipedia  \\\n",
       "179232  [wishing, radioviceonline, best, looking, forw...      John B. Larson   \n",
       "495859  [join, tomorrow, 615pm, berlin, town, hall, me...      Jeanne Shaheen   \n",
       "818005  [senatortimscott, y’all, wearing, kente, cloth...         John Cornyn   \n",
       "786850  [senwhitehouse, choice, trump, gave, abandon, ...  Sheila Jackson Lee   \n",
       "548703  [nancypelosi, house, representatives, opens, 1...          Nita Lowey   \n",
       "\n",
       "       position joined_congress_date   birthday gender state district_number  \\\n",
       "179232      Rep             3-Jan-99  7/22/1948      M    CT               1   \n",
       "495859      Sen             3-Jan-09  1/28/1947      F    NH          Senate   \n",
       "818005      Sen             2-Dec-02   2/2/1952      M    TX          Senate   \n",
       "786850      Rep             3-Jan-95  1/12/1950      F    TX              18   \n",
       "548703      Rep             3-Jan-89   7/5/1937      F    NY              17   \n",
       "\n",
       "             party trump_2016_state_share clinton_2016_state_share  \\\n",
       "179232    Democrat                673,215                  897,572   \n",
       "495859    Democrat                345,790                  348,526   \n",
       "818005  Republican              4,685,047                3,877,868   \n",
       "786850    Democrat              4,685,047                3,877,868   \n",
       "548703    Democrat              2,819,533                4,556,118   \n",
       "\n",
       "       obama_2012_state_share romney_2012_state_share  polarity  tweet_len  \\\n",
       "179232                905,083                 634,892  0.483333        337   \n",
       "495859                369,561                 329,918  0.000000        168   \n",
       "818005              3,308,124               4,569,843 -0.208333        236   \n",
       "786850              3,308,124               4,569,843 -0.041667        247   \n",
       "548703              4,485,741               2,490,431  0.136364        164   \n",
       "\n",
       "        word_count  position_binary  \n",
       "179232          50                1  \n",
       "495859          27                1  \n",
       "818005          34                0  \n",
       "786850          36                1  \n",
       "548703          28                1  "
      ]
     },
     "execution_count": 130,
     "metadata": {},
     "output_type": "execute_result"
    }
   ],
   "source": [
    "congress_tweets.head()"
   ]
  },
  {
   "cell_type": "code",
   "execution_count": 162,
   "metadata": {
    "tags": []
   },
   "outputs": [],
   "source": [
    "# model initalization and fit\n",
    "# --------\n",
    "\n",
    "mask = np.array(congress_tweets[\"party\"] != \"Independent\")\n",
    "\n",
    "ct = pd.DataFrame(congress_tweets[mask])\n",
    "\n",
    "# initalize binarizer\n",
    "lb_style = LabelBinarizer()\n",
    "\n",
    "# fit LabelBinarizer to our data\n",
    "y = ct['party_binary'] = lb_style.fit_transform(ct[\"party\"])\n",
    "\n",
    "dfs = [\n",
    "    engineered_features[mask],\n",
    "    dictionary_dataframe[mask],\n",
    "    pd.DataFrame(doc_average_embeddings)[mask],\n",
    "]\n",
    "\n",
    "names = [\n",
    "    \"Engineered Features\",\n",
    "    \"BoW\",\n",
    "    \"Word2Vec\",\n",
    "]"
   ]
  },
  {
   "cell_type": "code",
   "execution_count": 163,
   "metadata": {
    "tags": []
   },
   "outputs": [
    {
     "data": {
      "image/png": "[encoded data removed]",
      "text/plain": [
       "<Figure size 1000x700 with 2 Axes>"
      ]
     },
     "metadata": {},
     "output_type": "display_data"
    },
    {
     "data": {
      "image/png": "[encoded data removed]",
      "text/plain": [
       "<Figure size 1000x700 with 2 Axes>"
      ]
     },
     "metadata": {},
     "output_type": "display_data"
    },
    {
     "data": {
      "image/png": "[encoded data removed]",
      "text/plain": [
       "<Figure size 1000x700 with 2 Axes>"
      ]
     },
     "metadata": {},
     "output_type": "display_data"
    }
   ],
   "source": [
    "# loop over each dataframe, apply a logit classification model, and create a confusion matrix\n",
    "# --------\n",
    "for dataframe, featurization in zip(dfs, names):\n",
    "    \n",
    "    # changing column names to strings because some are integer\n",
    "    dataframe.columns = dataframe.columns.astype(str) \n",
    "\n",
    "    \n",
    "    # split data\n",
    "    # ----------\n",
    "    X_train, X_test, y_train, y_test = train_test_split(dataframe,         # specify features\n",
    "                                                        y,                 # specify labels\n",
    "                                                        train_size = .80,  # specify train split of 80%\n",
    "                                                        test_size=0.20,    # specify test split of 20%\n",
    "                                                        random_state = 10) # set seed for reproducibility\n",
    "    # apply Logit model \n",
    "    # ----------\n",
    "    # initalize Logit model \n",
    "    logit_reg = LogisticRegression() # set max_iter = 500\n",
    "\n",
    "    # fit the model to our data\n",
    "    logit_model = logit_reg.fit(X_train,         # specify feature data\n",
    "                                y_train.ravel()) # specify label data --- don't forget to ravel the label dataset\n",
    "\n",
    "    # predict on test set\n",
    "    y_pred = logit_model.predict(X_test)\n",
    "    \n",
    "    # create a confusion matrix\n",
    "    # ----------\n",
    "    cf_matrix = confusion_matrix(y_test,             # specify test\n",
    "                                 y_pred,             # specify predicted\n",
    "                                 normalize = \"true\") # normalize\n",
    "\n",
    "    # create a pandas dataframe from the confusion matrix for visualization \n",
    "    df_cm = pd.DataFrame(cf_matrix,          # specify cf_matrix from which to create dataframe \n",
    "                         range(2), range(2)) # set 2 by 2 \n",
    "\n",
    "    # set confusion matrix indices for clarity of visualization\n",
    "    df_cm = df_cm.rename(index=str, \n",
    "                         columns={0: \"Republican\", \n",
    "                                  1: \"Democrat\"})\n",
    "\n",
    "    # specify confusion matrix index for clarity\n",
    "    df_cm.index = [\"Republican\", \"Democrat\"]\n",
    "    \n",
    "    # figure specifications \n",
    "    plt.figure(figsize = (10,7)) # set figure size specifications\n",
    "    sns.set(font_scale=1.4)      # set label size\n",
    "    sns.heatmap(df_cm,           # specify dataset\n",
    "                annot=True,    \n",
    "                annot_kws={\"size\": 16},\n",
    "                fmt='g')\n",
    "    \n",
    "    # figure labels\n",
    "    plt.title(featurization)\n",
    "    plt.xlabel(\"Predicted Label\")\n",
    "    plt.ylabel(\"True Label\")\n",
    "    plt.show()"
   ]
  },
  {
   "cell_type": "markdown",
   "metadata": {},
   "source": [
    "### Two Combined Models"
   ]
  },
  {
   "cell_type": "code",
   "execution_count": 191,
   "metadata": {},
   "outputs": [],
   "source": [
    "# two models ([best text features + non-text features] * [democrat/republican, senator/representative])\n",
    "# Non-text features\n",
    "# --------\n",
    "# select non-text features\n",
    "non_text_features = congress_tweets[[  \n",
    "    'state',\n",
    "    'district_number',\n",
    "    'trump_2016_state_share',\n",
    "    'clinton_2016_state_share', \n",
    "    'obama_2012_state_share',\n",
    "    'romney_2012_state_share',]]\n",
    "\n",
    "# get dummies of non-text features\n",
    "non_text_features_dummies = pd.get_dummies(non_text_features).reset_index(drop = True)\n"
   ]
  },
  {
   "cell_type": "code",
   "execution_count": 192,
   "metadata": {
    "tags": []
   },
   "outputs": [],
   "source": [
    "# combine non-text features + BoW\n",
    "\n",
    "non_text_BoW_features = non_text_features_dummies.reset_index(drop = True).join(dictionary_dataframe)\n"
   ]
  },
  {
   "cell_type": "code",
   "execution_count": 193,
   "metadata": {
    "tags": []
   },
   "outputs": [],
   "source": [
    "# create a list of dataframes from the objects created above\n",
    "dataframes = [\n",
    "              non_text_features_dummies,\n",
    "              non_text_BoW_features]\n",
    "\n",
    "\n",
    "# create a list of labeles based on the objects created above\n",
    "featurization_technique = [\n",
    "                           'Non-Text Features',\n",
    "                           'Non-Text + BoW',\n",
    "                           ]\n"
   ]
  },
  {
   "cell_type": "code",
   "execution_count": 194,
   "metadata": {
    "tags": []
   },
   "outputs": [
    {
     "data": {
      "text/plain": [
       "1000"
      ]
     },
     "execution_count": 194,
     "metadata": {},
     "output_type": "execute_result"
    }
   ],
   "source": [
    "len(non_text_features_dummies)"
   ]
  },
  {
   "cell_type": "code",
   "execution_count": 195,
   "metadata": {
    "tags": []
   },
   "outputs": [
    {
     "data": {
      "text/plain": [
       "1000"
      ]
     },
     "execution_count": 195,
     "metadata": {},
     "output_type": "execute_result"
    }
   ],
   "source": [
    "len(non_text_BoW_features)"
   ]
  },
  {
   "cell_type": "code",
   "execution_count": 196,
   "metadata": {
    "tags": []
   },
   "outputs": [
    {
     "data": {
      "text/plain": [
       "1000"
      ]
     },
     "execution_count": 196,
     "metadata": {},
     "output_type": "execute_result"
    }
   ],
   "source": [
    "len(congress_tweets)"
   ]
  },
  {
   "cell_type": "code",
   "execution_count": 197,
   "metadata": {
    "tags": []
   },
   "outputs": [
    {
     "data": {
      "text/plain": [
       "1000"
      ]
     },
     "execution_count": 197,
     "metadata": {},
     "output_type": "execute_result"
    }
   ],
   "source": [
    "len(y)"
   ]
  },
  {
   "cell_type": "code",
   "execution_count": 198,
   "metadata": {
    "tags": []
   },
   "outputs": [],
   "source": [
    "# model initalization and fit\n",
    "# --------\n",
    "\n",
    "# initalize binarizer\n",
    "lb_style = LabelBinarizer()\n",
    "\n",
    "# fit LabelBinarizer to our data\n",
    "y = congress_tweets['position_binary'] = lb_style.fit_transform(congress_tweets[\"position\"])"
   ]
  },
  {
   "cell_type": "code",
   "execution_count": 199,
   "metadata": {
    "tags": []
   },
   "outputs": [
    {
     "data": {
      "image/png": "[encoded data removed]",
      "text/plain": [
       "<Figure size 1000x700 with 2 Axes>"
      ]
     },
     "metadata": {},
     "output_type": "display_data"
    },
    {
     "data": {
      "image/png": "[encoded data removed]",
      "text/plain": [
       "<Figure size 1000x700 with 2 Axes>"
      ]
     },
     "metadata": {},
     "output_type": "display_data"
    }
   ],
   "source": [
    "# loop over each dataframe, apply a logit classification model, and create a confusion matrix\n",
    "# --------\n",
    "for dataframe, featurization in zip(dataframes, featurization_technique):\n",
    "    \n",
    "    # changing column names to strings because some are integer\n",
    "    dataframe.columns = dataframe.columns.astype(str) \n",
    "    \n",
    "    # split data\n",
    "    # ----------\n",
    "    X_train, X_test, y_train, y_test = train_test_split(dataframe,         # specify features\n",
    "                                                        y,                 # specify labels\n",
    "                                                        train_size = .80,  # specify train split of 80%\n",
    "                                                        test_size=0.20,    # specify test split of 20%\n",
    "                                                        random_state = 10) # set seed for reproducibility\n",
    "    # apply Logit model \n",
    "    # ----------\n",
    "    # initalize Logit model \n",
    "    logit_reg = LogisticRegression() # set max_iter = 500\n",
    "\n",
    "    # fit the model to our data\n",
    "    logit_model = logit_reg.fit(X_train,         # specify feature data\n",
    "                                y_train.ravel()) # specify label data --- don't forget to ravel the label dataset\n",
    "\n",
    "    # predict on test set\n",
    "    y_pred = logit_model.predict(X_test)\n",
    "    \n",
    "    # create a confusion matrix\n",
    "    # ----------\n",
    "    cf_matrix = confusion_matrix(y_test,             # specify test\n",
    "                                 y_pred,             # specify predicted\n",
    "                                 normalize = \"pred\") # normalize\n",
    "\n",
    "    # create a pandas dataframe from the confusion matrix for visualization \n",
    "    df_cm = pd.DataFrame(cf_matrix,          # specify cf_matrix from which to create dataframe \n",
    "                         range(2), range(2)) # set 2 by 2 \n",
    "\n",
    "    # set confusion matrix indices for clarity of visualization\n",
    "    df_cm = df_cm.rename(index=str, \n",
    "                         columns={0: \"Sen\", \n",
    "                                  1: \"Rep\"})\n",
    "\n",
    "    # specify confusion matrix index for clarity\n",
    "    df_cm.index = [\"Sen\", \"Rep\"]\n",
    "    \n",
    "    # figure specifications \n",
    "    plt.figure(figsize = (10,7)) # set figure size specifications\n",
    "    sns.set(font_scale=1.4)      # set label size\n",
    "    sns.heatmap(df_cm,           # specify dataset\n",
    "                annot=True,    \n",
    "                annot_kws={\"size\": 16},\n",
    "                fmt='g')\n",
    "    \n",
    "    # figure labels\n",
    "    plt.title(featurization)\n",
    "    plt.xlabel(\"Predicted Label\")\n",
    "    plt.ylabel(\"True Label\")\n",
    "    plt.show()"
   ]
  },
  {
   "cell_type": "markdown",
   "metadata": {},
   "source": [
    "## Discussion Questions"
   ]
  },
  {
   "cell_type": "markdown",
   "metadata": {},
   "source": [
    "1. Why do standard preprocessing techniques need to be further customized to a particular corpus?"
   ]
  },
  {
   "cell_type": "markdown",
   "metadata": {},
   "source": [
    "Each corpus may have it's own domain-specific vocabulary, or jargon that may not be in the standard preprocessing techniques. It may also have special characters, for example, our corpus of tweets contained a lot of links, so removing those links required special attention. Language differences may also apply. Taking these factors into account when customizing preprocessing techniques can optimize NLP performance."
   ]
  },
  {
   "cell_type": "markdown",
   "metadata": {},
   "source": [
    "2. Did you find evidence for the idea that Democrats and Republicans have different sentiments in their tweets? What about Senators and Representatives?"
   ]
  },
  {
   "cell_type": "markdown",
   "metadata": {},
   "source": [
    "When examining Democratic congressperson Nancy Pelosi's tweets compared to a Republican congressperson, Pelosi's tweets scored lower on polarity. Between Senators and Representatives, there does not seem to be much difference besides Representatives having more variance."
   ]
  },
  {
   "cell_type": "markdown",
   "metadata": {},
   "source": [
    "3. Why is validating your exploratory and unsupervised learning approaches with a supervised learning algorithm valuable?"
   ]
  },
  {
   "cell_type": "markdown",
   "metadata": {},
   "source": [
    "Supervised learning approaches can tell the researcher how/if patterns from the unsupervised methods capture topics of interest. Unsupervised learning approaches do not take the meaning of words into account. Using supervised learning can help make your results relevant to your research questions."
   ]
  },
  {
   "cell_type": "markdown",
   "metadata": {},
   "source": [
    "4. Did text only, non-text only, or text and non-text features together perform the best? What is the intuition behind combining text and non-text features in a supervised learning algorithm?"
   ]
  },
  {
   "cell_type": "markdown",
   "metadata": {},
   "source": [
    "The non-text and text w/ non-text performed the best. This indicates that the non-text features were highly predictive of the outcomes we were trying to predict-- this makes sense, given that the non-text features here were very political. The intuition behind combining text and non-text features is that there is valuable information in both that are unique."
   ]
  }
 ],
 "metadata": {
  "kernelspec": {
   "display_name": "Python 3 (ipykernel)",
   "language": "python",
   "name": "python3"
  },
  "language_info": {
   "codemirror_mode": {
    "name": "ipython",
    "version": 3
   },
   "file_extension": ".py",
   "mimetype": "text/x-python",
   "name": "python",
   "nbconvert_exporter": "python",
   "pygments_lexer": "ipython3",
   "version": "3.11.4"
  }
 },
 "nbformat": 4,
 "nbformat_minor": 4
}
